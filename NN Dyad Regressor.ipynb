{
 "cells": [
  {
   "cell_type": "code",
   "execution_count": null,
   "outputs": [],
   "source": [
    "import pandas as pd\n",
    "import os\n",
    "\n",
    "dyad_df = pd.read_parquet('data_dyad_monthly_v0.6.parquet')"
   ],
   "metadata": {
    "collapsed": false
   },
   "id": "3e77421777d05a35"
  },
  {
   "cell_type": "code",
   "execution_count": 222,
   "id": "initial_id",
   "metadata": {
    "collapsed": true,
    "ExecuteTime": {
     "end_time": "2024-03-26T17:49:39.890118Z",
     "start_time": "2024-03-26T17:49:34.806419Z"
    }
   },
   "outputs": [],
   "source": [
    "\n",
    "train_dyad_df = pd.read_parquet('data_dyad_monthly_nn/train_df_2019.parquet')\n",
    "tests_dyad_df = pd.read_parquet('data_dyad_monthly_nn/test_df_2019.parquet')"
   ]
  },
  {
   "cell_type": "code",
   "execution_count": 224,
   "outputs": [
    {
     "name": "stdout",
     "output_type": "stream",
     "text": [
      "<DatetimeArray>\n",
      "['2017-01-01 00:00:00', '2017-02-01 00:00:00', '2017-03-01 00:00:00',\n",
      " '2017-04-01 00:00:00', '2017-05-01 00:00:00', '2017-06-01 00:00:00',\n",
      " '2017-07-01 00:00:00', '2017-08-01 00:00:00', '2017-09-01 00:00:00',\n",
      " '2017-10-01 00:00:00']\n",
      "Length: 10, dtype: datetime64[ns]\n",
      "<DatetimeArray>\n",
      "['2017-11-01 00:00:00', '2017-12-01 00:00:00']\n",
      "Length: 2, dtype: datetime64[ns]\n",
      "181450\n",
      "36290\n"
     ]
    }
   ],
   "source": [
    "# print all unique months\n",
    "# print(tests_dyad_df['date'].unique())\n",
    "# get train dataset to be '2017-09-01 00:00:00', '2017-10-01 00:00:00' dates\n",
    "train_dyad_df = train_dyad_df[train_dyad_df['date'] >= '2017-01-01 00:00:00']\n",
    "tests_dyad_df = tests_dyad_df[\n",
    "    (tests_dyad_df['date'] >= '2017-11-01 00:00:00') & (tests_dyad_df['date'] <= '2017-12-01 00:00:00')]\n",
    "print(train_dyad_df['date'].unique())\n",
    "print(tests_dyad_df['date'].unique())\n",
    "print(len(train_dyad_df))\n",
    "print(len(tests_dyad_df))"
   ],
   "metadata": {
    "collapsed": false,
    "ExecuteTime": {
     "end_time": "2024-03-26T17:50:31.625645Z",
     "start_time": "2024-03-26T17:50:31.132497Z"
    }
   },
   "id": "6ec5556f63852aa6"
  },
  {
   "cell_type": "code",
   "execution_count": 225,
   "outputs": [
    {
     "data": {
      "text/plain": "         month_id       date  country_id_a  country_id_b  a_ged_sb  b_ged_sb  \\\n60            445 2017-01-01             1             2       0.0       0.0   \n61            446 2017-02-01             1             2       0.0       0.0   \n62            447 2017-03-01             1             2       0.0       0.0   \n63            448 2017-04-01             1             2       0.0       0.0   \n64            449 2017-05-01             1             2       0.0       0.0   \n...           ...        ...           ...           ...       ...       ...   \n2141057       450 2017-06-01           245           246       3.0      32.0   \n2141058       451 2017-07-01           245           246       0.0      33.0   \n2141059       452 2017-08-01           245           246       0.0      20.0   \n2141060       453 2017-09-01           245           246      19.0      32.0   \n2141061       454 2017-10-01           245           246       0.0      19.0   \n\n        a_country_name b_country_name  a_gleditsch_ward  b_gleditsch_ward  \\\n60              Guyana       Suriname               110               115   \n61              Guyana       Suriname               110               115   \n62              Guyana       Suriname               110               115   \n63              Guyana       Suriname               110               115   \n64              Guyana       Suriname               110               115   \n...                ...            ...               ...               ...   \n2141057          Sudan    South Sudan               625               626   \n2141058          Sudan    South Sudan               625               626   \n2141059          Sudan    South Sudan               625               626   \n2141060          Sudan    South Sudan               625               626   \n2141061          Sudan    South Sudan               625               626   \n\n         ...  b_splag_1_decay_ged_sb_5  b_splag_1_decay_ged_os_5  \\\n60       ...                 -0.847668                 -0.691402   \n61       ...                 -0.847668                 -0.693740   \n62       ...                 -0.847668                 -0.696011   \n63       ...                 -0.847668                 -0.698218   \n64       ...                 -0.847668                 -0.700361   \n...      ...                       ...                       ...   \n2141057  ...                  2.405110                  3.122667   \n2141058  ...                  2.350338                  3.076546   \n2141059  ...                  2.297124                  3.183799   \n2141060  ...                  2.245426                  3.237953   \n2141061  ...                  2.248771                  3.251518   \n\n         b_splag_1_decay_ged_ns_5  ratio_wdi_sp_pop_totl  ratio_ged_sb  \\\n60                       0.144055              -0.037113     -0.090293   \n61                       0.192464              -0.037113     -0.090293   \n62                       0.167910              -0.037113     -0.090293   \n63                       0.192464              -0.037113     -0.090293   \n64                       0.192464              -0.037113     -0.090293   \n...                           ...                    ...           ...   \n2141057                  4.140945              -0.037113     -0.089747   \n2141058                  4.102202              -0.037113     -0.090293   \n2141059                  4.040007              -0.037113     -0.090293   \n2141060                  3.979584              -0.037113     -0.086833   \n2141061                  4.121293              -0.037113     -0.090293   \n\n         ratio_wdi_sp_dyn_imrt_in  ratio_vdem_v2x_ex_military  \\\n60                      -0.230622                   -0.440838   \n61                      -0.230622                   -0.440838   \n62                      -0.230622                   -0.440838   \n63                      -0.230622                   -0.440838   \n64                      -0.230622                   -0.440838   \n...                           ...                         ...   \n2141057                 -0.360734                   -0.006209   \n2141058                 -0.360734                   -0.006209   \n2141059                 -0.360734                   -0.006209   \n2141060                 -0.360734                   -0.006209   \n2141061                 -0.360734                   -0.006209   \n\n         ratio_wdi_ms_mil_xpnd_zs  a_ged_sb_15_shifted  b_ged_sb_15_shifted  \n60                       0.413936            -0.100619            -0.106359  \n61                       0.413936            -0.100619            -0.106359  \n62                       0.413936            -0.100619            -0.106359  \n63                       0.413936            -0.100619            -0.106359  \n64                       0.413936            -0.100619            -0.106359  \n...                           ...                  ...                  ...  \n2141057                  0.133004             0.158634            -0.059945  \n2141058                  0.133004            -0.079879            -0.097076  \n2141059                  0.133004             0.132709            -0.106359  \n2141060                  0.133004            -0.053954            -0.033953  \n2141061                  0.133004            -0.074694            -0.035809  \n\n[181450 rows x 645 columns]",
      "text/html": "<div>\n<style scoped>\n    .dataframe tbody tr th:only-of-type {\n        vertical-align: middle;\n    }\n\n    .dataframe tbody tr th {\n        vertical-align: top;\n    }\n\n    .dataframe thead th {\n        text-align: right;\n    }\n</style>\n<table border=\"1\" class=\"dataframe\">\n  <thead>\n    <tr style=\"text-align: right;\">\n      <th></th>\n      <th>month_id</th>\n      <th>date</th>\n      <th>country_id_a</th>\n      <th>country_id_b</th>\n      <th>a_ged_sb</th>\n      <th>b_ged_sb</th>\n      <th>a_country_name</th>\n      <th>b_country_name</th>\n      <th>a_gleditsch_ward</th>\n      <th>b_gleditsch_ward</th>\n      <th>...</th>\n      <th>b_splag_1_decay_ged_sb_5</th>\n      <th>b_splag_1_decay_ged_os_5</th>\n      <th>b_splag_1_decay_ged_ns_5</th>\n      <th>ratio_wdi_sp_pop_totl</th>\n      <th>ratio_ged_sb</th>\n      <th>ratio_wdi_sp_dyn_imrt_in</th>\n      <th>ratio_vdem_v2x_ex_military</th>\n      <th>ratio_wdi_ms_mil_xpnd_zs</th>\n      <th>a_ged_sb_15_shifted</th>\n      <th>b_ged_sb_15_shifted</th>\n    </tr>\n  </thead>\n  <tbody>\n    <tr>\n      <th>60</th>\n      <td>445</td>\n      <td>2017-01-01</td>\n      <td>1</td>\n      <td>2</td>\n      <td>0.0</td>\n      <td>0.0</td>\n      <td>Guyana</td>\n      <td>Suriname</td>\n      <td>110</td>\n      <td>115</td>\n      <td>...</td>\n      <td>-0.847668</td>\n      <td>-0.691402</td>\n      <td>0.144055</td>\n      <td>-0.037113</td>\n      <td>-0.090293</td>\n      <td>-0.230622</td>\n      <td>-0.440838</td>\n      <td>0.413936</td>\n      <td>-0.100619</td>\n      <td>-0.106359</td>\n    </tr>\n    <tr>\n      <th>61</th>\n      <td>446</td>\n      <td>2017-02-01</td>\n      <td>1</td>\n      <td>2</td>\n      <td>0.0</td>\n      <td>0.0</td>\n      <td>Guyana</td>\n      <td>Suriname</td>\n      <td>110</td>\n      <td>115</td>\n      <td>...</td>\n      <td>-0.847668</td>\n      <td>-0.693740</td>\n      <td>0.192464</td>\n      <td>-0.037113</td>\n      <td>-0.090293</td>\n      <td>-0.230622</td>\n      <td>-0.440838</td>\n      <td>0.413936</td>\n      <td>-0.100619</td>\n      <td>-0.106359</td>\n    </tr>\n    <tr>\n      <th>62</th>\n      <td>447</td>\n      <td>2017-03-01</td>\n      <td>1</td>\n      <td>2</td>\n      <td>0.0</td>\n      <td>0.0</td>\n      <td>Guyana</td>\n      <td>Suriname</td>\n      <td>110</td>\n      <td>115</td>\n      <td>...</td>\n      <td>-0.847668</td>\n      <td>-0.696011</td>\n      <td>0.167910</td>\n      <td>-0.037113</td>\n      <td>-0.090293</td>\n      <td>-0.230622</td>\n      <td>-0.440838</td>\n      <td>0.413936</td>\n      <td>-0.100619</td>\n      <td>-0.106359</td>\n    </tr>\n    <tr>\n      <th>63</th>\n      <td>448</td>\n      <td>2017-04-01</td>\n      <td>1</td>\n      <td>2</td>\n      <td>0.0</td>\n      <td>0.0</td>\n      <td>Guyana</td>\n      <td>Suriname</td>\n      <td>110</td>\n      <td>115</td>\n      <td>...</td>\n      <td>-0.847668</td>\n      <td>-0.698218</td>\n      <td>0.192464</td>\n      <td>-0.037113</td>\n      <td>-0.090293</td>\n      <td>-0.230622</td>\n      <td>-0.440838</td>\n      <td>0.413936</td>\n      <td>-0.100619</td>\n      <td>-0.106359</td>\n    </tr>\n    <tr>\n      <th>64</th>\n      <td>449</td>\n      <td>2017-05-01</td>\n      <td>1</td>\n      <td>2</td>\n      <td>0.0</td>\n      <td>0.0</td>\n      <td>Guyana</td>\n      <td>Suriname</td>\n      <td>110</td>\n      <td>115</td>\n      <td>...</td>\n      <td>-0.847668</td>\n      <td>-0.700361</td>\n      <td>0.192464</td>\n      <td>-0.037113</td>\n      <td>-0.090293</td>\n      <td>-0.230622</td>\n      <td>-0.440838</td>\n      <td>0.413936</td>\n      <td>-0.100619</td>\n      <td>-0.106359</td>\n    </tr>\n    <tr>\n      <th>...</th>\n      <td>...</td>\n      <td>...</td>\n      <td>...</td>\n      <td>...</td>\n      <td>...</td>\n      <td>...</td>\n      <td>...</td>\n      <td>...</td>\n      <td>...</td>\n      <td>...</td>\n      <td>...</td>\n      <td>...</td>\n      <td>...</td>\n      <td>...</td>\n      <td>...</td>\n      <td>...</td>\n      <td>...</td>\n      <td>...</td>\n      <td>...</td>\n      <td>...</td>\n      <td>...</td>\n    </tr>\n    <tr>\n      <th>2141057</th>\n      <td>450</td>\n      <td>2017-06-01</td>\n      <td>245</td>\n      <td>246</td>\n      <td>3.0</td>\n      <td>32.0</td>\n      <td>Sudan</td>\n      <td>South Sudan</td>\n      <td>625</td>\n      <td>626</td>\n      <td>...</td>\n      <td>2.405110</td>\n      <td>3.122667</td>\n      <td>4.140945</td>\n      <td>-0.037113</td>\n      <td>-0.089747</td>\n      <td>-0.360734</td>\n      <td>-0.006209</td>\n      <td>0.133004</td>\n      <td>0.158634</td>\n      <td>-0.059945</td>\n    </tr>\n    <tr>\n      <th>2141058</th>\n      <td>451</td>\n      <td>2017-07-01</td>\n      <td>245</td>\n      <td>246</td>\n      <td>0.0</td>\n      <td>33.0</td>\n      <td>Sudan</td>\n      <td>South Sudan</td>\n      <td>625</td>\n      <td>626</td>\n      <td>...</td>\n      <td>2.350338</td>\n      <td>3.076546</td>\n      <td>4.102202</td>\n      <td>-0.037113</td>\n      <td>-0.090293</td>\n      <td>-0.360734</td>\n      <td>-0.006209</td>\n      <td>0.133004</td>\n      <td>-0.079879</td>\n      <td>-0.097076</td>\n    </tr>\n    <tr>\n      <th>2141059</th>\n      <td>452</td>\n      <td>2017-08-01</td>\n      <td>245</td>\n      <td>246</td>\n      <td>0.0</td>\n      <td>20.0</td>\n      <td>Sudan</td>\n      <td>South Sudan</td>\n      <td>625</td>\n      <td>626</td>\n      <td>...</td>\n      <td>2.297124</td>\n      <td>3.183799</td>\n      <td>4.040007</td>\n      <td>-0.037113</td>\n      <td>-0.090293</td>\n      <td>-0.360734</td>\n      <td>-0.006209</td>\n      <td>0.133004</td>\n      <td>0.132709</td>\n      <td>-0.106359</td>\n    </tr>\n    <tr>\n      <th>2141060</th>\n      <td>453</td>\n      <td>2017-09-01</td>\n      <td>245</td>\n      <td>246</td>\n      <td>19.0</td>\n      <td>32.0</td>\n      <td>Sudan</td>\n      <td>South Sudan</td>\n      <td>625</td>\n      <td>626</td>\n      <td>...</td>\n      <td>2.245426</td>\n      <td>3.237953</td>\n      <td>3.979584</td>\n      <td>-0.037113</td>\n      <td>-0.086833</td>\n      <td>-0.360734</td>\n      <td>-0.006209</td>\n      <td>0.133004</td>\n      <td>-0.053954</td>\n      <td>-0.033953</td>\n    </tr>\n    <tr>\n      <th>2141061</th>\n      <td>454</td>\n      <td>2017-10-01</td>\n      <td>245</td>\n      <td>246</td>\n      <td>0.0</td>\n      <td>19.0</td>\n      <td>Sudan</td>\n      <td>South Sudan</td>\n      <td>625</td>\n      <td>626</td>\n      <td>...</td>\n      <td>2.248771</td>\n      <td>3.251518</td>\n      <td>4.121293</td>\n      <td>-0.037113</td>\n      <td>-0.090293</td>\n      <td>-0.360734</td>\n      <td>-0.006209</td>\n      <td>0.133004</td>\n      <td>-0.074694</td>\n      <td>-0.035809</td>\n    </tr>\n  </tbody>\n</table>\n<p>181450 rows × 645 columns</p>\n</div>"
     },
     "execution_count": 225,
     "metadata": {},
     "output_type": "execute_result"
    }
   ],
   "source": [
    "train_dyad_df"
   ],
   "metadata": {
    "collapsed": false,
    "ExecuteTime": {
     "end_time": "2024-03-26T17:50:31.685224Z",
     "start_time": "2024-03-26T17:50:31.628136Z"
    }
   },
   "id": "8f1cd5cde28453b9"
  },
  {
   "cell_type": "code",
   "execution_count": 226,
   "outputs": [
    {
     "data": {
      "text/plain": "      month_id  country_id  outcome       date\n0          469           1   30.687 2019-01-01\n1          469           2   15.771 2019-01-01\n2          469           3   17.758 2019-01-01\n3          469           4   17.323 2019-01-01\n4          469           5   14.683 2019-01-01\n...        ...         ...      ...        ...\n2287       480         242   18.344 2019-12-01\n2288       480         243   19.228 2019-12-01\n2289       480         244   24.573 2019-12-01\n2290       480         245   31.771 2019-12-01\n2291       480         246   12.313 2019-12-01\n\n[2292 rows x 4 columns]",
      "text/html": "<div>\n<style scoped>\n    .dataframe tbody tr th:only-of-type {\n        vertical-align: middle;\n    }\n\n    .dataframe tbody tr th {\n        vertical-align: top;\n    }\n\n    .dataframe thead th {\n        text-align: right;\n    }\n</style>\n<table border=\"1\" class=\"dataframe\">\n  <thead>\n    <tr style=\"text-align: right;\">\n      <th></th>\n      <th>month_id</th>\n      <th>country_id</th>\n      <th>outcome</th>\n      <th>date</th>\n    </tr>\n  </thead>\n  <tbody>\n    <tr>\n      <th>0</th>\n      <td>469</td>\n      <td>1</td>\n      <td>30.687</td>\n      <td>2019-01-01</td>\n    </tr>\n    <tr>\n      <th>1</th>\n      <td>469</td>\n      <td>2</td>\n      <td>15.771</td>\n      <td>2019-01-01</td>\n    </tr>\n    <tr>\n      <th>2</th>\n      <td>469</td>\n      <td>3</td>\n      <td>17.758</td>\n      <td>2019-01-01</td>\n    </tr>\n    <tr>\n      <th>3</th>\n      <td>469</td>\n      <td>4</td>\n      <td>17.323</td>\n      <td>2019-01-01</td>\n    </tr>\n    <tr>\n      <th>4</th>\n      <td>469</td>\n      <td>5</td>\n      <td>14.683</td>\n      <td>2019-01-01</td>\n    </tr>\n    <tr>\n      <th>...</th>\n      <td>...</td>\n      <td>...</td>\n      <td>...</td>\n      <td>...</td>\n    </tr>\n    <tr>\n      <th>2287</th>\n      <td>480</td>\n      <td>242</td>\n      <td>18.344</td>\n      <td>2019-12-01</td>\n    </tr>\n    <tr>\n      <th>2288</th>\n      <td>480</td>\n      <td>243</td>\n      <td>19.228</td>\n      <td>2019-12-01</td>\n    </tr>\n    <tr>\n      <th>2289</th>\n      <td>480</td>\n      <td>244</td>\n      <td>24.573</td>\n      <td>2019-12-01</td>\n    </tr>\n    <tr>\n      <th>2290</th>\n      <td>480</td>\n      <td>245</td>\n      <td>31.771</td>\n      <td>2019-12-01</td>\n    </tr>\n    <tr>\n      <th>2291</th>\n      <td>480</td>\n      <td>246</td>\n      <td>12.313</td>\n      <td>2019-12-01</td>\n    </tr>\n  </tbody>\n</table>\n<p>2292 rows × 4 columns</p>\n</div>"
     },
     "execution_count": 226,
     "metadata": {},
     "output_type": "execute_result"
    }
   ],
   "source": [
    "from utilities import views_month_id_to_date\n",
    "\n",
    "# load benchmark model\n",
    "prediction_year = 2019\n",
    "model_names = {\n",
    "    \"bootstrap\": \"bm_cm_bootstrap_expanded_\",\n",
    "    \"poisson\": \"bm_cm_last_historical_poisson_expanded_\",\n",
    "}\n",
    "benchmark_model = pd.read_parquet(f'Benchmarks/{model_names[\"bootstrap\"]}{prediction_year}.parquet')\n",
    "# there is 20 draws per each country per each month. Get the mean of the draws\n",
    "benchmark_model = benchmark_model.groupby(['month_id', 'country_id']).mean().reset_index()\n",
    "# add date column\n",
    "benchmark_model['date'] = views_month_id_to_date(benchmark_model['month_id'])\n",
    "benchmark_model"
   ],
   "metadata": {
    "collapsed": false,
    "ExecuteTime": {
     "end_time": "2024-03-26T17:50:31.819991Z",
     "start_time": "2024-03-26T17:50:31.663572Z"
    }
   },
   "id": "6a10c974bc9deda"
  },
  {
   "cell_type": "code",
   "execution_count": 227,
   "outputs": [],
   "source": [
    "from sklearn.preprocessing import OneHotEncoder\n",
    "\n",
    "# encoder = OneHotEncoder(handle_unknown='ignore', sparse=False)\n",
    "# countries_encoded = encoder.fit_transform(dyad_df[['country_id_a', 'country_id_b']])\n",
    "# countries_encoded = encoder.transform(dyad_df[['country_id_a', 'country_id_b']])\n",
    "# countries_encoded = pd.DataFrame(countries_encoded, columns=encoder.get_feature_names(['country_id_a', 'country_id_b']))\n",
    "# countries_encoded\n",
    "# trasnform country_id_a and country_id_b to one hot encoding and remove the original columns\n",
    "# country_a_and_b_ids = dyad_df[dyad_df['country_id_a'], dyad_df['country_id_b']]\n",
    "\n",
    "\n",
    "# country_a_and_b_ids = dyad_df[['country_id_a', 'country_id_b']]\n",
    "# dyad_df = pd.get_dummies(dyad_df, columns=['country_id_a', 'country_id_b'], drop_first=False, dtype=int)\n",
    "# # merge back country_id_a and country_id_b\n",
    "# dyad_df = pd.concat([dyad_df, country_a_and_b_ids], axis=1)\n",
    "# dyad_df"
   ],
   "metadata": {
    "collapsed": false,
    "ExecuteTime": {
     "end_time": "2024-03-26T17:50:31.820108Z",
     "start_time": "2024-03-26T17:50:31.814783Z"
    }
   },
   "id": "ab765c634db1b38"
  },
  {
   "cell_type": "code",
   "execution_count": 228,
   "outputs": [
    {
     "name": "stdout",
     "output_type": "stream",
     "text": [
      "feature_columns:  ['a_ged_ns', 'a_ged_os', 'a_acled_sb', 'a_acled_sb_count', 'a_acled_os', 'a_ged_sb_tsum_24', 'a_wdi_sp_pop_totl', 'a_ged_sb_tlag_1', 'a_ged_sb_tlag_2', 'a_ged_sb_tlag_3', 'a_ged_sb_tlag_4', 'a_ged_sb_tlag_5', 'a_ged_sb_tlag_6', 'a_ged_os_tlag_1', 'a_wdi_ag_lnd_frst_k2', 'a_wdi_dt_oda_odat_pc_zs', 'a_wdi_ms_mil_xpnd_gd_zs', 'a_wdi_ms_mil_xpnd_zs', 'a_wdi_nv_agr_totl_kd', 'a_wdi_nv_agr_totl_kn', 'a_wdi_ny_gdp_pcap_kd', 'a_wdi_sp_dyn_le00_in', 'a_wdi_se_enr_prim_fm_zs', 'a_wdi_se_enr_prsc_fm_zs', 'a_wdi_se_prm_nenr', 'a_wdi_sh_sta_maln_zs', 'a_wdi_sh_sta_stnt_zs', 'a_wdi_sl_tlf_totl_fe_zs', 'a_wdi_sm_pop_refg_or', 'a_wdi_sm_pop_netm', 'a_wdi_sm_pop_totl_zs', 'a_wdi_sp_dyn_imrt_in', 'a_wdi_sh_dyn_mort_fe', 'a_wdi_sp_pop_14_fe_zs', 'a_wdi_sp_pop_1564_fe_zs', 'a_wdi_sp_pop_65up_fe_zs', 'a_wdi_sp_pop_grow', 'a_wdi_sp_urb_totl_in_zs', 'a_splag_wdi_sl_tlf_totl_fe_zs', 'a_splag_wdi_sm_pop_refg_or', 'a_splag_wdi_sm_pop_netm', 'a_splag_wdi_ag_lnd_frst_k2', 'a_vdem_v2x_delibdem', 'a_vdem_v2x_egaldem', 'a_vdem_v2x_libdem', 'a_vdem_v2x_libdem_48', 'a_vdem_v2x_partip', 'a_vdem_v2x_partipdem', 'a_vdem_v2x_accountability', 'a_vdem_v2x_civlib', 'a_vdem_v2x_clphy', 'a_vdem_v2x_cspart', 'a_vdem_v2x_divparctrl', 'a_vdem_v2x_edcomp_thick', 'a_vdem_v2x_egal', 'a_vdem_v2x_execorr', 'a_vdem_v2x_frassoc_thick', 'a_vdem_v2x_gencs', 'a_vdem_v2x_gender', 'a_vdem_v2x_genpp', 'a_vdem_v2x_horacc', 'a_vdem_v2x_neopat', 'a_vdem_v2x_pubcorr', 'a_vdem_v2x_rule', 'a_vdem_v2x_veracc', 'a_vdem_v2x_ex_military', 'a_vdem_v2x_ex_party', 'a_vdem_v2x_freexp', 'a_vdem_v2xcl_acjst', 'a_vdem_v2xcl_dmove', 'a_vdem_v2xcl_prpty', 'a_vdem_v2xcl_rol', 'a_vdem_v2xcl_slave', 'a_vdem_v2xdd_dd', 'a_vdem_v2xdl_delib', 'a_vdem_v2xeg_eqdr', 'a_vdem_v2xeg_eqprotec', 'a_vdem_v2xel_frefair', 'a_vdem_v2xel_regelec', 'a_vdem_v2xme_altinf', 'a_vdem_v2xnp_client', 'a_vdem_v2xnp_regcorr', 'a_vdem_v2xpe_exlecon', 'a_vdem_v2xpe_exlpol', 'a_vdem_v2xpe_exlgeo', 'a_vdem_v2xpe_exlgender', 'a_vdem_v2xpe_exlsocgr', 'a_vdem_v2xps_party', 'a_vdem_v2xcs_ccsi', 'a_vdem_v2xnp_pres', 'a_vdem_v2xeg_eqaccess', 'a_vdem_v2x_diagacc', 'a_vdem_v2clrgunev', 'a_splag_vdem_v2x_libdem', 'a_splag_vdem_v2xcl_dmove', 'a_splag_vdem_v2x_accountability', 'a_splag_vdem_v2xpe_exlsocgr', 'a_splag_vdem_v2xcl_rol', 'a__wdi_sm_pop_netm', 'a__wdi_sp_dyn_imrt_in', 'a_decay_ged_sb_5', 'a_decay_ged_os_5', 'a_decay_ged_sb_100', 'a_decay_ged_sb_500', 'a_decay_ged_os_100', 'a_decay_ged_ns_5', 'a_decay_ged_ns_100', 'a_decay_acled_sb_5', 'a_decay_acled_os_5', 'a_decay_acled_ns_5', 'a_agr_withdrawal_pct_t48', 'a_dam_cap_pcap_t48', 'a_groundwater_export_t48', 'a_fresh_withdrawal_pct_t48', 'a_ind_efficiency_t48', 'a_irr_agr_efficiency_t48', 'a_services_efficiency_t48', 'a_general_efficiency_t48', 'a_water_stress_t48', 'a_renewable_internal_pcap_t48', 'a_renewable_pcap_t48', 'a_splag_1_decay_ged_sb_5', 'a_splag_1_decay_ged_os_5', 'a_splag_1_decay_ged_ns_5', 'b_ged_ns', 'b_ged_os', 'b_acled_sb', 'b_acled_sb_count', 'b_acled_os', 'b_ged_sb_tsum_24', 'b_wdi_sp_pop_totl', 'b_ged_sb_tlag_1', 'b_ged_sb_tlag_2', 'b_ged_sb_tlag_3', 'b_ged_sb_tlag_4', 'b_ged_sb_tlag_5', 'b_ged_sb_tlag_6', 'b_ged_os_tlag_1', 'b_wdi_ag_lnd_frst_k2', 'b_wdi_dt_oda_odat_pc_zs', 'b_wdi_ms_mil_xpnd_gd_zs', 'b_wdi_ms_mil_xpnd_zs', 'b_wdi_nv_agr_totl_kd', 'b_wdi_nv_agr_totl_kn', 'b_wdi_ny_gdp_pcap_kd', 'b_wdi_sp_dyn_le00_in', 'b_wdi_se_enr_prim_fm_zs', 'b_wdi_se_enr_prsc_fm_zs', 'b_wdi_se_prm_nenr', 'b_wdi_sh_sta_maln_zs', 'b_wdi_sh_sta_stnt_zs', 'b_wdi_sl_tlf_totl_fe_zs', 'b_wdi_sm_pop_refg_or', 'b_wdi_sm_pop_netm', 'b_wdi_sm_pop_totl_zs', 'b_wdi_sp_dyn_imrt_in', 'b_wdi_sh_dyn_mort_fe', 'b_wdi_sp_pop_14_fe_zs', 'b_wdi_sp_pop_1564_fe_zs', 'b_wdi_sp_pop_65up_fe_zs', 'b_wdi_sp_pop_grow', 'b_wdi_sp_urb_totl_in_zs', 'b_splag_wdi_sl_tlf_totl_fe_zs', 'b_splag_wdi_sm_pop_refg_or', 'b_splag_wdi_sm_pop_netm', 'b_splag_wdi_ag_lnd_frst_k2', 'b_vdem_v2x_delibdem', 'b_vdem_v2x_egaldem', 'b_vdem_v2x_libdem', 'b_vdem_v2x_libdem_48', 'b_vdem_v2x_partip', 'b_vdem_v2x_partipdem', 'b_vdem_v2x_accountability', 'b_vdem_v2x_civlib', 'b_vdem_v2x_clphy', 'b_vdem_v2x_cspart', 'b_vdem_v2x_divparctrl', 'b_vdem_v2x_edcomp_thick', 'b_vdem_v2x_egal', 'b_vdem_v2x_execorr', 'b_vdem_v2x_frassoc_thick', 'b_vdem_v2x_gencs', 'b_vdem_v2x_gender', 'b_vdem_v2x_genpp', 'b_vdem_v2x_horacc', 'b_vdem_v2x_neopat', 'b_vdem_v2x_pubcorr', 'b_vdem_v2x_rule', 'b_vdem_v2x_veracc', 'b_vdem_v2x_ex_military', 'b_vdem_v2x_ex_party', 'b_vdem_v2x_freexp', 'b_vdem_v2xcl_acjst', 'b_vdem_v2xcl_dmove', 'b_vdem_v2xcl_prpty', 'b_vdem_v2xcl_rol', 'b_vdem_v2xcl_slave', 'b_vdem_v2xdd_dd', 'b_vdem_v2xdl_delib', 'b_vdem_v2xeg_eqdr', 'b_vdem_v2xeg_eqprotec', 'b_vdem_v2xel_frefair', 'b_vdem_v2xel_regelec', 'b_vdem_v2xme_altinf', 'b_vdem_v2xnp_client', 'b_vdem_v2xnp_regcorr', 'b_vdem_v2xpe_exlecon', 'b_vdem_v2xpe_exlpol', 'b_vdem_v2xpe_exlgeo', 'b_vdem_v2xpe_exlgender', 'b_vdem_v2xpe_exlsocgr', 'b_vdem_v2xps_party', 'b_vdem_v2xcs_ccsi', 'b_vdem_v2xnp_pres', 'b_vdem_v2xeg_eqaccess', 'b_vdem_v2x_diagacc', 'b_vdem_v2clrgunev', 'b_splag_vdem_v2x_libdem', 'b_splag_vdem_v2xcl_dmove', 'b_splag_vdem_v2x_accountability', 'b_splag_vdem_v2xpe_exlsocgr', 'b_splag_vdem_v2xcl_rol', 'b__wdi_sm_pop_netm', 'b__wdi_sp_dyn_imrt_in', 'b_decay_ged_sb_5', 'b_decay_ged_os_5', 'b_decay_ged_sb_100', 'b_decay_ged_sb_500', 'b_decay_ged_os_100', 'b_decay_ged_ns_5', 'b_decay_ged_ns_100', 'b_decay_acled_sb_5', 'b_decay_acled_os_5', 'b_decay_acled_ns_5', 'b_agr_withdrawal_pct_t48', 'b_dam_cap_pcap_t48', 'b_groundwater_export_t48', 'b_fresh_withdrawal_pct_t48', 'b_ind_efficiency_t48', 'b_irr_agr_efficiency_t48', 'b_services_efficiency_t48', 'b_general_efficiency_t48', 'b_water_stress_t48', 'b_renewable_internal_pcap_t48', 'b_renewable_pcap_t48', 'b_splag_1_decay_ged_sb_5', 'b_splag_1_decay_ged_os_5', 'b_splag_1_decay_ged_ns_5', 'ratio_wdi_sp_pop_totl', 'ratio_ged_sb', 'ratio_wdi_sp_dyn_imrt_in', 'ratio_vdem_v2x_ex_military', 'ratio_wdi_ms_mil_xpnd_zs']\n",
      "metadata_columns:  ['month_id', 'country_id_a', 'country_id_b', 'date', 'a_ged_sb', 'b_ged_sb', 'a_gleditsch_ward', 'b_gleditsch_ward', 'a_country_name', 'b_country_name', 'country_id_a_1', 'country_id_a_2', 'country_id_a_3', 'country_id_a_4', 'country_id_a_5', 'country_id_a_6', 'country_id_a_7', 'country_id_a_8', 'country_id_a_9', 'country_id_a_10', 'country_id_a_11', 'country_id_a_12', 'country_id_a_13', 'country_id_a_14', 'country_id_a_16', 'country_id_a_17', 'country_id_a_18', 'country_id_a_19', 'country_id_a_20', 'country_id_a_21', 'country_id_a_22', 'country_id_a_23', 'country_id_a_24', 'country_id_a_25', 'country_id_a_26', 'country_id_a_27', 'country_id_a_28', 'country_id_a_29', 'country_id_a_30', 'country_id_a_31', 'country_id_a_32', 'country_id_a_33', 'country_id_a_34', 'country_id_a_35', 'country_id_a_36', 'country_id_a_37', 'country_id_a_38', 'country_id_a_39', 'country_id_a_40', 'country_id_a_41', 'country_id_a_42', 'country_id_a_43', 'country_id_a_45', 'country_id_a_46', 'country_id_a_47', 'country_id_a_48', 'country_id_a_49', 'country_id_a_50', 'country_id_a_52', 'country_id_a_53', 'country_id_a_54', 'country_id_a_55', 'country_id_a_56', 'country_id_a_57', 'country_id_a_58', 'country_id_a_60', 'country_id_a_62', 'country_id_a_63', 'country_id_a_64', 'country_id_a_65', 'country_id_a_66', 'country_id_a_67', 'country_id_a_69', 'country_id_a_70', 'country_id_a_73', 'country_id_a_74', 'country_id_a_76', 'country_id_a_77', 'country_id_a_78', 'country_id_a_79', 'country_id_a_80', 'country_id_a_81', 'country_id_a_82', 'country_id_a_83', 'country_id_a_84', 'country_id_a_85', 'country_id_a_86', 'country_id_a_87', 'country_id_a_89', 'country_id_a_90', 'country_id_a_92', 'country_id_a_93', 'country_id_a_94', 'country_id_a_96', 'country_id_a_97', 'country_id_a_98', 'country_id_a_99', 'country_id_a_100', 'country_id_a_101', 'country_id_a_102', 'country_id_a_103', 'country_id_a_104', 'country_id_a_105', 'country_id_a_107', 'country_id_a_108', 'country_id_a_109', 'country_id_a_110', 'country_id_a_111', 'country_id_a_112', 'country_id_a_113', 'country_id_a_114', 'country_id_a_115', 'country_id_a_116', 'country_id_a_117', 'country_id_a_118', 'country_id_a_119', 'country_id_a_120', 'country_id_a_121', 'country_id_a_122', 'country_id_a_123', 'country_id_a_124', 'country_id_a_125', 'country_id_a_126', 'country_id_a_127', 'country_id_a_128', 'country_id_a_129', 'country_id_a_130', 'country_id_a_131', 'country_id_a_132', 'country_id_a_133', 'country_id_a_134', 'country_id_a_135', 'country_id_a_136', 'country_id_a_137', 'country_id_a_138', 'country_id_a_139', 'country_id_a_140', 'country_id_a_142', 'country_id_a_143', 'country_id_a_144', 'country_id_a_145', 'country_id_a_146', 'country_id_a_147', 'country_id_a_148', 'country_id_a_149', 'country_id_a_150', 'country_id_a_151', 'country_id_a_152', 'country_id_a_153', 'country_id_a_154', 'country_id_a_155', 'country_id_a_156', 'country_id_a_157', 'country_id_a_158', 'country_id_a_159', 'country_id_a_160', 'country_id_a_161', 'country_id_a_162', 'country_id_a_163', 'country_id_a_164', 'country_id_a_165', 'country_id_a_166', 'country_id_a_167', 'country_id_a_168', 'country_id_a_169', 'country_id_a_170', 'country_id_a_171', 'country_id_a_172', 'country_id_a_173', 'country_id_a_174', 'country_id_a_176', 'country_id_a_177', 'country_id_a_178', 'country_id_a_179', 'country_id_a_180', 'country_id_a_181', 'country_id_a_182', 'country_id_a_183', 'country_id_a_184', 'country_id_a_198', 'country_id_a_199', 'country_id_a_205', 'country_id_a_206', 'country_id_a_209', 'country_id_a_213', 'country_id_a_214', 'country_id_a_218', 'country_id_a_220', 'country_id_a_222', 'country_id_a_223', 'country_id_a_231', 'country_id_a_232', 'country_id_a_233', 'country_id_a_234', 'country_id_a_235', 'country_id_a_237', 'country_id_a_242', 'country_id_a_243', 'country_id_a_244', 'country_id_a_245', 'country_id_b_2', 'country_id_b_3', 'country_id_b_4', 'country_id_b_5', 'country_id_b_6', 'country_id_b_7', 'country_id_b_8', 'country_id_b_9', 'country_id_b_10', 'country_id_b_11', 'country_id_b_12', 'country_id_b_13', 'country_id_b_14', 'country_id_b_16', 'country_id_b_17', 'country_id_b_18', 'country_id_b_19', 'country_id_b_20', 'country_id_b_21', 'country_id_b_22', 'country_id_b_23', 'country_id_b_24', 'country_id_b_25', 'country_id_b_26', 'country_id_b_27', 'country_id_b_28', 'country_id_b_29', 'country_id_b_30', 'country_id_b_31', 'country_id_b_32', 'country_id_b_33', 'country_id_b_34', 'country_id_b_35', 'country_id_b_36', 'country_id_b_37', 'country_id_b_38', 'country_id_b_39', 'country_id_b_40', 'country_id_b_41', 'country_id_b_42', 'country_id_b_43', 'country_id_b_45', 'country_id_b_46', 'country_id_b_47', 'country_id_b_48', 'country_id_b_49', 'country_id_b_50', 'country_id_b_52', 'country_id_b_53', 'country_id_b_54', 'country_id_b_55', 'country_id_b_56', 'country_id_b_57', 'country_id_b_58', 'country_id_b_60', 'country_id_b_62', 'country_id_b_63', 'country_id_b_64', 'country_id_b_65', 'country_id_b_66', 'country_id_b_67', 'country_id_b_69', 'country_id_b_70', 'country_id_b_73', 'country_id_b_74', 'country_id_b_76', 'country_id_b_77', 'country_id_b_78', 'country_id_b_79', 'country_id_b_80', 'country_id_b_81', 'country_id_b_82', 'country_id_b_83', 'country_id_b_84', 'country_id_b_85', 'country_id_b_86', 'country_id_b_87', 'country_id_b_89', 'country_id_b_90', 'country_id_b_92', 'country_id_b_93', 'country_id_b_94', 'country_id_b_96', 'country_id_b_97', 'country_id_b_98', 'country_id_b_99', 'country_id_b_100', 'country_id_b_101', 'country_id_b_102', 'country_id_b_103', 'country_id_b_104', 'country_id_b_105', 'country_id_b_107', 'country_id_b_108', 'country_id_b_109', 'country_id_b_110', 'country_id_b_111', 'country_id_b_112', 'country_id_b_113', 'country_id_b_114', 'country_id_b_115', 'country_id_b_116', 'country_id_b_117', 'country_id_b_118', 'country_id_b_119', 'country_id_b_120', 'country_id_b_121', 'country_id_b_122', 'country_id_b_123', 'country_id_b_124', 'country_id_b_125', 'country_id_b_126', 'country_id_b_127', 'country_id_b_128', 'country_id_b_129', 'country_id_b_130', 'country_id_b_131', 'country_id_b_132', 'country_id_b_133', 'country_id_b_134', 'country_id_b_135', 'country_id_b_136', 'country_id_b_137', 'country_id_b_138', 'country_id_b_139', 'country_id_b_140', 'country_id_b_142', 'country_id_b_143', 'country_id_b_144', 'country_id_b_145', 'country_id_b_146', 'country_id_b_147', 'country_id_b_148', 'country_id_b_149', 'country_id_b_150', 'country_id_b_151', 'country_id_b_152', 'country_id_b_153', 'country_id_b_154', 'country_id_b_155', 'country_id_b_156', 'country_id_b_157', 'country_id_b_158', 'country_id_b_159', 'country_id_b_160', 'country_id_b_161', 'country_id_b_162', 'country_id_b_163', 'country_id_b_164', 'country_id_b_165', 'country_id_b_166', 'country_id_b_167', 'country_id_b_168', 'country_id_b_169', 'country_id_b_170', 'country_id_b_171', 'country_id_b_172', 'country_id_b_173', 'country_id_b_174', 'country_id_b_176', 'country_id_b_177', 'country_id_b_178', 'country_id_b_179', 'country_id_b_180', 'country_id_b_181', 'country_id_b_182', 'country_id_b_183', 'country_id_b_184', 'country_id_b_198', 'country_id_b_199', 'country_id_b_205', 'country_id_b_206', 'country_id_b_209', 'country_id_b_213', 'country_id_b_214', 'country_id_b_218', 'country_id_b_220', 'country_id_b_222', 'country_id_b_223', 'country_id_b_231', 'country_id_b_232', 'country_id_b_233', 'country_id_b_234', 'country_id_b_235', 'country_id_b_237', 'country_id_b_242', 'country_id_b_243', 'country_id_b_244', 'country_id_b_245', 'country_id_b_246']\n"
     ]
    }
   ],
   "source": [
    "# Explicitly list columns to be dropped before scaling\n",
    "metadata_columns = ['month_id', 'country_id_a', 'country_id_b', 'date', 'a_ged_sb', 'b_ged_sb', 'a_gleditsch_ward',\n",
    "                    'b_gleditsch_ward', 'a_country_name', 'b_country_name']\n",
    "# Also, drop one-hot encoded country identifiers if they are already in the dataframe\n",
    "metadata_columns.extend(train_dyad_df.filter(regex='^country_id_a_').columns.tolist())\n",
    "metadata_columns.extend(train_dyad_df.filter(regex='^country_id_b_').columns.tolist())\n",
    "\n",
    "TARGET_COLUMNS = ['a_ged_sb_15_shifted', 'b_ged_sb_15_shifted']\n",
    "feature_columns = [col for col in tests_dyad_df.columns if col not in TARGET_COLUMNS and col not in metadata_columns]\n",
    "test_metadata = tests_dyad_df[metadata_columns]\n",
    "train_metadata = train_dyad_df[metadata_columns]\n",
    "input_dim = train_dyad_df[feature_columns].shape[1]\n",
    "print(\"feature_columns: \", feature_columns)\n",
    "print(\"metadata_columns: \", metadata_columns)"
   ],
   "metadata": {
    "collapsed": false,
    "ExecuteTime": {
     "end_time": "2024-03-26T17:50:32.526989Z",
     "start_time": "2024-03-26T17:50:31.820569Z"
    }
   },
   "id": "5e86dc891b4f2bdd"
  },
  {
   "cell_type": "code",
   "execution_count": 229,
   "outputs": [
    {
     "data": {
      "text/plain": "253"
     },
     "execution_count": 229,
     "metadata": {},
     "output_type": "execute_result"
    }
   ],
   "source": [
    "train_dyad_df[feature_columns].shape[1]"
   ],
   "metadata": {
    "collapsed": false,
    "ExecuteTime": {
     "end_time": "2024-03-26T17:50:32.546529Z",
     "start_time": "2024-03-26T17:50:32.496900Z"
    }
   },
   "id": "c92b6fa20cd153b1"
  },
  {
   "cell_type": "code",
   "execution_count": 230,
   "outputs": [],
   "source": [
    "import numpy\n",
    "import matplotlib.pyplot as plt\n",
    "import torch\n",
    "from torch.utils.data import Dataset, DataLoader\n",
    "\n",
    "torch.manual_seed(42)\n",
    "numpy.random.seed(42)\n",
    "\n",
    "\n",
    "class CountryDyadDataset(Dataset):\n",
    "    def __init__(self, dataframe, feature_columns):\n",
    "        self.features = torch.tensor(dataframe[feature_columns].values, dtype=torch.float)\n",
    "        self.targets = torch.tensor(dataframe[TARGET_COLUMNS].values, dtype=torch.float)\n",
    "\n",
    "    def __len__(self):\n",
    "        return len(self.features)\n",
    "\n",
    "    def __getitem__(self, idx):\n",
    "        return self.features[idx], self.targets[idx]"
   ],
   "metadata": {
    "collapsed": false,
    "ExecuteTime": {
     "end_time": "2024-03-26T17:50:32.572209Z",
     "start_time": "2024-03-26T17:50:32.549416Z"
    }
   },
   "id": "be862a6da485d3df"
  },
  {
   "cell_type": "code",
   "execution_count": 300,
   "outputs": [],
   "source": [
    "train_dataset = CountryDyadDataset(train_dyad_df, feature_columns)\n",
    "test_dataset = CountryDyadDataset(tests_dyad_df, feature_columns)\n",
    "\n",
    "train_loader = DataLoader(dataset=train_dataset, batch_size=64, shuffle=True)\n",
    "test_loader = DataLoader(dataset=test_dataset, batch_size=64, shuffle=False)\n",
    "\n",
    "train_loader_full = DataLoader(dataset=train_dataset, batch_size=len(train_dataset), shuffle=False)\n",
    "test_loader_full = DataLoader(dataset=test_dataset, batch_size=len(test_dataset), shuffle=False)\n"
   ],
   "metadata": {
    "collapsed": false,
    "ExecuteTime": {
     "end_time": "2024-03-26T18:07:08.342630Z",
     "start_time": "2024-03-26T18:07:08.001861Z"
    }
   },
   "id": "1bfcc39512b31e80"
  },
  {
   "cell_type": "code",
   "execution_count": 301,
   "outputs": [],
   "source": [
    "\n",
    "\n",
    "class MultipleLinearRegression(torch.nn.Module):\n",
    "    def __init__(self, input_dim):\n",
    "        super(MultipleLinearRegression, self).__init__()\n",
    "        self.dropout = torch.nn.Dropout(0.4)\n",
    "        self.linear = torch.nn.Linear(input_dim, 100)  # Output dimension is 2 for a_ged_sb and b_ged_sb\n",
    "        self.LeakyReLU = torch.nn.LeakyReLU()\n",
    "        self.dropout2 = torch.nn.Dropout(0.4)\n",
    "        self.linear2 = torch.nn.Linear(100, 2)\n",
    "\n",
    "    def forward(self, x):\n",
    "        # x = self.dropout(x)\n",
    "        x = self.linear(x)\n",
    "        x = self.LeakyReLU(x)\n",
    "        x = self.dropout2(x)\n",
    "        return self.linear2(x)\n",
    "\n",
    "\n",
    "model = MultipleLinearRegression(input_dim)\n",
    "# mps_device = torch.device(\"mps\")\n",
    "# model.to(mps_device)  # Move the model to the MPS device\n",
    "# move inputs to MPS device"
   ],
   "metadata": {
    "collapsed": false,
    "ExecuteTime": {
     "end_time": "2024-03-26T18:07:08.354172Z",
     "start_time": "2024-03-26T18:07:08.345964Z"
    }
   },
   "id": "2ac877b31fe2dcb8"
  },
  {
   "cell_type": "code",
   "execution_count": 302,
   "outputs": [],
   "source": [
    "optimizer = torch.optim.Adam(model.parameters(), lr=0.0001)\n",
    "criterion = torch.nn.MSELoss()"
   ],
   "metadata": {
    "collapsed": false,
    "ExecuteTime": {
     "end_time": "2024-03-26T18:07:08.354334Z",
     "start_time": "2024-03-26T18:07:08.351176Z"
    }
   },
   "id": "ac5629ee40f62dc1"
  },
  {
   "cell_type": "code",
   "execution_count": 303,
   "outputs": [
    {
     "name": "stdout",
     "output_type": "stream",
     "text": [
      "Epoch 1, Loss Train: 0.02159133180975914 Loss Test: 0.03101591020822525\n",
      "Epoch 2, Loss Train: 0.014267482794821262 Loss Test: 0.0282795038074255\n",
      "Epoch 3, Loss Train: 0.012290463782846928 Loss Test: 0.024133382365107536\n",
      "Epoch 4, Loss Train: 0.010385390371084213 Loss Test: 0.02573968842625618\n",
      "Epoch 5, Loss Train: 0.009026087820529938 Loss Test: 0.03045627661049366\n",
      "Epoch 6, Loss Train: 0.008622980676591396 Loss Test: 0.02826603129506111\n",
      "Epoch 7, Loss Train: 0.007910815998911858 Loss Test: 0.029400838539004326\n",
      "Epoch 8, Loss Train: 0.0069045135751366615 Loss Test: 0.032411977648735046\n",
      "Epoch 9, Loss Train: 0.00630295742303133 Loss Test: 0.033557623624801636\n",
      "Epoch 10, Loss Train: 0.005736254621297121 Loss Test: 0.03553922474384308\n",
      "Epoch 11, Loss Train: 0.005406578071415424 Loss Test: 0.03953259438276291\n",
      "Epoch 12, Loss Train: 0.005429705139249563 Loss Test: 0.0381738543510437\n",
      "Epoch 13, Loss Train: 0.0053392560221254826 Loss Test: 0.03741796687245369\n",
      "Epoch 14, Loss Train: 0.005132694728672504 Loss Test: 0.04265911877155304\n",
      "Epoch 15, Loss Train: 0.005050099454820156 Loss Test: 0.03874094411730766\n",
      "Epoch 16, Loss Train: 0.004661484621465206 Loss Test: 0.046873196959495544\n",
      "Epoch 17, Loss Train: 0.004749245475977659 Loss Test: 0.04090511053800583\n",
      "Epoch 18, Loss Train: 0.004916792269796133 Loss Test: 0.040846679359674454\n",
      "Epoch 19, Loss Train: 0.004417132120579481 Loss Test: 0.04278883710503578\n",
      "Epoch 20, Loss Train: 0.004358506761491299 Loss Test: 0.0467812679708004\n",
      "Done training!\n"
     ]
    }
   ],
   "source": [
    "\n",
    "losses = {\"train\": [], \"test\": []}\n",
    "epochs = 20\n",
    "for epoch in range(epochs):\n",
    "    model.train()\n",
    "    for x, y in train_loader:\n",
    "        optimizer.zero_grad()\n",
    "        y_pred = model(x)\n",
    "        loss = criterion(y_pred, y)\n",
    "        #losses.append(loss.item())\n",
    "        loss.backward()\n",
    "        optimizer.step()\n",
    "\n",
    "    with torch.no_grad():\n",
    "        model.eval()\n",
    "        for x, y in test_loader_full:\n",
    "            y_pred = model(x)\n",
    "            loss = criterion(y_pred, y)\n",
    "            losses[\"test\"].append(loss.item())\n",
    "\n",
    "        for x, y in train_loader_full:\n",
    "            y_pred = model(x)\n",
    "            loss = criterion(y_pred, y)\n",
    "            losses[\"train\"].append(loss.item())\n",
    "\n",
    "    print(f\"Epoch {epoch + 1}, Loss Train: {losses['train'][-1]} Loss Test: {losses['test'][-1]}\")\n",
    "print(\"Done training!\")"
   ],
   "metadata": {
    "collapsed": false,
    "ExecuteTime": {
     "end_time": "2024-03-26T18:08:16.772750Z",
     "start_time": "2024-03-26T18:07:08.356720Z"
    }
   },
   "id": "e3bc370a63b1e23b"
  },
  {
   "cell_type": "code",
   "execution_count": 304,
   "outputs": [
    {
     "data": {
      "text/plain": "<Figure size 640x480 with 1 Axes>",
      "image/png": "[encoded data removed]"
     },
     "metadata": {},
     "output_type": "display_data"
    }
   ],
   "source": [
    "# Plot the losses\n",
    "plt.plot(losses[\"train\"], label=\"train\")\n",
    "plt.plot(losses[\"test\"], label=\"test\")\n",
    "plt.legend()\n",
    "plt.xlabel(\"no. of iterations\")\n",
    "plt.ylabel(\"total loss\")\n",
    "plt.show()\n"
   ],
   "metadata": {
    "collapsed": false,
    "ExecuteTime": {
     "end_time": "2024-03-26T18:08:16.840254Z",
     "start_time": "2024-03-26T18:08:16.778808Z"
    }
   },
   "id": "8b06664423d150e5"
  },
  {
   "cell_type": "code",
   "execution_count": 305,
   "outputs": [
    {
     "data": {
      "text/plain": "2"
     },
     "execution_count": 305,
     "metadata": {},
     "output_type": "execute_result"
    }
   ],
   "source": [
    "len(losses)"
   ],
   "metadata": {
    "collapsed": false,
    "ExecuteTime": {
     "end_time": "2024-03-26T18:08:16.843397Z",
     "start_time": "2024-03-26T18:08:16.840708Z"
    }
   },
   "id": "4b13111d032b9c13"
  },
  {
   "cell_type": "code",
   "execution_count": 306,
   "outputs": [],
   "source": [
    "model.eval()  # Set the model to evaluation mode\n",
    "predictions = []\n",
    "actuals = []\n",
    "with torch.no_grad():\n",
    "    for inputs, labels in test_loader:\n",
    "        outputs = model(inputs)  # Generate predictions\n",
    "        predictions.append(outputs)\n",
    "        actuals.append(labels)\n",
    "\n",
    "# Depending on your specific needs, you might want to concatenate all batches' predictions and actuals\n",
    "predictions = torch.cat(predictions, dim=0)\n",
    "actuals = torch.cat(actuals, dim=0)"
   ],
   "metadata": {
    "collapsed": false,
    "ExecuteTime": {
     "end_time": "2024-03-26T18:08:16.979924Z",
     "start_time": "2024-03-26T18:08:16.844716Z"
    }
   },
   "id": "acd6694b0145e912"
  },
  {
   "cell_type": "code",
   "execution_count": 307,
   "outputs": [
    {
     "name": "stdout",
     "output_type": "stream",
     "text": [
      "Test MSE: 0.0467812679708004\n"
     ]
    }
   ],
   "source": [
    "mse = torch.nn.functional.mse_loss(predictions, actuals)\n",
    "print(f\"Test MSE: {mse.item()}\")"
   ],
   "metadata": {
    "collapsed": false,
    "ExecuteTime": {
     "end_time": "2024-03-26T18:08:16.986792Z",
     "start_time": "2024-03-26T18:08:16.980871Z"
    }
   },
   "id": "529eea0dc71af5c0"
  },
  {
   "cell_type": "code",
   "execution_count": 308,
   "outputs": [
    {
     "data": {
      "text/plain": "torch.Size([36290, 2])"
     },
     "execution_count": 308,
     "metadata": {},
     "output_type": "execute_result"
    }
   ],
   "source": [
    "predictions.shape\n",
    "actuals.shape"
   ],
   "metadata": {
    "collapsed": false,
    "ExecuteTime": {
     "end_time": "2024-03-26T18:08:16.987057Z",
     "start_time": "2024-03-26T18:08:16.984144Z"
    }
   },
   "id": "e54771f5929a409d"
  },
  {
   "cell_type": "code",
   "execution_count": 309,
   "outputs": [],
   "source": [
    "\n",
    "# Convert tensors to numpy arrays\n",
    "predictions_np = predictions.numpy()\n",
    "actuals_np = actuals.numpy()\n",
    "\n",
    "# Convert arrays to pandas DataFrame\n",
    "predictions_df = pd.DataFrame(predictions_np, columns=['a_ged_sb_pred', 'b_ged_sb_pred'])\n",
    "# actuals_df = pd.DataFrame(actuals_np, columns=['a_ged_sb_actual', 'b_ged_sb_actual'])"
   ],
   "metadata": {
    "collapsed": false,
    "ExecuteTime": {
     "end_time": "2024-03-26T18:08:16.990050Z",
     "start_time": "2024-03-26T18:08:16.987880Z"
    }
   },
   "id": "afe24c48be3ccffc"
  },
  {
   "cell_type": "code",
   "execution_count": 310,
   "outputs": [],
   "source": [
    "# merge with test df\n",
    "tests_dyad_df = tests_dyad_df.reset_index(drop=True)"
   ],
   "metadata": {
    "collapsed": false,
    "ExecuteTime": {
     "end_time": "2024-03-26T18:08:17.061662Z",
     "start_time": "2024-03-26T18:08:16.990704Z"
    }
   },
   "id": "c64ed8bb08d760da"
  },
  {
   "cell_type": "code",
   "execution_count": 311,
   "outputs": [],
   "source": [
    "tests_dyad_df = pd.concat([tests_dyad_df, predictions_df], axis=1)"
   ],
   "metadata": {
    "collapsed": false,
    "ExecuteTime": {
     "end_time": "2024-03-26T18:08:17.119996Z",
     "start_time": "2024-03-26T18:08:17.062499Z"
    }
   },
   "id": "ab60d9103378308e"
  },
  {
   "cell_type": "code",
   "execution_count": 312,
   "outputs": [
    {
     "data": {
      "text/plain": "       month_id       date  country_id_a  country_id_b  a_ged_sb  b_ged_sb  \\\n0           455 2017-11-01             1             2       0.0       0.0   \n1           456 2017-12-01             1             2       0.0       0.0   \n2           455 2017-11-01             1             3       0.0       0.0   \n3           456 2017-12-01             1             3       0.0       0.0   \n4           455 2017-11-01             1             4       0.0       0.0   \n...         ...        ...           ...           ...       ...       ...   \n36285       456 2017-12-01           244           245       0.0       4.0   \n36286       455 2017-11-01           244           246       0.0      88.0   \n36287       456 2017-12-01           244           246       0.0      62.0   \n36288       455 2017-11-01           245           246      26.0      88.0   \n36289       456 2017-12-01           245           246       4.0      62.0   \n\n      a_country_name       b_country_name  a_gleditsch_ward  b_gleditsch_ward  \\\n0             Guyana             Suriname               110               115   \n1             Guyana             Suriname               110               115   \n2             Guyana  Trinidad and Tobago               110                52   \n3             Guyana  Trinidad and Tobago               110                52   \n4             Guyana            Venezuela               110               101   \n...              ...                  ...               ...               ...   \n36285     Mauritania                Sudan               435               625   \n36286     Mauritania          South Sudan               435               626   \n36287     Mauritania          South Sudan               435               626   \n36288          Sudan          South Sudan               625               626   \n36289          Sudan          South Sudan               625               626   \n\n       ...  a_ged_sb_pred  b_ged_sb_pred  a_ged_sb_pred  b_ged_sb_pred  \\\n0      ...      -0.081583      -0.092548      -0.111493      -0.106492   \n1      ...      -0.081643      -0.092567      -0.111597      -0.106526   \n2      ...      -0.084435      -0.096850      -0.088683      -0.106065   \n3      ...      -0.084489      -0.096883      -0.088847      -0.106118   \n4      ...      -0.082966      -0.088167      -0.078116      -0.097370   \n...    ...            ...            ...            ...            ...   \n36285  ...      -0.085895      -0.058113      -0.085616      -0.077180   \n36286  ...      -0.075250      -0.031229      -0.091484      -0.059591   \n36287  ...      -0.075467      -0.033771      -0.094748      -0.063307   \n36288  ...      -0.039830      -0.031916      -0.023779      -0.071019   \n36289  ...      -0.043337      -0.032792      -0.030876      -0.072691   \n\n       a_ged_sb_pred  b_ged_sb_pred  a_ged_sb_pred  b_ged_sb_pred  \\\n0          -0.088383      -0.090680      -0.138148      -0.108733   \n1          -0.088028      -0.090705      -0.138433      -0.108704   \n2          -0.101125      -0.104692      -0.092830      -0.108509   \n3          -0.101239      -0.104758      -0.092806      -0.108525   \n4          -0.103205      -0.108526      -0.100290      -0.106967   \n...              ...            ...            ...            ...   \n36285      -0.099400      -0.064016      -0.103478      -0.037597   \n36286      -0.098267      -0.040537      -0.095804      -0.018288   \n36287      -0.094961      -0.072313      -0.108325      -0.054578   \n36288       0.057943      -0.032662       0.183667      -0.016353   \n36289       0.046812      -0.068986       0.196327      -0.038974   \n\n       a_ged_sb_pred  b_ged_sb_pred  \n0          -0.114389      -0.093257  \n1          -0.114166      -0.093359  \n2          -0.101856      -0.109403  \n3          -0.102014      -0.109410  \n4          -0.090775      -0.105536  \n...              ...            ...  \n36285      -0.122028      -0.068548  \n36286      -0.105184      -0.058045  \n36287      -0.112533      -0.072007  \n36288       0.074069      -0.087647  \n36289       0.076396      -0.087253  \n\n[36290 rows x 655 columns]",
      "text/html": "<div>\n<style scoped>\n    .dataframe tbody tr th:only-of-type {\n        vertical-align: middle;\n    }\n\n    .dataframe tbody tr th {\n        vertical-align: top;\n    }\n\n    .dataframe thead th {\n        text-align: right;\n    }\n</style>\n<table border=\"1\" class=\"dataframe\">\n  <thead>\n    <tr style=\"text-align: right;\">\n      <th></th>\n      <th>month_id</th>\n      <th>date</th>\n      <th>country_id_a</th>\n      <th>country_id_b</th>\n      <th>a_ged_sb</th>\n      <th>b_ged_sb</th>\n      <th>a_country_name</th>\n      <th>b_country_name</th>\n      <th>a_gleditsch_ward</th>\n      <th>b_gleditsch_ward</th>\n      <th>...</th>\n      <th>a_ged_sb_pred</th>\n      <th>b_ged_sb_pred</th>\n      <th>a_ged_sb_pred</th>\n      <th>b_ged_sb_pred</th>\n      <th>a_ged_sb_pred</th>\n      <th>b_ged_sb_pred</th>\n      <th>a_ged_sb_pred</th>\n      <th>b_ged_sb_pred</th>\n      <th>a_ged_sb_pred</th>\n      <th>b_ged_sb_pred</th>\n    </tr>\n  </thead>\n  <tbody>\n    <tr>\n      <th>0</th>\n      <td>455</td>\n      <td>2017-11-01</td>\n      <td>1</td>\n      <td>2</td>\n      <td>0.0</td>\n      <td>0.0</td>\n      <td>Guyana</td>\n      <td>Suriname</td>\n      <td>110</td>\n      <td>115</td>\n      <td>...</td>\n      <td>-0.081583</td>\n      <td>-0.092548</td>\n      <td>-0.111493</td>\n      <td>-0.106492</td>\n      <td>-0.088383</td>\n      <td>-0.090680</td>\n      <td>-0.138148</td>\n      <td>-0.108733</td>\n      <td>-0.114389</td>\n      <td>-0.093257</td>\n    </tr>\n    <tr>\n      <th>1</th>\n      <td>456</td>\n      <td>2017-12-01</td>\n      <td>1</td>\n      <td>2</td>\n      <td>0.0</td>\n      <td>0.0</td>\n      <td>Guyana</td>\n      <td>Suriname</td>\n      <td>110</td>\n      <td>115</td>\n      <td>...</td>\n      <td>-0.081643</td>\n      <td>-0.092567</td>\n      <td>-0.111597</td>\n      <td>-0.106526</td>\n      <td>-0.088028</td>\n      <td>-0.090705</td>\n      <td>-0.138433</td>\n      <td>-0.108704</td>\n      <td>-0.114166</td>\n      <td>-0.093359</td>\n    </tr>\n    <tr>\n      <th>2</th>\n      <td>455</td>\n      <td>2017-11-01</td>\n      <td>1</td>\n      <td>3</td>\n      <td>0.0</td>\n      <td>0.0</td>\n      <td>Guyana</td>\n      <td>Trinidad and Tobago</td>\n      <td>110</td>\n      <td>52</td>\n      <td>...</td>\n      <td>-0.084435</td>\n      <td>-0.096850</td>\n      <td>-0.088683</td>\n      <td>-0.106065</td>\n      <td>-0.101125</td>\n      <td>-0.104692</td>\n      <td>-0.092830</td>\n      <td>-0.108509</td>\n      <td>-0.101856</td>\n      <td>-0.109403</td>\n    </tr>\n    <tr>\n      <th>3</th>\n      <td>456</td>\n      <td>2017-12-01</td>\n      <td>1</td>\n      <td>3</td>\n      <td>0.0</td>\n      <td>0.0</td>\n      <td>Guyana</td>\n      <td>Trinidad and Tobago</td>\n      <td>110</td>\n      <td>52</td>\n      <td>...</td>\n      <td>-0.084489</td>\n      <td>-0.096883</td>\n      <td>-0.088847</td>\n      <td>-0.106118</td>\n      <td>-0.101239</td>\n      <td>-0.104758</td>\n      <td>-0.092806</td>\n      <td>-0.108525</td>\n      <td>-0.102014</td>\n      <td>-0.109410</td>\n    </tr>\n    <tr>\n      <th>4</th>\n      <td>455</td>\n      <td>2017-11-01</td>\n      <td>1</td>\n      <td>4</td>\n      <td>0.0</td>\n      <td>0.0</td>\n      <td>Guyana</td>\n      <td>Venezuela</td>\n      <td>110</td>\n      <td>101</td>\n      <td>...</td>\n      <td>-0.082966</td>\n      <td>-0.088167</td>\n      <td>-0.078116</td>\n      <td>-0.097370</td>\n      <td>-0.103205</td>\n      <td>-0.108526</td>\n      <td>-0.100290</td>\n      <td>-0.106967</td>\n      <td>-0.090775</td>\n      <td>-0.105536</td>\n    </tr>\n    <tr>\n      <th>...</th>\n      <td>...</td>\n      <td>...</td>\n      <td>...</td>\n      <td>...</td>\n      <td>...</td>\n      <td>...</td>\n      <td>...</td>\n      <td>...</td>\n      <td>...</td>\n      <td>...</td>\n      <td>...</td>\n      <td>...</td>\n      <td>...</td>\n      <td>...</td>\n      <td>...</td>\n      <td>...</td>\n      <td>...</td>\n      <td>...</td>\n      <td>...</td>\n      <td>...</td>\n      <td>...</td>\n    </tr>\n    <tr>\n      <th>36285</th>\n      <td>456</td>\n      <td>2017-12-01</td>\n      <td>244</td>\n      <td>245</td>\n      <td>0.0</td>\n      <td>4.0</td>\n      <td>Mauritania</td>\n      <td>Sudan</td>\n      <td>435</td>\n      <td>625</td>\n      <td>...</td>\n      <td>-0.085895</td>\n      <td>-0.058113</td>\n      <td>-0.085616</td>\n      <td>-0.077180</td>\n      <td>-0.099400</td>\n      <td>-0.064016</td>\n      <td>-0.103478</td>\n      <td>-0.037597</td>\n      <td>-0.122028</td>\n      <td>-0.068548</td>\n    </tr>\n    <tr>\n      <th>36286</th>\n      <td>455</td>\n      <td>2017-11-01</td>\n      <td>244</td>\n      <td>246</td>\n      <td>0.0</td>\n      <td>88.0</td>\n      <td>Mauritania</td>\n      <td>South Sudan</td>\n      <td>435</td>\n      <td>626</td>\n      <td>...</td>\n      <td>-0.075250</td>\n      <td>-0.031229</td>\n      <td>-0.091484</td>\n      <td>-0.059591</td>\n      <td>-0.098267</td>\n      <td>-0.040537</td>\n      <td>-0.095804</td>\n      <td>-0.018288</td>\n      <td>-0.105184</td>\n      <td>-0.058045</td>\n    </tr>\n    <tr>\n      <th>36287</th>\n      <td>456</td>\n      <td>2017-12-01</td>\n      <td>244</td>\n      <td>246</td>\n      <td>0.0</td>\n      <td>62.0</td>\n      <td>Mauritania</td>\n      <td>South Sudan</td>\n      <td>435</td>\n      <td>626</td>\n      <td>...</td>\n      <td>-0.075467</td>\n      <td>-0.033771</td>\n      <td>-0.094748</td>\n      <td>-0.063307</td>\n      <td>-0.094961</td>\n      <td>-0.072313</td>\n      <td>-0.108325</td>\n      <td>-0.054578</td>\n      <td>-0.112533</td>\n      <td>-0.072007</td>\n    </tr>\n    <tr>\n      <th>36288</th>\n      <td>455</td>\n      <td>2017-11-01</td>\n      <td>245</td>\n      <td>246</td>\n      <td>26.0</td>\n      <td>88.0</td>\n      <td>Sudan</td>\n      <td>South Sudan</td>\n      <td>625</td>\n      <td>626</td>\n      <td>...</td>\n      <td>-0.039830</td>\n      <td>-0.031916</td>\n      <td>-0.023779</td>\n      <td>-0.071019</td>\n      <td>0.057943</td>\n      <td>-0.032662</td>\n      <td>0.183667</td>\n      <td>-0.016353</td>\n      <td>0.074069</td>\n      <td>-0.087647</td>\n    </tr>\n    <tr>\n      <th>36289</th>\n      <td>456</td>\n      <td>2017-12-01</td>\n      <td>245</td>\n      <td>246</td>\n      <td>4.0</td>\n      <td>62.0</td>\n      <td>Sudan</td>\n      <td>South Sudan</td>\n      <td>625</td>\n      <td>626</td>\n      <td>...</td>\n      <td>-0.043337</td>\n      <td>-0.032792</td>\n      <td>-0.030876</td>\n      <td>-0.072691</td>\n      <td>0.046812</td>\n      <td>-0.068986</td>\n      <td>0.196327</td>\n      <td>-0.038974</td>\n      <td>0.076396</td>\n      <td>-0.087253</td>\n    </tr>\n  </tbody>\n</table>\n<p>36290 rows × 655 columns</p>\n</div>"
     },
     "execution_count": 312,
     "metadata": {},
     "output_type": "execute_result"
    }
   ],
   "source": [
    "tests_dyad_df"
   ],
   "metadata": {
    "collapsed": false,
    "ExecuteTime": {
     "end_time": "2024-03-26T18:08:17.138706Z",
     "start_time": "2024-03-26T18:08:17.104786Z"
    }
   },
   "id": "6bd378bca36339cd"
  },
  {
   "cell_type": "code",
   "execution_count": 313,
   "outputs": [],
   "source": [
    "def aggregate_country_month_data(dyad_df):\n",
    "    \"\"\"\n",
    "    Aggregates a dyad DataFrame by country and month, including specified shifted values for ged_sb.\n",
    "\n",
    "    Parameters:\n",
    "    - dyad_df: The input DataFrame containing dyadic data.\n",
    "    - a_ged_sb_shifted_name: The column name for shifted a_ged_sb values.\n",
    "    - b_ged_sb_shifted_name: The column name for shifted b_ged_sb values.\n",
    "\n",
    "    Returns:\n",
    "    - A DataFrame aggregated by month and country, including mean ged_sb and shifted ged_sb values.\n",
    "    \"\"\"\n",
    "    # Step 1: Prepare separate DataFrames for each country role\n",
    "    df_a = dyad_df[\n",
    "        ['month_id', 'date', 'country_id_a', 'a_country_name', 'a_ged_sb_15_shifted', 'a_ged_sb_pred']].copy()\n",
    "    df_b = dyad_df[\n",
    "        ['month_id', 'date', 'country_id_b', 'b_country_name', 'b_ged_sb_15_shifted', 'b_ged_sb_pred']].copy()\n",
    "\n",
    "    # Step 2: Rename columns for consistency\n",
    "    df_a.rename(columns={'country_id_a': 'country_id', 'a_country_name': 'country_name',\n",
    "                         'a_ged_sb_15_shifted': 'ged_sb_actual', 'a_ged_sb_pred': 'ged_sb_pred'}, inplace=True)\n",
    "    df_b.rename(columns={'country_id_b': 'country_id', 'b_country_name': 'country_name',\n",
    "                         'b_ged_sb_15_shifted': 'ged_sb_actual', 'b_ged_sb_pred': 'ged_sb_pred'}, inplace=True)\n",
    "\n",
    "    # Step 3: Concatenate and group\n",
    "    combined_country_df = pd.concat([df_a, df_b], ignore_index=True)\n",
    "    aggregated_df = combined_country_df.groupby(['month_id', 'date', 'country_id', 'country_name']).agg(\n",
    "        {'ged_sb_actual': 'mean', 'ged_sb_pred': 'mean'}).reset_index()\n",
    "\n",
    "    return aggregated_df\n"
   ],
   "metadata": {
    "collapsed": false,
    "ExecuteTime": {
     "end_time": "2024-03-26T18:08:17.138842Z",
     "start_time": "2024-03-26T18:08:17.128314Z"
    }
   },
   "id": "3aa9c2cc65d04e22"
  },
  {
   "cell_type": "code",
   "execution_count": 314,
   "outputs": [
    {
     "ename": "TypeError",
     "evalue": "mean() got an unexpected keyword argument 'engine_kwargs'",
     "output_type": "error",
     "traceback": [
      "\u001B[0;31m---------------------------------------------------------------------------\u001B[0m",
      "\u001B[0;31mTypeError\u001B[0m                                 Traceback (most recent call last)",
      "Cell \u001B[0;32mIn[314], line 2\u001B[0m\n\u001B[1;32m      1\u001B[0m \u001B[38;5;66;03m# Convert back to country months\u001B[39;00m\n\u001B[0;32m----> 2\u001B[0m test_df \u001B[38;5;241m=\u001B[39m \u001B[43maggregate_country_month_data\u001B[49m\u001B[43m(\u001B[49m\u001B[43mtests_dyad_df\u001B[49m\u001B[43m)\u001B[49m\n\u001B[1;32m      3\u001B[0m \u001B[38;5;66;03m# rename to the same names as in XGBoost\u001B[39;00m\n\u001B[1;32m      4\u001B[0m target \u001B[38;5;241m=\u001B[39m \u001B[38;5;124m'\u001B[39m\u001B[38;5;124my_shifted\u001B[39m\u001B[38;5;124m'\u001B[39m\n",
      "Cell \u001B[0;32mIn[313], line 27\u001B[0m, in \u001B[0;36maggregate_country_month_data\u001B[0;34m(dyad_df)\u001B[0m\n\u001B[1;32m     25\u001B[0m \u001B[38;5;66;03m# Step 3: Concatenate and group\u001B[39;00m\n\u001B[1;32m     26\u001B[0m combined_country_df \u001B[38;5;241m=\u001B[39m pd\u001B[38;5;241m.\u001B[39mconcat([df_a, df_b], ignore_index\u001B[38;5;241m=\u001B[39m\u001B[38;5;28;01mTrue\u001B[39;00m)\n\u001B[0;32m---> 27\u001B[0m aggregated_df \u001B[38;5;241m=\u001B[39m \u001B[43mcombined_country_df\u001B[49m\u001B[38;5;241;43m.\u001B[39;49m\u001B[43mgroupby\u001B[49m\u001B[43m(\u001B[49m\u001B[43m[\u001B[49m\u001B[38;5;124;43m'\u001B[39;49m\u001B[38;5;124;43mmonth_id\u001B[39;49m\u001B[38;5;124;43m'\u001B[39;49m\u001B[43m,\u001B[49m\u001B[43m \u001B[49m\u001B[38;5;124;43m'\u001B[39;49m\u001B[38;5;124;43mdate\u001B[39;49m\u001B[38;5;124;43m'\u001B[39;49m\u001B[43m,\u001B[49m\u001B[43m \u001B[49m\u001B[38;5;124;43m'\u001B[39;49m\u001B[38;5;124;43mcountry_id\u001B[39;49m\u001B[38;5;124;43m'\u001B[39;49m\u001B[43m,\u001B[49m\u001B[43m \u001B[49m\u001B[38;5;124;43m'\u001B[39;49m\u001B[38;5;124;43mcountry_name\u001B[39;49m\u001B[38;5;124;43m'\u001B[39;49m\u001B[43m]\u001B[49m\u001B[43m)\u001B[49m\u001B[38;5;241;43m.\u001B[39;49m\u001B[43magg\u001B[49m\u001B[43m(\u001B[49m\n\u001B[1;32m     28\u001B[0m \u001B[43m    \u001B[49m\u001B[43m{\u001B[49m\u001B[38;5;124;43m'\u001B[39;49m\u001B[38;5;124;43mged_sb_actual\u001B[39;49m\u001B[38;5;124;43m'\u001B[39;49m\u001B[43m:\u001B[49m\u001B[43m \u001B[49m\u001B[38;5;124;43m'\u001B[39;49m\u001B[38;5;124;43mmean\u001B[39;49m\u001B[38;5;124;43m'\u001B[39;49m\u001B[43m,\u001B[49m\u001B[43m \u001B[49m\u001B[38;5;124;43m'\u001B[39;49m\u001B[38;5;124;43mged_sb_pred\u001B[39;49m\u001B[38;5;124;43m'\u001B[39;49m\u001B[43m:\u001B[49m\u001B[43m \u001B[49m\u001B[38;5;124;43m'\u001B[39;49m\u001B[38;5;124;43mmean\u001B[39;49m\u001B[38;5;124;43m'\u001B[39;49m\u001B[43m}\u001B[49m\u001B[43m)\u001B[49m\u001B[38;5;241m.\u001B[39mreset_index()\n\u001B[1;32m     30\u001B[0m \u001B[38;5;28;01mreturn\u001B[39;00m aggregated_df\n",
      "File \u001B[0;32m~/Library/Caches/pypoetry/virtualenvs/my_project-FBv7emLR-py3.10/lib/python3.10/site-packages/pandas/core/groupby/generic.py:1442\u001B[0m, in \u001B[0;36mDataFrameGroupBy.aggregate\u001B[0;34m(self, func, engine, engine_kwargs, *args, **kwargs)\u001B[0m\n\u001B[1;32m   1439\u001B[0m     kwargs[\u001B[38;5;124m\"\u001B[39m\u001B[38;5;124mengine_kwargs\u001B[39m\u001B[38;5;124m\"\u001B[39m] \u001B[38;5;241m=\u001B[39m engine_kwargs\n\u001B[1;32m   1441\u001B[0m op \u001B[38;5;241m=\u001B[39m GroupByApply(\u001B[38;5;28mself\u001B[39m, func, args\u001B[38;5;241m=\u001B[39margs, kwargs\u001B[38;5;241m=\u001B[39mkwargs)\n\u001B[0;32m-> 1442\u001B[0m result \u001B[38;5;241m=\u001B[39m \u001B[43mop\u001B[49m\u001B[38;5;241;43m.\u001B[39;49m\u001B[43magg\u001B[49m\u001B[43m(\u001B[49m\u001B[43m)\u001B[49m\n\u001B[1;32m   1443\u001B[0m \u001B[38;5;28;01mif\u001B[39;00m \u001B[38;5;129;01mnot\u001B[39;00m is_dict_like(func) \u001B[38;5;129;01mand\u001B[39;00m result \u001B[38;5;129;01mis\u001B[39;00m \u001B[38;5;129;01mnot\u001B[39;00m \u001B[38;5;28;01mNone\u001B[39;00m:\n\u001B[1;32m   1444\u001B[0m     \u001B[38;5;66;03m# GH #52849\u001B[39;00m\n\u001B[1;32m   1445\u001B[0m     \u001B[38;5;28;01mif\u001B[39;00m \u001B[38;5;129;01mnot\u001B[39;00m \u001B[38;5;28mself\u001B[39m\u001B[38;5;241m.\u001B[39mas_index \u001B[38;5;129;01mand\u001B[39;00m is_list_like(func):\n",
      "File \u001B[0;32m~/Library/Caches/pypoetry/virtualenvs/my_project-FBv7emLR-py3.10/lib/python3.10/site-packages/pandas/core/apply.py:175\u001B[0m, in \u001B[0;36mApply.agg\u001B[0;34m(self)\u001B[0m\n\u001B[1;32m    172\u001B[0m     \u001B[38;5;28;01mreturn\u001B[39;00m \u001B[38;5;28mself\u001B[39m\u001B[38;5;241m.\u001B[39mapply_str()\n\u001B[1;32m    174\u001B[0m \u001B[38;5;28;01mif\u001B[39;00m is_dict_like(func):\n\u001B[0;32m--> 175\u001B[0m     \u001B[38;5;28;01mreturn\u001B[39;00m \u001B[38;5;28;43mself\u001B[39;49m\u001B[38;5;241;43m.\u001B[39;49m\u001B[43magg_dict_like\u001B[49m\u001B[43m(\u001B[49m\u001B[43m)\u001B[49m\n\u001B[1;32m    176\u001B[0m \u001B[38;5;28;01melif\u001B[39;00m is_list_like(func):\n\u001B[1;32m    177\u001B[0m     \u001B[38;5;66;03m# we require a list, but not a 'str'\u001B[39;00m\n\u001B[1;32m    178\u001B[0m     \u001B[38;5;28;01mreturn\u001B[39;00m \u001B[38;5;28mself\u001B[39m\u001B[38;5;241m.\u001B[39magg_list_like()\n",
      "File \u001B[0;32m~/Library/Caches/pypoetry/virtualenvs/my_project-FBv7emLR-py3.10/lib/python3.10/site-packages/pandas/core/apply.py:406\u001B[0m, in \u001B[0;36mApply.agg_dict_like\u001B[0;34m(self)\u001B[0m\n\u001B[1;32m    398\u001B[0m \u001B[38;5;28;01mdef\u001B[39;00m \u001B[38;5;21magg_dict_like\u001B[39m(\u001B[38;5;28mself\u001B[39m) \u001B[38;5;241m-\u001B[39m\u001B[38;5;241m>\u001B[39m DataFrame \u001B[38;5;241m|\u001B[39m Series:\n\u001B[1;32m    399\u001B[0m \u001B[38;5;250m    \u001B[39m\u001B[38;5;124;03m\"\"\"\u001B[39;00m\n\u001B[1;32m    400\u001B[0m \u001B[38;5;124;03m    Compute aggregation in the case of a dict-like argument.\u001B[39;00m\n\u001B[1;32m    401\u001B[0m \n\u001B[0;32m   (...)\u001B[0m\n\u001B[1;32m    404\u001B[0m \u001B[38;5;124;03m    Result of aggregation.\u001B[39;00m\n\u001B[1;32m    405\u001B[0m \u001B[38;5;124;03m    \"\"\"\u001B[39;00m\n\u001B[0;32m--> 406\u001B[0m     \u001B[38;5;28;01mreturn\u001B[39;00m \u001B[38;5;28;43mself\u001B[39;49m\u001B[38;5;241;43m.\u001B[39;49m\u001B[43magg_or_apply_dict_like\u001B[49m\u001B[43m(\u001B[49m\u001B[43mop_name\u001B[49m\u001B[38;5;241;43m=\u001B[39;49m\u001B[38;5;124;43m\"\u001B[39;49m\u001B[38;5;124;43magg\u001B[39;49m\u001B[38;5;124;43m\"\u001B[39;49m\u001B[43m)\u001B[49m\n",
      "File \u001B[0;32m~/Library/Caches/pypoetry/virtualenvs/my_project-FBv7emLR-py3.10/lib/python3.10/site-packages/pandas/core/apply.py:1390\u001B[0m, in \u001B[0;36mGroupByApply.agg_or_apply_dict_like\u001B[0;34m(self, op_name)\u001B[0m\n\u001B[1;32m   1385\u001B[0m     kwargs\u001B[38;5;241m.\u001B[39mupdate({\u001B[38;5;124m\"\u001B[39m\u001B[38;5;124mengine\u001B[39m\u001B[38;5;124m\"\u001B[39m: engine, \u001B[38;5;124m\"\u001B[39m\u001B[38;5;124mengine_kwargs\u001B[39m\u001B[38;5;124m\"\u001B[39m: engine_kwargs})\n\u001B[1;32m   1387\u001B[0m \u001B[38;5;28;01mwith\u001B[39;00m com\u001B[38;5;241m.\u001B[39mtemp_setattr(\n\u001B[1;32m   1388\u001B[0m     obj, \u001B[38;5;124m\"\u001B[39m\u001B[38;5;124mas_index\u001B[39m\u001B[38;5;124m\"\u001B[39m, \u001B[38;5;28;01mTrue\u001B[39;00m, condition\u001B[38;5;241m=\u001B[39m\u001B[38;5;28mhasattr\u001B[39m(obj, \u001B[38;5;124m\"\u001B[39m\u001B[38;5;124mas_index\u001B[39m\u001B[38;5;124m\"\u001B[39m)\n\u001B[1;32m   1389\u001B[0m ):\n\u001B[0;32m-> 1390\u001B[0m     result_index, result_data \u001B[38;5;241m=\u001B[39m \u001B[38;5;28;43mself\u001B[39;49m\u001B[38;5;241;43m.\u001B[39;49m\u001B[43mcompute_dict_like\u001B[49m\u001B[43m(\u001B[49m\n\u001B[1;32m   1391\u001B[0m \u001B[43m        \u001B[49m\u001B[43mop_name\u001B[49m\u001B[43m,\u001B[49m\u001B[43m \u001B[49m\u001B[43mselected_obj\u001B[49m\u001B[43m,\u001B[49m\u001B[43m \u001B[49m\u001B[43mselection\u001B[49m\u001B[43m,\u001B[49m\u001B[43m \u001B[49m\u001B[43mkwargs\u001B[49m\n\u001B[1;32m   1392\u001B[0m \u001B[43m    \u001B[49m\u001B[43m)\u001B[49m\n\u001B[1;32m   1393\u001B[0m result \u001B[38;5;241m=\u001B[39m \u001B[38;5;28mself\u001B[39m\u001B[38;5;241m.\u001B[39mwrap_results_dict_like(selected_obj, result_index, result_data)\n\u001B[1;32m   1394\u001B[0m \u001B[38;5;28;01mreturn\u001B[39;00m result\n",
      "File \u001B[0;32m~/Library/Caches/pypoetry/virtualenvs/my_project-FBv7emLR-py3.10/lib/python3.10/site-packages/pandas/core/apply.py:463\u001B[0m, in \u001B[0;36mApply.compute_dict_like\u001B[0;34m(self, op_name, selected_obj, selection, kwargs)\u001B[0m\n\u001B[1;32m    460\u001B[0m \u001B[38;5;28;01mfor\u001B[39;00m index, label \u001B[38;5;129;01min\u001B[39;00m \u001B[38;5;28mzip\u001B[39m(indices, labels):\n\u001B[1;32m    461\u001B[0m     label_to_indices[label]\u001B[38;5;241m.\u001B[39mappend(index)\n\u001B[0;32m--> 463\u001B[0m key_data \u001B[38;5;241m=\u001B[39m [\n\u001B[1;32m    464\u001B[0m     \u001B[38;5;28mgetattr\u001B[39m(selected_obj\u001B[38;5;241m.\u001B[39m_ixs(indice, axis\u001B[38;5;241m=\u001B[39m\u001B[38;5;241m1\u001B[39m), op_name)(how, \u001B[38;5;241m*\u001B[39m\u001B[38;5;241m*\u001B[39mkwargs)\n\u001B[1;32m    465\u001B[0m     \u001B[38;5;28;01mfor\u001B[39;00m label, indices \u001B[38;5;129;01min\u001B[39;00m label_to_indices\u001B[38;5;241m.\u001B[39mitems()\n\u001B[1;32m    466\u001B[0m     \u001B[38;5;28;01mfor\u001B[39;00m indice \u001B[38;5;129;01min\u001B[39;00m indices\n\u001B[1;32m    467\u001B[0m ]\n\u001B[1;32m    469\u001B[0m keys \u001B[38;5;241m+\u001B[39m\u001B[38;5;241m=\u001B[39m [key] \u001B[38;5;241m*\u001B[39m \u001B[38;5;28mlen\u001B[39m(key_data)\n\u001B[1;32m    470\u001B[0m results \u001B[38;5;241m+\u001B[39m\u001B[38;5;241m=\u001B[39m key_data\n",
      "File \u001B[0;32m~/Library/Caches/pypoetry/virtualenvs/my_project-FBv7emLR-py3.10/lib/python3.10/site-packages/pandas/core/apply.py:464\u001B[0m, in \u001B[0;36m<listcomp>\u001B[0;34m(.0)\u001B[0m\n\u001B[1;32m    460\u001B[0m \u001B[38;5;28;01mfor\u001B[39;00m index, label \u001B[38;5;129;01min\u001B[39;00m \u001B[38;5;28mzip\u001B[39m(indices, labels):\n\u001B[1;32m    461\u001B[0m     label_to_indices[label]\u001B[38;5;241m.\u001B[39mappend(index)\n\u001B[1;32m    463\u001B[0m key_data \u001B[38;5;241m=\u001B[39m [\n\u001B[0;32m--> 464\u001B[0m     \u001B[38;5;28;43mgetattr\u001B[39;49m\u001B[43m(\u001B[49m\u001B[43mselected_obj\u001B[49m\u001B[38;5;241;43m.\u001B[39;49m\u001B[43m_ixs\u001B[49m\u001B[43m(\u001B[49m\u001B[43mindice\u001B[49m\u001B[43m,\u001B[49m\u001B[43m \u001B[49m\u001B[43maxis\u001B[49m\u001B[38;5;241;43m=\u001B[39;49m\u001B[38;5;241;43m1\u001B[39;49m\u001B[43m)\u001B[49m\u001B[43m,\u001B[49m\u001B[43m \u001B[49m\u001B[43mop_name\u001B[49m\u001B[43m)\u001B[49m\u001B[43m(\u001B[49m\u001B[43mhow\u001B[49m\u001B[43m,\u001B[49m\u001B[43m \u001B[49m\u001B[38;5;241;43m*\u001B[39;49m\u001B[38;5;241;43m*\u001B[39;49m\u001B[43mkwargs\u001B[49m\u001B[43m)\u001B[49m\n\u001B[1;32m    465\u001B[0m     \u001B[38;5;28;01mfor\u001B[39;00m label, indices \u001B[38;5;129;01min\u001B[39;00m label_to_indices\u001B[38;5;241m.\u001B[39mitems()\n\u001B[1;32m    466\u001B[0m     \u001B[38;5;28;01mfor\u001B[39;00m indice \u001B[38;5;129;01min\u001B[39;00m indices\n\u001B[1;32m    467\u001B[0m ]\n\u001B[1;32m    469\u001B[0m keys \u001B[38;5;241m+\u001B[39m\u001B[38;5;241m=\u001B[39m [key] \u001B[38;5;241m*\u001B[39m \u001B[38;5;28mlen\u001B[39m(key_data)\n\u001B[1;32m    470\u001B[0m results \u001B[38;5;241m+\u001B[39m\u001B[38;5;241m=\u001B[39m key_data\n",
      "File \u001B[0;32m~/Library/Caches/pypoetry/virtualenvs/my_project-FBv7emLR-py3.10/lib/python3.10/site-packages/pandas/core/series.py:4606\u001B[0m, in \u001B[0;36mSeries.aggregate\u001B[0;34m(self, func, axis, *args, **kwargs)\u001B[0m\n\u001B[1;32m   4603\u001B[0m     func \u001B[38;5;241m=\u001B[39m \u001B[38;5;28mdict\u001B[39m(kwargs\u001B[38;5;241m.\u001B[39mitems())\n\u001B[1;32m   4605\u001B[0m op \u001B[38;5;241m=\u001B[39m SeriesApply(\u001B[38;5;28mself\u001B[39m, func, args\u001B[38;5;241m=\u001B[39margs, kwargs\u001B[38;5;241m=\u001B[39mkwargs)\n\u001B[0;32m-> 4606\u001B[0m result \u001B[38;5;241m=\u001B[39m \u001B[43mop\u001B[49m\u001B[38;5;241;43m.\u001B[39;49m\u001B[43magg\u001B[49m\u001B[43m(\u001B[49m\u001B[43m)\u001B[49m\n\u001B[1;32m   4607\u001B[0m \u001B[38;5;28;01mreturn\u001B[39;00m result\n",
      "File \u001B[0;32m~/Library/Caches/pypoetry/virtualenvs/my_project-FBv7emLR-py3.10/lib/python3.10/site-packages/pandas/core/apply.py:1204\u001B[0m, in \u001B[0;36mSeriesApply.agg\u001B[0;34m(self)\u001B[0m\n\u001B[1;32m   1203\u001B[0m \u001B[38;5;28;01mdef\u001B[39;00m \u001B[38;5;21magg\u001B[39m(\u001B[38;5;28mself\u001B[39m):\n\u001B[0;32m-> 1204\u001B[0m     result \u001B[38;5;241m=\u001B[39m \u001B[38;5;28;43msuper\u001B[39;49m\u001B[43m(\u001B[49m\u001B[43m)\u001B[49m\u001B[38;5;241;43m.\u001B[39;49m\u001B[43magg\u001B[49m\u001B[43m(\u001B[49m\u001B[43m)\u001B[49m\n\u001B[1;32m   1205\u001B[0m     \u001B[38;5;28;01mif\u001B[39;00m result \u001B[38;5;129;01mis\u001B[39;00m \u001B[38;5;28;01mNone\u001B[39;00m:\n\u001B[1;32m   1206\u001B[0m         obj \u001B[38;5;241m=\u001B[39m \u001B[38;5;28mself\u001B[39m\u001B[38;5;241m.\u001B[39mobj\n",
      "File \u001B[0;32m~/Library/Caches/pypoetry/virtualenvs/my_project-FBv7emLR-py3.10/lib/python3.10/site-packages/pandas/core/apply.py:172\u001B[0m, in \u001B[0;36mApply.agg\u001B[0;34m(self)\u001B[0m\n\u001B[1;32m    169\u001B[0m kwargs \u001B[38;5;241m=\u001B[39m \u001B[38;5;28mself\u001B[39m\u001B[38;5;241m.\u001B[39mkwargs\n\u001B[1;32m    171\u001B[0m \u001B[38;5;28;01mif\u001B[39;00m \u001B[38;5;28misinstance\u001B[39m(func, \u001B[38;5;28mstr\u001B[39m):\n\u001B[0;32m--> 172\u001B[0m     \u001B[38;5;28;01mreturn\u001B[39;00m \u001B[38;5;28;43mself\u001B[39;49m\u001B[38;5;241;43m.\u001B[39;49m\u001B[43mapply_str\u001B[49m\u001B[43m(\u001B[49m\u001B[43m)\u001B[49m\n\u001B[1;32m    174\u001B[0m \u001B[38;5;28;01mif\u001B[39;00m is_dict_like(func):\n\u001B[1;32m    175\u001B[0m     \u001B[38;5;28;01mreturn\u001B[39;00m \u001B[38;5;28mself\u001B[39m\u001B[38;5;241m.\u001B[39magg_dict_like()\n",
      "File \u001B[0;32m~/Library/Caches/pypoetry/virtualenvs/my_project-FBv7emLR-py3.10/lib/python3.10/site-packages/pandas/core/apply.py:580\u001B[0m, in \u001B[0;36mApply.apply_str\u001B[0;34m(self)\u001B[0m\n\u001B[1;32m    578\u001B[0m         \u001B[38;5;28;01melse\u001B[39;00m:\n\u001B[1;32m    579\u001B[0m             \u001B[38;5;28mself\u001B[39m\u001B[38;5;241m.\u001B[39mkwargs[\u001B[38;5;124m\"\u001B[39m\u001B[38;5;124maxis\u001B[39m\u001B[38;5;124m\"\u001B[39m] \u001B[38;5;241m=\u001B[39m \u001B[38;5;28mself\u001B[39m\u001B[38;5;241m.\u001B[39maxis\n\u001B[0;32m--> 580\u001B[0m \u001B[38;5;28;01mreturn\u001B[39;00m \u001B[38;5;28;43mself\u001B[39;49m\u001B[38;5;241;43m.\u001B[39;49m\u001B[43m_apply_str\u001B[49m\u001B[43m(\u001B[49m\u001B[43mobj\u001B[49m\u001B[43m,\u001B[49m\u001B[43m \u001B[49m\u001B[43mfunc\u001B[49m\u001B[43m,\u001B[49m\u001B[43m \u001B[49m\u001B[38;5;241;43m*\u001B[39;49m\u001B[38;5;28;43mself\u001B[39;49m\u001B[38;5;241;43m.\u001B[39;49m\u001B[43margs\u001B[49m\u001B[43m,\u001B[49m\u001B[43m \u001B[49m\u001B[38;5;241;43m*\u001B[39;49m\u001B[38;5;241;43m*\u001B[39;49m\u001B[38;5;28;43mself\u001B[39;49m\u001B[38;5;241;43m.\u001B[39;49m\u001B[43mkwargs\u001B[49m\u001B[43m)\u001B[49m\n",
      "File \u001B[0;32m~/Library/Caches/pypoetry/virtualenvs/my_project-FBv7emLR-py3.10/lib/python3.10/site-packages/pandas/core/apply.py:663\u001B[0m, in \u001B[0;36mApply._apply_str\u001B[0;34m(self, obj, func, *args, **kwargs)\u001B[0m\n\u001B[1;32m    661\u001B[0m f \u001B[38;5;241m=\u001B[39m \u001B[38;5;28mgetattr\u001B[39m(obj, func)\n\u001B[1;32m    662\u001B[0m \u001B[38;5;28;01mif\u001B[39;00m \u001B[38;5;28mcallable\u001B[39m(f):\n\u001B[0;32m--> 663\u001B[0m     \u001B[38;5;28;01mreturn\u001B[39;00m \u001B[43mf\u001B[49m\u001B[43m(\u001B[49m\u001B[38;5;241;43m*\u001B[39;49m\u001B[43margs\u001B[49m\u001B[43m,\u001B[49m\u001B[43m \u001B[49m\u001B[38;5;241;43m*\u001B[39;49m\u001B[38;5;241;43m*\u001B[39;49m\u001B[43mkwargs\u001B[49m\u001B[43m)\u001B[49m\n\u001B[1;32m    665\u001B[0m \u001B[38;5;66;03m# people may aggregate on a non-callable attribute\u001B[39;00m\n\u001B[1;32m    666\u001B[0m \u001B[38;5;66;03m# but don't let them think they can pass args to it\u001B[39;00m\n\u001B[1;32m    667\u001B[0m \u001B[38;5;28;01massert\u001B[39;00m \u001B[38;5;28mlen\u001B[39m(args) \u001B[38;5;241m==\u001B[39m \u001B[38;5;241m0\u001B[39m\n",
      "File \u001B[0;32m~/Library/Caches/pypoetry/virtualenvs/my_project-FBv7emLR-py3.10/lib/python3.10/site-packages/pandas/core/series.py:6226\u001B[0m, in \u001B[0;36mSeries.mean\u001B[0;34m(self, axis, skipna, numeric_only, **kwargs)\u001B[0m\n\u001B[1;32m   6218\u001B[0m \u001B[38;5;129m@doc\u001B[39m(make_doc(\u001B[38;5;124m\"\u001B[39m\u001B[38;5;124mmean\u001B[39m\u001B[38;5;124m\"\u001B[39m, ndim\u001B[38;5;241m=\u001B[39m\u001B[38;5;241m1\u001B[39m))\n\u001B[1;32m   6219\u001B[0m \u001B[38;5;28;01mdef\u001B[39;00m \u001B[38;5;21mmean\u001B[39m(\n\u001B[1;32m   6220\u001B[0m     \u001B[38;5;28mself\u001B[39m,\n\u001B[0;32m   (...)\u001B[0m\n\u001B[1;32m   6224\u001B[0m     \u001B[38;5;241m*\u001B[39m\u001B[38;5;241m*\u001B[39mkwargs,\n\u001B[1;32m   6225\u001B[0m ):\n\u001B[0;32m-> 6226\u001B[0m     \u001B[38;5;28;01mreturn\u001B[39;00m \u001B[43mNDFrame\u001B[49m\u001B[38;5;241;43m.\u001B[39;49m\u001B[43mmean\u001B[49m\u001B[43m(\u001B[49m\u001B[38;5;28;43mself\u001B[39;49m\u001B[43m,\u001B[49m\u001B[43m \u001B[49m\u001B[43maxis\u001B[49m\u001B[43m,\u001B[49m\u001B[43m \u001B[49m\u001B[43mskipna\u001B[49m\u001B[43m,\u001B[49m\u001B[43m \u001B[49m\u001B[43mnumeric_only\u001B[49m\u001B[43m,\u001B[49m\u001B[43m \u001B[49m\u001B[38;5;241;43m*\u001B[39;49m\u001B[38;5;241;43m*\u001B[39;49m\u001B[43mkwargs\u001B[49m\u001B[43m)\u001B[49m\n",
      "File \u001B[0;32m~/Library/Caches/pypoetry/virtualenvs/my_project-FBv7emLR-py3.10/lib/python3.10/site-packages/pandas/core/generic.py:11969\u001B[0m, in \u001B[0;36mNDFrame.mean\u001B[0;34m(self, axis, skipna, numeric_only, **kwargs)\u001B[0m\n\u001B[1;32m  11962\u001B[0m \u001B[38;5;28;01mdef\u001B[39;00m \u001B[38;5;21mmean\u001B[39m(\n\u001B[1;32m  11963\u001B[0m     \u001B[38;5;28mself\u001B[39m,\n\u001B[1;32m  11964\u001B[0m     axis: Axis \u001B[38;5;241m|\u001B[39m \u001B[38;5;28;01mNone\u001B[39;00m \u001B[38;5;241m=\u001B[39m \u001B[38;5;241m0\u001B[39m,\n\u001B[0;32m   (...)\u001B[0m\n\u001B[1;32m  11967\u001B[0m     \u001B[38;5;241m*\u001B[39m\u001B[38;5;241m*\u001B[39mkwargs,\n\u001B[1;32m  11968\u001B[0m ) \u001B[38;5;241m-\u001B[39m\u001B[38;5;241m>\u001B[39m Series \u001B[38;5;241m|\u001B[39m \u001B[38;5;28mfloat\u001B[39m:\n\u001B[0;32m> 11969\u001B[0m     \u001B[38;5;28;01mreturn\u001B[39;00m \u001B[38;5;28;43mself\u001B[39;49m\u001B[38;5;241;43m.\u001B[39;49m\u001B[43m_stat_function\u001B[49m\u001B[43m(\u001B[49m\n\u001B[1;32m  11970\u001B[0m \u001B[43m        \u001B[49m\u001B[38;5;124;43m\"\u001B[39;49m\u001B[38;5;124;43mmean\u001B[39;49m\u001B[38;5;124;43m\"\u001B[39;49m\u001B[43m,\u001B[49m\u001B[43m \u001B[49m\u001B[43mnanops\u001B[49m\u001B[38;5;241;43m.\u001B[39;49m\u001B[43mnanmean\u001B[49m\u001B[43m,\u001B[49m\u001B[43m \u001B[49m\u001B[43maxis\u001B[49m\u001B[43m,\u001B[49m\u001B[43m \u001B[49m\u001B[43mskipna\u001B[49m\u001B[43m,\u001B[49m\u001B[43m \u001B[49m\u001B[43mnumeric_only\u001B[49m\u001B[43m,\u001B[49m\u001B[43m \u001B[49m\u001B[38;5;241;43m*\u001B[39;49m\u001B[38;5;241;43m*\u001B[39;49m\u001B[43mkwargs\u001B[49m\n\u001B[1;32m  11971\u001B[0m \u001B[43m    \u001B[49m\u001B[43m)\u001B[49m\n",
      "File \u001B[0;32m~/Library/Caches/pypoetry/virtualenvs/my_project-FBv7emLR-py3.10/lib/python3.10/site-packages/pandas/core/generic.py:11922\u001B[0m, in \u001B[0;36mNDFrame._stat_function\u001B[0;34m(self, name, func, axis, skipna, numeric_only, **kwargs)\u001B[0m\n\u001B[1;32m  11911\u001B[0m \u001B[38;5;129m@final\u001B[39m\n\u001B[1;32m  11912\u001B[0m \u001B[38;5;28;01mdef\u001B[39;00m \u001B[38;5;21m_stat_function\u001B[39m(\n\u001B[1;32m  11913\u001B[0m     \u001B[38;5;28mself\u001B[39m,\n\u001B[0;32m   (...)\u001B[0m\n\u001B[1;32m  11919\u001B[0m     \u001B[38;5;241m*\u001B[39m\u001B[38;5;241m*\u001B[39mkwargs,\n\u001B[1;32m  11920\u001B[0m ):\n\u001B[1;32m  11921\u001B[0m     \u001B[38;5;28;01massert\u001B[39;00m name \u001B[38;5;129;01min\u001B[39;00m [\u001B[38;5;124m\"\u001B[39m\u001B[38;5;124mmedian\u001B[39m\u001B[38;5;124m\"\u001B[39m, \u001B[38;5;124m\"\u001B[39m\u001B[38;5;124mmean\u001B[39m\u001B[38;5;124m\"\u001B[39m, \u001B[38;5;124m\"\u001B[39m\u001B[38;5;124mmin\u001B[39m\u001B[38;5;124m\"\u001B[39m, \u001B[38;5;124m\"\u001B[39m\u001B[38;5;124mmax\u001B[39m\u001B[38;5;124m\"\u001B[39m, \u001B[38;5;124m\"\u001B[39m\u001B[38;5;124mkurt\u001B[39m\u001B[38;5;124m\"\u001B[39m, \u001B[38;5;124m\"\u001B[39m\u001B[38;5;124mskew\u001B[39m\u001B[38;5;124m\"\u001B[39m], name\n\u001B[0;32m> 11922\u001B[0m     \u001B[43mnv\u001B[49m\u001B[38;5;241;43m.\u001B[39;49m\u001B[43mvalidate_func\u001B[49m\u001B[43m(\u001B[49m\u001B[43mname\u001B[49m\u001B[43m,\u001B[49m\u001B[43m \u001B[49m\u001B[43m(\u001B[49m\u001B[43m)\u001B[49m\u001B[43m,\u001B[49m\u001B[43m \u001B[49m\u001B[43mkwargs\u001B[49m\u001B[43m)\u001B[49m\n\u001B[1;32m  11924\u001B[0m     validate_bool_kwarg(skipna, \u001B[38;5;124m\"\u001B[39m\u001B[38;5;124mskipna\u001B[39m\u001B[38;5;124m\"\u001B[39m, none_allowed\u001B[38;5;241m=\u001B[39m\u001B[38;5;28;01mFalse\u001B[39;00m)\n\u001B[1;32m  11926\u001B[0m     \u001B[38;5;28;01mreturn\u001B[39;00m \u001B[38;5;28mself\u001B[39m\u001B[38;5;241m.\u001B[39m_reduce(\n\u001B[1;32m  11927\u001B[0m         func, name\u001B[38;5;241m=\u001B[39mname, axis\u001B[38;5;241m=\u001B[39maxis, skipna\u001B[38;5;241m=\u001B[39mskipna, numeric_only\u001B[38;5;241m=\u001B[39mnumeric_only\n\u001B[1;32m  11928\u001B[0m     )\n",
      "File \u001B[0;32m~/Library/Caches/pypoetry/virtualenvs/my_project-FBv7emLR-py3.10/lib/python3.10/site-packages/pandas/compat/numpy/function.py:416\u001B[0m, in \u001B[0;36mvalidate_func\u001B[0;34m(fname, args, kwargs)\u001B[0m\n\u001B[1;32m    413\u001B[0m     \u001B[38;5;28;01mreturn\u001B[39;00m validate_stat_func(args, kwargs, fname\u001B[38;5;241m=\u001B[39mfname)\n\u001B[1;32m    415\u001B[0m validation_func \u001B[38;5;241m=\u001B[39m _validation_funcs[fname]\n\u001B[0;32m--> 416\u001B[0m \u001B[38;5;28;01mreturn\u001B[39;00m \u001B[43mvalidation_func\u001B[49m\u001B[43m(\u001B[49m\u001B[43margs\u001B[49m\u001B[43m,\u001B[49m\u001B[43m \u001B[49m\u001B[43mkwargs\u001B[49m\u001B[43m)\u001B[49m\n",
      "File \u001B[0;32m~/Library/Caches/pypoetry/virtualenvs/my_project-FBv7emLR-py3.10/lib/python3.10/site-packages/pandas/compat/numpy/function.py:88\u001B[0m, in \u001B[0;36mCompatValidator.__call__\u001B[0;34m(self, args, kwargs, fname, max_fname_arg_count, method)\u001B[0m\n\u001B[1;32m     86\u001B[0m     validate_kwargs(fname, kwargs, \u001B[38;5;28mself\u001B[39m\u001B[38;5;241m.\u001B[39mdefaults)\n\u001B[1;32m     87\u001B[0m \u001B[38;5;28;01melif\u001B[39;00m method \u001B[38;5;241m==\u001B[39m \u001B[38;5;124m\"\u001B[39m\u001B[38;5;124mboth\u001B[39m\u001B[38;5;124m\"\u001B[39m:\n\u001B[0;32m---> 88\u001B[0m     \u001B[43mvalidate_args_and_kwargs\u001B[49m\u001B[43m(\u001B[49m\n\u001B[1;32m     89\u001B[0m \u001B[43m        \u001B[49m\u001B[43mfname\u001B[49m\u001B[43m,\u001B[49m\u001B[43m \u001B[49m\u001B[43margs\u001B[49m\u001B[43m,\u001B[49m\u001B[43m \u001B[49m\u001B[43mkwargs\u001B[49m\u001B[43m,\u001B[49m\u001B[43m \u001B[49m\u001B[43mmax_fname_arg_count\u001B[49m\u001B[43m,\u001B[49m\u001B[43m \u001B[49m\u001B[38;5;28;43mself\u001B[39;49m\u001B[38;5;241;43m.\u001B[39;49m\u001B[43mdefaults\u001B[49m\n\u001B[1;32m     90\u001B[0m \u001B[43m    \u001B[49m\u001B[43m)\u001B[49m\n\u001B[1;32m     91\u001B[0m \u001B[38;5;28;01melse\u001B[39;00m:\n\u001B[1;32m     92\u001B[0m     \u001B[38;5;28;01mraise\u001B[39;00m \u001B[38;5;167;01mValueError\u001B[39;00m(\u001B[38;5;124mf\u001B[39m\u001B[38;5;124m\"\u001B[39m\u001B[38;5;124minvalid validation method \u001B[39m\u001B[38;5;124m'\u001B[39m\u001B[38;5;132;01m{\u001B[39;00mmethod\u001B[38;5;132;01m}\u001B[39;00m\u001B[38;5;124m'\u001B[39m\u001B[38;5;124m\"\u001B[39m)\n",
      "File \u001B[0;32m~/Library/Caches/pypoetry/virtualenvs/my_project-FBv7emLR-py3.10/lib/python3.10/site-packages/pandas/util/_validators.py:223\u001B[0m, in \u001B[0;36mvalidate_args_and_kwargs\u001B[0;34m(fname, args, kwargs, max_fname_arg_count, compat_args)\u001B[0m\n\u001B[1;32m    218\u001B[0m         \u001B[38;5;28;01mraise\u001B[39;00m \u001B[38;5;167;01mTypeError\u001B[39;00m(\n\u001B[1;32m    219\u001B[0m             \u001B[38;5;124mf\u001B[39m\u001B[38;5;124m\"\u001B[39m\u001B[38;5;132;01m{\u001B[39;00mfname\u001B[38;5;132;01m}\u001B[39;00m\u001B[38;5;124m() got multiple values for keyword argument \u001B[39m\u001B[38;5;124m'\u001B[39m\u001B[38;5;132;01m{\u001B[39;00mkey\u001B[38;5;132;01m}\u001B[39;00m\u001B[38;5;124m'\u001B[39m\u001B[38;5;124m\"\u001B[39m\n\u001B[1;32m    220\u001B[0m         )\n\u001B[1;32m    222\u001B[0m kwargs\u001B[38;5;241m.\u001B[39mupdate(args_dict)\n\u001B[0;32m--> 223\u001B[0m \u001B[43mvalidate_kwargs\u001B[49m\u001B[43m(\u001B[49m\u001B[43mfname\u001B[49m\u001B[43m,\u001B[49m\u001B[43m \u001B[49m\u001B[43mkwargs\u001B[49m\u001B[43m,\u001B[49m\u001B[43m \u001B[49m\u001B[43mcompat_args\u001B[49m\u001B[43m)\u001B[49m\n",
      "File \u001B[0;32m~/Library/Caches/pypoetry/virtualenvs/my_project-FBv7emLR-py3.10/lib/python3.10/site-packages/pandas/util/_validators.py:164\u001B[0m, in \u001B[0;36mvalidate_kwargs\u001B[0;34m(fname, kwargs, compat_args)\u001B[0m\n\u001B[1;32m    142\u001B[0m \u001B[38;5;250m\u001B[39m\u001B[38;5;124;03m\"\"\"\u001B[39;00m\n\u001B[1;32m    143\u001B[0m \u001B[38;5;124;03mChecks whether parameters passed to the **kwargs argument in a\u001B[39;00m\n\u001B[1;32m    144\u001B[0m \u001B[38;5;124;03mfunction `fname` are valid parameters as specified in `*compat_args`\u001B[39;00m\n\u001B[0;32m   (...)\u001B[0m\n\u001B[1;32m    161\u001B[0m \u001B[38;5;124;03mmap to the default values specified in `compat_args`\u001B[39;00m\n\u001B[1;32m    162\u001B[0m \u001B[38;5;124;03m\"\"\"\u001B[39;00m\n\u001B[1;32m    163\u001B[0m kwds \u001B[38;5;241m=\u001B[39m kwargs\u001B[38;5;241m.\u001B[39mcopy()\n\u001B[0;32m--> 164\u001B[0m \u001B[43m_check_for_invalid_keys\u001B[49m\u001B[43m(\u001B[49m\u001B[43mfname\u001B[49m\u001B[43m,\u001B[49m\u001B[43m \u001B[49m\u001B[43mkwargs\u001B[49m\u001B[43m,\u001B[49m\u001B[43m \u001B[49m\u001B[43mcompat_args\u001B[49m\u001B[43m)\u001B[49m\n\u001B[1;32m    165\u001B[0m _check_for_default_values(fname, kwds, compat_args)\n",
      "File \u001B[0;32m~/Library/Caches/pypoetry/virtualenvs/my_project-FBv7emLR-py3.10/lib/python3.10/site-packages/pandas/util/_validators.py:138\u001B[0m, in \u001B[0;36m_check_for_invalid_keys\u001B[0;34m(fname, kwargs, compat_args)\u001B[0m\n\u001B[1;32m    136\u001B[0m \u001B[38;5;28;01mif\u001B[39;00m diff:\n\u001B[1;32m    137\u001B[0m     bad_arg \u001B[38;5;241m=\u001B[39m \u001B[38;5;28mnext\u001B[39m(\u001B[38;5;28miter\u001B[39m(diff))\n\u001B[0;32m--> 138\u001B[0m     \u001B[38;5;28;01mraise\u001B[39;00m \u001B[38;5;167;01mTypeError\u001B[39;00m(\u001B[38;5;124mf\u001B[39m\u001B[38;5;124m\"\u001B[39m\u001B[38;5;132;01m{\u001B[39;00mfname\u001B[38;5;132;01m}\u001B[39;00m\u001B[38;5;124m() got an unexpected keyword argument \u001B[39m\u001B[38;5;124m'\u001B[39m\u001B[38;5;132;01m{\u001B[39;00mbad_arg\u001B[38;5;132;01m}\u001B[39;00m\u001B[38;5;124m'\u001B[39m\u001B[38;5;124m\"\u001B[39m)\n",
      "\u001B[0;31mTypeError\u001B[0m: mean() got an unexpected keyword argument 'engine_kwargs'"
     ]
    }
   ],
   "source": [
    "\n",
    "# Convert back to country months\n",
    "test_df = aggregate_country_month_data(tests_dyad_df)\n",
    "# rename to the same names as in XGBoost\n",
    "target = 'y_shifted'\n",
    "test_df = test_df.rename(columns={\"ged_sb_actual\": target, \"ged_sb_pred\": 'predictions'})\n",
    "test_df"
   ],
   "metadata": {
    "collapsed": false,
    "ExecuteTime": {
     "end_time": "2024-03-26T18:08:17.233155Z",
     "start_time": "2024-03-26T18:08:17.131437Z"
    }
   },
   "id": "99243daf9e522a22"
  },
  {
   "cell_type": "code",
   "execution_count": null,
   "outputs": [],
   "source": [
    "# # plot \n",
    "# # Create subplot for current month\n",
    "# # plt.subplot(grid_size_x, grid_size_y, index)\n",
    "# plt.scatter(actuals[0], predictions[0], color='blue', label='Actual vs Predicted', alpha=0.5)\n",
    "# # print current_date in YY/MM format\n",
    "# # print_date = current_date.strftime('%Y-%m')\n",
    "# plt.title(f'All - RMSE: {mse.item():.2f}')\n",
    "# plt.xlabel('Actual')\n",
    "# plt.ylabel('Predicted')\n",
    "# # plt.xscale('log')\n",
    "# # plt.yscale('log')\n",
    "# plt.plot([0, 20], [0, 20], color='red', label='45 degree line')\n",
    "# plt.show()"
   ],
   "metadata": {
    "collapsed": false,
    "ExecuteTime": {
     "start_time": "2024-03-26T18:08:17.221080Z"
    }
   },
   "id": "c34f3df37f65875e"
  },
  {
   "cell_type": "code",
   "execution_count": null,
   "outputs": [],
   "source": [
    "from sklearn.metrics import mean_squared_error\n",
    "from math import sqrt\n",
    "import matplotlib.pyplot as plt\n",
    "\n",
    "# Assuming test_df is your DataFrame, and 'target' and 'predictions' are columns in it\n",
    "unique_months = test_df['month_id'].unique()\n",
    "n_months = len(unique_months)\n",
    "\n",
    "# Calculate the grid size for the subplot (simple square root approximation for a square grid)\n",
    "grid_size_x = int(n_months ** 0.5) + (1 if n_months % int(n_months ** 0.5) else 0)\n",
    "grid_size_y = grid_size_x + 1\n",
    "\n",
    "PLOT_LOG = False\n",
    "if PLOT_LOG:\n",
    "    # apply shift\n",
    "    shift_val = min(test_df[target].min(), test_df['predictions'].min())\n",
    "    test_df['predictions_moved'] = test_df['predictions'] + abs(shift_val) + 0.0001\n",
    "    test_df[target + \"_moved\"] = test_df[target] + abs(shift_val) + 0.0001\n",
    "    actuals_col = target + \"_moved\"\n",
    "    predictions_col = \"predictions_moved\"\n",
    "else:\n",
    "    actuals_col = target\n",
    "    predictions_col = \"predictions\"\n",
    "\n",
    "# print(f'Grid size: {grid_size}')\n",
    "# Set overall figure size\n",
    "plt.figure(figsize=(grid_size_x * 6, grid_size_y * 3))  # Adjust the size factors (6, 4) based on your preference\n",
    "\n",
    "for index, month_id in enumerate(unique_months, start=1):\n",
    "    this_month = test_df[test_df['month_id'] == month_id]\n",
    "    mean_sq_error = sqrt(mean_squared_error(this_month[target], this_month['predictions']))\n",
    "    print(\"Countries in this month: \", this_month['country_id'].unique())\n",
    "    current_date = this_month[\"date\"].iloc[0]\n",
    "    target_month = this_month[actuals_col]\n",
    "    predictions_month = this_month[predictions_col]\n",
    "\n",
    "    # Create subplot for current month\n",
    "    plt.subplot(grid_size_x, grid_size_y, index)\n",
    "    plt.scatter(target_month, predictions_month, color='blue', label='Actual vs Predicted', alpha=0.5)\n",
    "    # print current_date in YY/MM format\n",
    "    print_date = current_date.strftime('%Y-%m')\n",
    "    plt.title(f'Date {print_date} - RMSE: {mean_sq_error:.2f}')\n",
    "    plt.xlabel('Actual')\n",
    "    plt.ylabel('Predicted')\n",
    "    if PLOT_LOG:\n",
    "        plt.xscale('log')\n",
    "        plt.yscale('log')\n",
    "    plt.plot([0, 4], [0, 4], color='red', label='45 degree line')\n",
    "    plt.legend()\n",
    "    plt.xticks(rotation=45)\n",
    "\n",
    "# Adjust layout to prevent overlap\n",
    "plt.tight_layout()\n",
    "plt.show()\n",
    "\n"
   ],
   "metadata": {
    "collapsed": false,
    "ExecuteTime": {
     "start_time": "2024-03-26T18:08:17.222488Z"
    }
   },
   "id": "de55be2f4e3ce33d"
  },
  {
   "cell_type": "code",
   "execution_count": null,
   "outputs": [],
   "source": [
    "# check how many actuals are 0\n",
    "test_df['predictions_log'] = test_df['predictions'].apply(lambda x: numpy.log(x))\n",
    "test_df['target_log'] = test_df[target].apply(lambda x: numpy.log(x))\n",
    "# shift by min value to avoid negative values + 0.0001\n"
   ],
   "metadata": {
    "collapsed": false,
    "ExecuteTime": {
     "start_time": "2024-03-26T18:08:17.223916Z"
    }
   },
   "id": "a0fd436605010ab8"
  },
  {
   "cell_type": "code",
   "execution_count": null,
   "outputs": [],
   "source": [
    "torch.backends.mps.is_available()"
   ],
   "metadata": {
    "collapsed": false,
    "ExecuteTime": {
     "start_time": "2024-03-26T18:08:17.225115Z"
    }
   },
   "id": "8be300d55b898f9c"
  },
  {
   "cell_type": "code",
   "execution_count": null,
   "outputs": [],
   "source": [
    "next(model.parameters()).device"
   ],
   "metadata": {
    "collapsed": false,
    "ExecuteTime": {
     "start_time": "2024-03-26T18:08:17.226585Z"
    }
   },
   "id": "cc6c212710d47085"
  },
  {
   "cell_type": "code",
   "execution_count": null,
   "outputs": [],
   "source": [
    "import plotly.graph_objects as go\n",
    "from plotly.subplots import make_subplots\n",
    "\n",
    "country_list = pd.read_csv('data/country_list.csv')\n",
    "\n",
    "country_ids = test_df['country_id'].unique().tolist()\n",
    "# drop country if all actuals are 0\n",
    "# [country_ids.remove(country_id) for country_id in country_ids if test_df[test_df['country_id'] == country_id][target].sum() == 0]\n",
    "\n",
    "for country_id in country_ids:\n",
    "    # Data for this country\n",
    "    this_country_test = test_df[test_df['country_id'] == country_id]\n",
    "    # this_country_train = train_df[train_df['country_id'] == country_id]\n",
    "    country_name = country_list[country_list['country_id'] == country_id]['name'].values[0]\n",
    "\n",
    "    # skip country if all actuals are 0\n",
    "    if this_country_test[target].sum() == 0:\n",
    "        print(f\"Skipping {country_name} as all actuals are 0\")\n",
    "        continue\n",
    "\n",
    "    plt.figure(figsize=(10, 6))\n",
    "\n",
    "    # Plot training data\n",
    "    # plt.plot(this_country_train['date'], this_country_train[target], label=f'{country_name} Train', color='gray',\n",
    "    #          linestyle='-', marker='')\n",
    "\n",
    "    # Plot test actual data\n",
    "    plt.plot(this_country_test['date'], this_country_test[target], label=f'{country_name} Test Actual', color='blue',\n",
    "             linestyle='-', marker='')\n",
    "\n",
    "    # Plot predicted data\n",
    "    plt.plot(this_country_test['date'], this_country_test['predictions'], label=f'{country_name} Predicted',\n",
    "             color='red', linestyle='-', marker='')\n",
    "\n",
    "    # plot benchmark\n",
    "    benchmark_country = benchmark_model[benchmark_model['country_id'] == country_id]\n",
    "    plt.plot(benchmark_country['date'], benchmark_country['outcome'], label=f'{country_name} Benchmark', color='green',\n",
    "             linestyle='--', marker='')\n",
    "\n",
    "    # # plot actuals\n",
    "    # actuals_country = actuals_model[actuals_model['country_id'] == country_id]\n",
    "    # plt.plot(actuals_country['date'], actuals_country['ged_sb'], label=f'{country_name} Actuals', color='purple',\n",
    "    #          linestyle='--', marker='')\n",
    "\n",
    "    # Adding title and labels\n",
    "    plt.title(f\"Actual vs Predicted Values for {country_name}\")\n",
    "    plt.xlabel(\"Date\")\n",
    "    plt.ylabel(\"Total number of battle-related deaths from state-based conflict\")\n",
    "    plt.legend()\n",
    "\n",
    "    # Show plot\n",
    "    plt.show()"
   ],
   "metadata": {
    "collapsed": false,
    "ExecuteTime": {
     "start_time": "2024-03-26T18:08:17.227746Z"
    }
   },
   "id": "e95011057b7d98f4"
  },
  {
   "cell_type": "code",
   "execution_count": null,
   "outputs": [],
   "source": [],
   "metadata": {
    "collapsed": false,
    "ExecuteTime": {
     "start_time": "2024-03-26T18:08:17.228758Z"
    }
   },
   "id": "abe00be2d567270b"
  }
 ],
 "metadata": {
  "kernelspec": {
   "display_name": "Python 3",
   "language": "python",
   "name": "python3"
  },
  "language_info": {
   "codemirror_mode": {
    "name": "ipython",
    "version": 2
   },
   "file_extension": ".py",
   "mimetype": "text/x-python",
   "name": "python",
   "nbconvert_exporter": "python",
   "pygments_lexer": "ipython2",
   "version": "2.7.6"
  }
 },
 "nbformat": 4,
 "nbformat_minor": 5
}
