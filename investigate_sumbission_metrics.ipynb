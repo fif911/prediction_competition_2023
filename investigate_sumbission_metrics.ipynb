{
 "cells": [
  {
   "cell_type": "code",
   "execution_count": 1,
   "outputs": [],
   "source": [
    "import pandas as pd\n",
    "\n",
    "# submission/boostrapped/eval/cm/window=Y2018/metric=crps/crps.parquet\n",
    "crps = pd.read_parquet('submission/boostrapped/eval/cm/window=Y2018/metric=crps/crps.parquet')"
   ],
   "metadata": {
    "collapsed": false,
    "ExecuteTime": {
     "end_time": "2024-04-01T08:55:44.156729Z",
     "start_time": "2024-04-01T08:55:43.776991Z"
    }
   },
   "id": "e17a6329455796f3"
  },
  {
   "cell_type": "code",
   "execution_count": 2,
   "outputs": [
    {
     "data": {
      "text/plain": "                        value\nmonth_id country_id          \n457      1           0.432535\n         2           0.730438\n         3           0.705294\n         4           1.223244\n         5           0.715356",
      "text/html": "<div>\n<style scoped>\n    .dataframe tbody tr th:only-of-type {\n        vertical-align: middle;\n    }\n\n    .dataframe tbody tr th {\n        vertical-align: top;\n    }\n\n    .dataframe thead th {\n        text-align: right;\n    }\n</style>\n<table border=\"1\" class=\"dataframe\">\n  <thead>\n    <tr style=\"text-align: right;\">\n      <th></th>\n      <th></th>\n      <th>value</th>\n    </tr>\n    <tr>\n      <th>month_id</th>\n      <th>country_id</th>\n      <th></th>\n    </tr>\n  </thead>\n  <tbody>\n    <tr>\n      <th rowspan=\"5\" valign=\"top\">457</th>\n      <th>1</th>\n      <td>0.432535</td>\n    </tr>\n    <tr>\n      <th>2</th>\n      <td>0.730438</td>\n    </tr>\n    <tr>\n      <th>3</th>\n      <td>0.705294</td>\n    </tr>\n    <tr>\n      <th>4</th>\n      <td>1.223244</td>\n    </tr>\n    <tr>\n      <th>5</th>\n      <td>0.715356</td>\n    </tr>\n  </tbody>\n</table>\n</div>"
     },
     "execution_count": 2,
     "metadata": {},
     "output_type": "execute_result"
    }
   ],
   "source": [
    "crps.head()"
   ],
   "metadata": {
    "collapsed": false,
    "ExecuteTime": {
     "end_time": "2024-04-01T08:55:44.862783Z",
     "start_time": "2024-04-01T08:55:44.852186Z"
    }
   },
   "id": "3650a760399dbae7"
  },
  {
   "cell_type": "code",
   "execution_count": 3,
   "outputs": [
    {
     "data": {
      "text/plain": "                         value\nmonth_id country_id           \n457      1            0.432535\n         2            0.730438\n         3            0.705294\n         4            1.223244\n         5            0.715356\n...                        ...\n468      242          0.621871\n         243          0.617361\n         244          0.528532\n         245          7.632201\n         246         33.520808\n\n[2292 rows x 1 columns]",
      "text/html": "<div>\n<style scoped>\n    .dataframe tbody tr th:only-of-type {\n        vertical-align: middle;\n    }\n\n    .dataframe tbody tr th {\n        vertical-align: top;\n    }\n\n    .dataframe thead th {\n        text-align: right;\n    }\n</style>\n<table border=\"1\" class=\"dataframe\">\n  <thead>\n    <tr style=\"text-align: right;\">\n      <th></th>\n      <th></th>\n      <th>value</th>\n    </tr>\n    <tr>\n      <th>month_id</th>\n      <th>country_id</th>\n      <th></th>\n    </tr>\n  </thead>\n  <tbody>\n    <tr>\n      <th rowspan=\"5\" valign=\"top\">457</th>\n      <th>1</th>\n      <td>0.432535</td>\n    </tr>\n    <tr>\n      <th>2</th>\n      <td>0.730438</td>\n    </tr>\n    <tr>\n      <th>3</th>\n      <td>0.705294</td>\n    </tr>\n    <tr>\n      <th>4</th>\n      <td>1.223244</td>\n    </tr>\n    <tr>\n      <th>5</th>\n      <td>0.715356</td>\n    </tr>\n    <tr>\n      <th>...</th>\n      <th>...</th>\n      <td>...</td>\n    </tr>\n    <tr>\n      <th rowspan=\"5\" valign=\"top\">468</th>\n      <th>242</th>\n      <td>0.621871</td>\n    </tr>\n    <tr>\n      <th>243</th>\n      <td>0.617361</td>\n    </tr>\n    <tr>\n      <th>244</th>\n      <td>0.528532</td>\n    </tr>\n    <tr>\n      <th>245</th>\n      <td>7.632201</td>\n    </tr>\n    <tr>\n      <th>246</th>\n      <td>33.520808</td>\n    </tr>\n  </tbody>\n</table>\n<p>2292 rows × 1 columns</p>\n</div>"
     },
     "execution_count": 3,
     "metadata": {},
     "output_type": "execute_result"
    }
   ],
   "source": [
    "crps"
   ],
   "metadata": {
    "collapsed": false,
    "ExecuteTime": {
     "end_time": "2024-04-01T08:56:01.716066Z",
     "start_time": "2024-04-01T08:56:01.709439Z"
    }
   },
   "id": "547d042092f88352"
  }
 ],
 "metadata": {
  "kernelspec": {
   "display_name": "Python 3",
   "language": "python",
   "name": "python3"
  },
  "language_info": {
   "codemirror_mode": {
    "name": "ipython",
    "version": 2
   },
   "file_extension": ".py",
   "mimetype": "text/x-python",
   "name": "python",
   "nbconvert_exporter": "python",
   "pygments_lexer": "ipython2",
   "version": "2.7.6"
  }
 },
 "nbformat": 4,
 "nbformat_minor": 5
}
