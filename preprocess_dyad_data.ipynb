{
 "cells": [
  {
   "cell_type": "code",
   "execution_count": 9,
   "id": "initial_id",
   "metadata": {
    "collapsed": true,
    "ExecuteTime": {
     "end_time": "2024-03-25T10:44:01.916403Z",
     "start_time": "2024-03-25T10:43:43.325100Z"
    }
   },
   "outputs": [
    {
     "name": "stdout",
     "output_type": "stream",
     "text": [
      "<class 'pandas.core.frame.DataFrame'>\n",
      "RangeIndex: 6687694 entries, 0 to 6687693\n",
      "Columns: 263 entries, month_id to ratio_wdi_ms_mil_xpnd_zs\n",
      "dtypes: datetime64[ns](1), float64(255), int64(5), object(2)\n",
      "memory usage: 13.1+ GB\n"
     ]
    }
   ],
   "source": [
    "import pandas as pd\n",
    "import os\n",
    "\n",
    "dyad_df = pd.read_parquet('data_dyad_monthly/dyad_df.parquet')\n",
    "# get only dyads from Jan 2016 to Jan 2019\n",
    "# to date\n",
    "dyad_df['date'] = pd.to_datetime(dyad_df['date'])\n",
    "# dyad_df = dyad_df[\n",
    "#     (dyad_df['date'] >= pd.Timestamp(year=2016, month=7, day=1)) &\n",
    "#     (dyad_df['date'] <= pd.Timestamp(year=2019, month=1, day=1))]\n",
    "dyad_df.info()"
   ]
  },
  {
   "cell_type": "markdown",
   "source": [
    "## Shift the 'ged_sb' variable backwards by 15 months"
   ],
   "metadata": {
    "collapsed": false
   },
   "id": "ce19c003f66f9a9c"
  },
  {
   "cell_type": "code",
   "execution_count": 10,
   "outputs": [
    {
     "ename": "KeyboardInterrupt",
     "evalue": "",
     "output_type": "error",
     "traceback": [
      "\u001B[0;31m---------------------------------------------------------------------------\u001B[0m",
      "\u001B[0;31mKeyboardInterrupt\u001B[0m                         Traceback (most recent call last)",
      "Cell \u001B[0;32mIn[10], line 13\u001B[0m\n\u001B[1;32m      9\u001B[0m     \u001B[38;5;28;01mreturn\u001B[39;00m group\n\u001B[1;32m     12\u001B[0m \u001B[38;5;66;03m# Apply the function to each dyad group\u001B[39;00m\n\u001B[0;32m---> 13\u001B[0m dyad_df \u001B[38;5;241m=\u001B[39m \u001B[43mdyad_df\u001B[49m\u001B[38;5;241;43m.\u001B[39;49m\u001B[43mgroupby\u001B[49m\u001B[43m(\u001B[49m\u001B[43m[\u001B[49m\u001B[38;5;124;43m'\u001B[39;49m\u001B[38;5;124;43mcountry_id_a\u001B[39;49m\u001B[38;5;124;43m'\u001B[39;49m\u001B[43m,\u001B[49m\u001B[43m \u001B[49m\u001B[38;5;124;43m'\u001B[39;49m\u001B[38;5;124;43mcountry_id_b\u001B[39;49m\u001B[38;5;124;43m'\u001B[39;49m\u001B[43m]\u001B[49m\u001B[43m)\u001B[49m\u001B[38;5;241;43m.\u001B[39;49m\u001B[43mapply\u001B[49m\u001B[43m(\u001B[49m\u001B[43mshift_ged_sb\u001B[49m\u001B[43m)\u001B[49m\n\u001B[1;32m     14\u001B[0m dyad_df\u001B[38;5;241m.\u001B[39mreset_index(drop\u001B[38;5;241m=\u001B[39m\u001B[38;5;28;01mTrue\u001B[39;00m, inplace\u001B[38;5;241m=\u001B[39m\u001B[38;5;28;01mTrue\u001B[39;00m)\n\u001B[1;32m     15\u001B[0m \u001B[38;5;66;03m# cm_features['y_shifted'] = cm_features.groupby('country_id')['ged_sb'].shift(-15)  # 3 months gap + 12 months prediction\u001B[39;00m\n\u001B[1;32m     16\u001B[0m \u001B[38;5;66;03m# show na for y_shifted\u001B[39;00m\n\u001B[1;32m     17\u001B[0m \u001B[38;5;66;03m# cm_features[cm_features['y_shifted'].isna()]\u001B[39;00m\n\u001B[1;32m     18\u001B[0m \u001B[38;5;66;03m# drop na\u001B[39;00m\n",
      "File \u001B[0;32m~/Library/Caches/pypoetry/virtualenvs/my_project-FBv7emLR-py3.10/lib/python3.10/site-packages/pandas/core/groupby/groupby.py:1765\u001B[0m, in \u001B[0;36mGroupBy.apply\u001B[0;34m(self, func, *args, **kwargs)\u001B[0m\n\u001B[1;32m   1763\u001B[0m \u001B[38;5;28;01mwith\u001B[39;00m option_context(\u001B[38;5;124m\"\u001B[39m\u001B[38;5;124mmode.chained_assignment\u001B[39m\u001B[38;5;124m\"\u001B[39m, \u001B[38;5;28;01mNone\u001B[39;00m):\n\u001B[1;32m   1764\u001B[0m     \u001B[38;5;28;01mtry\u001B[39;00m:\n\u001B[0;32m-> 1765\u001B[0m         result \u001B[38;5;241m=\u001B[39m \u001B[38;5;28;43mself\u001B[39;49m\u001B[38;5;241;43m.\u001B[39;49m\u001B[43m_python_apply_general\u001B[49m\u001B[43m(\u001B[49m\u001B[43mf\u001B[49m\u001B[43m,\u001B[49m\u001B[43m \u001B[49m\u001B[38;5;28;43mself\u001B[39;49m\u001B[38;5;241;43m.\u001B[39;49m\u001B[43m_selected_obj\u001B[49m\u001B[43m)\u001B[49m\n\u001B[1;32m   1766\u001B[0m     \u001B[38;5;28;01mexcept\u001B[39;00m \u001B[38;5;167;01mTypeError\u001B[39;00m:\n\u001B[1;32m   1767\u001B[0m         \u001B[38;5;66;03m# gh-20949\u001B[39;00m\n\u001B[1;32m   1768\u001B[0m         \u001B[38;5;66;03m# try again, with .apply acting as a filtering\u001B[39;00m\n\u001B[0;32m   (...)\u001B[0m\n\u001B[1;32m   1772\u001B[0m         \u001B[38;5;66;03m# fails on *some* columns, e.g. a numeric operation\u001B[39;00m\n\u001B[1;32m   1773\u001B[0m         \u001B[38;5;66;03m# on a string grouper column\u001B[39;00m\n\u001B[1;32m   1775\u001B[0m         \u001B[38;5;28;01mreturn\u001B[39;00m \u001B[38;5;28mself\u001B[39m\u001B[38;5;241m.\u001B[39m_python_apply_general(f, \u001B[38;5;28mself\u001B[39m\u001B[38;5;241m.\u001B[39m_obj_with_exclusions)\n",
      "File \u001B[0;32m~/Library/Caches/pypoetry/virtualenvs/my_project-FBv7emLR-py3.10/lib/python3.10/site-packages/pandas/core/groupby/groupby.py:1814\u001B[0m, in \u001B[0;36mGroupBy._python_apply_general\u001B[0;34m(self, f, data, not_indexed_same, is_transform, is_agg)\u001B[0m\n\u001B[1;32m   1779\u001B[0m \u001B[38;5;129m@final\u001B[39m\n\u001B[1;32m   1780\u001B[0m \u001B[38;5;28;01mdef\u001B[39;00m \u001B[38;5;21m_python_apply_general\u001B[39m(\n\u001B[1;32m   1781\u001B[0m     \u001B[38;5;28mself\u001B[39m,\n\u001B[0;32m   (...)\u001B[0m\n\u001B[1;32m   1786\u001B[0m     is_agg: \u001B[38;5;28mbool\u001B[39m \u001B[38;5;241m=\u001B[39m \u001B[38;5;28;01mFalse\u001B[39;00m,\n\u001B[1;32m   1787\u001B[0m ) \u001B[38;5;241m-\u001B[39m\u001B[38;5;241m>\u001B[39m NDFrameT:\n\u001B[1;32m   1788\u001B[0m \u001B[38;5;250m    \u001B[39m\u001B[38;5;124;03m\"\"\"\u001B[39;00m\n\u001B[1;32m   1789\u001B[0m \u001B[38;5;124;03m    Apply function f in python space\u001B[39;00m\n\u001B[1;32m   1790\u001B[0m \n\u001B[0;32m   (...)\u001B[0m\n\u001B[1;32m   1812\u001B[0m \u001B[38;5;124;03m        data after applying f\u001B[39;00m\n\u001B[1;32m   1813\u001B[0m \u001B[38;5;124;03m    \"\"\"\u001B[39;00m\n\u001B[0;32m-> 1814\u001B[0m     values, mutated \u001B[38;5;241m=\u001B[39m \u001B[38;5;28;43mself\u001B[39;49m\u001B[38;5;241;43m.\u001B[39;49m\u001B[43mgrouper\u001B[49m\u001B[38;5;241;43m.\u001B[39;49m\u001B[43mapply_groupwise\u001B[49m\u001B[43m(\u001B[49m\u001B[43mf\u001B[49m\u001B[43m,\u001B[49m\u001B[43m \u001B[49m\u001B[43mdata\u001B[49m\u001B[43m,\u001B[49m\u001B[43m \u001B[49m\u001B[38;5;28;43mself\u001B[39;49m\u001B[38;5;241;43m.\u001B[39;49m\u001B[43maxis\u001B[49m\u001B[43m)\u001B[49m\n\u001B[1;32m   1815\u001B[0m     \u001B[38;5;28;01mif\u001B[39;00m not_indexed_same \u001B[38;5;129;01mis\u001B[39;00m \u001B[38;5;28;01mNone\u001B[39;00m:\n\u001B[1;32m   1816\u001B[0m         not_indexed_same \u001B[38;5;241m=\u001B[39m mutated\n",
      "File \u001B[0;32m~/Library/Caches/pypoetry/virtualenvs/my_project-FBv7emLR-py3.10/lib/python3.10/site-packages/pandas/core/groupby/ops.py:895\u001B[0m, in \u001B[0;36mBaseGrouper.apply_groupwise\u001B[0;34m(self, f, data, axis)\u001B[0m\n\u001B[1;32m    892\u001B[0m \u001B[38;5;66;03m# This calls DataSplitter.__iter__\u001B[39;00m\n\u001B[1;32m    893\u001B[0m zipped \u001B[38;5;241m=\u001B[39m \u001B[38;5;28mzip\u001B[39m(group_keys, splitter)\n\u001B[0;32m--> 895\u001B[0m \u001B[38;5;28;01mfor\u001B[39;00m key, group \u001B[38;5;129;01min\u001B[39;00m zipped:\n\u001B[1;32m    896\u001B[0m     \u001B[38;5;66;03m# Pinning name is needed for\u001B[39;00m\n\u001B[1;32m    897\u001B[0m     \u001B[38;5;66;03m#  test_group_apply_once_per_group,\u001B[39;00m\n\u001B[1;32m    898\u001B[0m     \u001B[38;5;66;03m#  test_inconsistent_return_type, test_set_group_name,\u001B[39;00m\n\u001B[1;32m    899\u001B[0m     \u001B[38;5;66;03m#  test_group_name_available_in_inference_pass,\u001B[39;00m\n\u001B[1;32m    900\u001B[0m     \u001B[38;5;66;03m#  test_groupby_multi_timezone\u001B[39;00m\n\u001B[1;32m    901\u001B[0m     \u001B[38;5;28mobject\u001B[39m\u001B[38;5;241m.\u001B[39m\u001B[38;5;21m__setattr__\u001B[39m(group, \u001B[38;5;124m\"\u001B[39m\u001B[38;5;124mname\u001B[39m\u001B[38;5;124m\"\u001B[39m, key)\n\u001B[1;32m    903\u001B[0m     \u001B[38;5;66;03m# group might be modified\u001B[39;00m\n",
      "File \u001B[0;32m~/Library/Caches/pypoetry/virtualenvs/my_project-FBv7emLR-py3.10/lib/python3.10/site-packages/pandas/core/groupby/ops.py:1139\u001B[0m, in \u001B[0;36mDataSplitter.__iter__\u001B[0;34m(self)\u001B[0m\n\u001B[1;32m   1138\u001B[0m \u001B[38;5;28;01mdef\u001B[39;00m \u001B[38;5;21m__iter__\u001B[39m(\u001B[38;5;28mself\u001B[39m) \u001B[38;5;241m-\u001B[39m\u001B[38;5;241m>\u001B[39m Iterator:\n\u001B[0;32m-> 1139\u001B[0m     sdata \u001B[38;5;241m=\u001B[39m \u001B[38;5;28;43mself\u001B[39;49m\u001B[38;5;241;43m.\u001B[39;49m\u001B[43m_sorted_data\u001B[49m\n\u001B[1;32m   1141\u001B[0m     \u001B[38;5;28;01mif\u001B[39;00m \u001B[38;5;28mself\u001B[39m\u001B[38;5;241m.\u001B[39mngroups \u001B[38;5;241m==\u001B[39m \u001B[38;5;241m0\u001B[39m:\n\u001B[1;32m   1142\u001B[0m         \u001B[38;5;66;03m# we are inside a generator, rather than raise StopIteration\u001B[39;00m\n\u001B[1;32m   1143\u001B[0m         \u001B[38;5;66;03m# we merely return signal the end\u001B[39;00m\n\u001B[1;32m   1144\u001B[0m         \u001B[38;5;28;01mreturn\u001B[39;00m\n",
      "File \u001B[0;32mproperties.pyx:36\u001B[0m, in \u001B[0;36mpandas._libs.properties.CachedProperty.__get__\u001B[0;34m()\u001B[0m\n",
      "File \u001B[0;32m~/Library/Caches/pypoetry/virtualenvs/my_project-FBv7emLR-py3.10/lib/python3.10/site-packages/pandas/core/groupby/ops.py:1153\u001B[0m, in \u001B[0;36mDataSplitter._sorted_data\u001B[0;34m(self)\u001B[0m\n\u001B[1;32m   1151\u001B[0m \u001B[38;5;129m@cache_readonly\u001B[39m\n\u001B[1;32m   1152\u001B[0m \u001B[38;5;28;01mdef\u001B[39;00m \u001B[38;5;21m_sorted_data\u001B[39m(\u001B[38;5;28mself\u001B[39m) \u001B[38;5;241m-\u001B[39m\u001B[38;5;241m>\u001B[39m NDFrameT:\n\u001B[0;32m-> 1153\u001B[0m     \u001B[38;5;28;01mreturn\u001B[39;00m \u001B[38;5;28;43mself\u001B[39;49m\u001B[38;5;241;43m.\u001B[39;49m\u001B[43mdata\u001B[49m\u001B[38;5;241;43m.\u001B[39;49m\u001B[43mtake\u001B[49m\u001B[43m(\u001B[49m\u001B[38;5;28;43mself\u001B[39;49m\u001B[38;5;241;43m.\u001B[39;49m\u001B[43m_sort_idx\u001B[49m\u001B[43m,\u001B[49m\u001B[43m \u001B[49m\u001B[43maxis\u001B[49m\u001B[38;5;241;43m=\u001B[39;49m\u001B[38;5;28;43mself\u001B[39;49m\u001B[38;5;241;43m.\u001B[39;49m\u001B[43maxis\u001B[49m\u001B[43m)\u001B[49m\n",
      "File \u001B[0;32m~/Library/Caches/pypoetry/virtualenvs/my_project-FBv7emLR-py3.10/lib/python3.10/site-packages/pandas/core/generic.py:4068\u001B[0m, in \u001B[0;36mNDFrame.take\u001B[0;34m(self, indices, axis, **kwargs)\u001B[0m\n\u001B[1;32m   4063\u001B[0m     \u001B[38;5;66;03m# We can get here with a slice via DataFrame.__getitem__\u001B[39;00m\n\u001B[1;32m   4064\u001B[0m     indices \u001B[38;5;241m=\u001B[39m np\u001B[38;5;241m.\u001B[39marange(\n\u001B[1;32m   4065\u001B[0m         indices\u001B[38;5;241m.\u001B[39mstart, indices\u001B[38;5;241m.\u001B[39mstop, indices\u001B[38;5;241m.\u001B[39mstep, dtype\u001B[38;5;241m=\u001B[39mnp\u001B[38;5;241m.\u001B[39mintp\n\u001B[1;32m   4066\u001B[0m     )\n\u001B[0;32m-> 4068\u001B[0m new_data \u001B[38;5;241m=\u001B[39m \u001B[38;5;28;43mself\u001B[39;49m\u001B[38;5;241;43m.\u001B[39;49m\u001B[43m_mgr\u001B[49m\u001B[38;5;241;43m.\u001B[39;49m\u001B[43mtake\u001B[49m\u001B[43m(\u001B[49m\n\u001B[1;32m   4069\u001B[0m \u001B[43m    \u001B[49m\u001B[43mindices\u001B[49m\u001B[43m,\u001B[49m\n\u001B[1;32m   4070\u001B[0m \u001B[43m    \u001B[49m\u001B[43maxis\u001B[49m\u001B[38;5;241;43m=\u001B[39;49m\u001B[38;5;28;43mself\u001B[39;49m\u001B[38;5;241;43m.\u001B[39;49m\u001B[43m_get_block_manager_axis\u001B[49m\u001B[43m(\u001B[49m\u001B[43maxis\u001B[49m\u001B[43m)\u001B[49m\u001B[43m,\u001B[49m\n\u001B[1;32m   4071\u001B[0m \u001B[43m    \u001B[49m\u001B[43mverify\u001B[49m\u001B[38;5;241;43m=\u001B[39;49m\u001B[38;5;28;43;01mTrue\u001B[39;49;00m\u001B[43m,\u001B[49m\n\u001B[1;32m   4072\u001B[0m \u001B[43m\u001B[49m\u001B[43m)\u001B[49m\n\u001B[1;32m   4073\u001B[0m \u001B[38;5;28;01mreturn\u001B[39;00m \u001B[38;5;28mself\u001B[39m\u001B[38;5;241m.\u001B[39m_constructor_from_mgr(new_data, axes\u001B[38;5;241m=\u001B[39mnew_data\u001B[38;5;241m.\u001B[39maxes)\u001B[38;5;241m.\u001B[39m__finalize__(\n\u001B[1;32m   4074\u001B[0m     \u001B[38;5;28mself\u001B[39m, method\u001B[38;5;241m=\u001B[39m\u001B[38;5;124m\"\u001B[39m\u001B[38;5;124mtake\u001B[39m\u001B[38;5;124m\"\u001B[39m\n\u001B[1;32m   4075\u001B[0m )\n",
      "File \u001B[0;32m~/Library/Caches/pypoetry/virtualenvs/my_project-FBv7emLR-py3.10/lib/python3.10/site-packages/pandas/core/internals/managers.py:877\u001B[0m, in \u001B[0;36mBaseBlockManager.take\u001B[0;34m(self, indexer, axis, verify)\u001B[0m\n\u001B[1;32m    874\u001B[0m indexer \u001B[38;5;241m=\u001B[39m maybe_convert_indices(indexer, n, verify\u001B[38;5;241m=\u001B[39mverify)\n\u001B[1;32m    876\u001B[0m new_labels \u001B[38;5;241m=\u001B[39m \u001B[38;5;28mself\u001B[39m\u001B[38;5;241m.\u001B[39maxes[axis]\u001B[38;5;241m.\u001B[39mtake(indexer)\n\u001B[0;32m--> 877\u001B[0m \u001B[38;5;28;01mreturn\u001B[39;00m \u001B[38;5;28;43mself\u001B[39;49m\u001B[38;5;241;43m.\u001B[39;49m\u001B[43mreindex_indexer\u001B[49m\u001B[43m(\u001B[49m\n\u001B[1;32m    878\u001B[0m \u001B[43m    \u001B[49m\u001B[43mnew_axis\u001B[49m\u001B[38;5;241;43m=\u001B[39;49m\u001B[43mnew_labels\u001B[49m\u001B[43m,\u001B[49m\n\u001B[1;32m    879\u001B[0m \u001B[43m    \u001B[49m\u001B[43mindexer\u001B[49m\u001B[38;5;241;43m=\u001B[39;49m\u001B[43mindexer\u001B[49m\u001B[43m,\u001B[49m\n\u001B[1;32m    880\u001B[0m \u001B[43m    \u001B[49m\u001B[43maxis\u001B[49m\u001B[38;5;241;43m=\u001B[39;49m\u001B[43maxis\u001B[49m\u001B[43m,\u001B[49m\n\u001B[1;32m    881\u001B[0m \u001B[43m    \u001B[49m\u001B[43mallow_dups\u001B[49m\u001B[38;5;241;43m=\u001B[39;49m\u001B[38;5;28;43;01mTrue\u001B[39;49;00m\u001B[43m,\u001B[49m\n\u001B[1;32m    882\u001B[0m \u001B[43m    \u001B[49m\u001B[43mcopy\u001B[49m\u001B[38;5;241;43m=\u001B[39;49m\u001B[38;5;28;43;01mNone\u001B[39;49;00m\u001B[43m,\u001B[49m\n\u001B[1;32m    883\u001B[0m \u001B[43m\u001B[49m\u001B[43m)\u001B[49m\n",
      "File \u001B[0;32m~/Library/Caches/pypoetry/virtualenvs/my_project-FBv7emLR-py3.10/lib/python3.10/site-packages/pandas/core/internals/managers.py:670\u001B[0m, in \u001B[0;36mBaseBlockManager.reindex_indexer\u001B[0;34m(self, new_axis, indexer, axis, fill_value, allow_dups, copy, only_slice, use_na_proxy)\u001B[0m\n\u001B[1;32m    663\u001B[0m     new_blocks \u001B[38;5;241m=\u001B[39m \u001B[38;5;28mself\u001B[39m\u001B[38;5;241m.\u001B[39m_slice_take_blocks_ax0(\n\u001B[1;32m    664\u001B[0m         indexer,\n\u001B[1;32m    665\u001B[0m         fill_value\u001B[38;5;241m=\u001B[39mfill_value,\n\u001B[1;32m    666\u001B[0m         only_slice\u001B[38;5;241m=\u001B[39monly_slice,\n\u001B[1;32m    667\u001B[0m         use_na_proxy\u001B[38;5;241m=\u001B[39muse_na_proxy,\n\u001B[1;32m    668\u001B[0m     )\n\u001B[1;32m    669\u001B[0m \u001B[38;5;28;01melse\u001B[39;00m:\n\u001B[0;32m--> 670\u001B[0m     new_blocks \u001B[38;5;241m=\u001B[39m [\n\u001B[1;32m    671\u001B[0m         blk\u001B[38;5;241m.\u001B[39mtake_nd(\n\u001B[1;32m    672\u001B[0m             indexer,\n\u001B[1;32m    673\u001B[0m             axis\u001B[38;5;241m=\u001B[39m\u001B[38;5;241m1\u001B[39m,\n\u001B[1;32m    674\u001B[0m             fill_value\u001B[38;5;241m=\u001B[39m(\n\u001B[1;32m    675\u001B[0m                 fill_value \u001B[38;5;28;01mif\u001B[39;00m fill_value \u001B[38;5;129;01mis\u001B[39;00m \u001B[38;5;129;01mnot\u001B[39;00m \u001B[38;5;28;01mNone\u001B[39;00m \u001B[38;5;28;01melse\u001B[39;00m blk\u001B[38;5;241m.\u001B[39mfill_value\n\u001B[1;32m    676\u001B[0m             ),\n\u001B[1;32m    677\u001B[0m         )\n\u001B[1;32m    678\u001B[0m         \u001B[38;5;28;01mfor\u001B[39;00m blk \u001B[38;5;129;01min\u001B[39;00m \u001B[38;5;28mself\u001B[39m\u001B[38;5;241m.\u001B[39mblocks\n\u001B[1;32m    679\u001B[0m     ]\n\u001B[1;32m    681\u001B[0m new_axes \u001B[38;5;241m=\u001B[39m \u001B[38;5;28mlist\u001B[39m(\u001B[38;5;28mself\u001B[39m\u001B[38;5;241m.\u001B[39maxes)\n\u001B[1;32m    682\u001B[0m new_axes[axis] \u001B[38;5;241m=\u001B[39m new_axis\n",
      "File \u001B[0;32m~/Library/Caches/pypoetry/virtualenvs/my_project-FBv7emLR-py3.10/lib/python3.10/site-packages/pandas/core/internals/managers.py:671\u001B[0m, in \u001B[0;36m<listcomp>\u001B[0;34m(.0)\u001B[0m\n\u001B[1;32m    663\u001B[0m     new_blocks \u001B[38;5;241m=\u001B[39m \u001B[38;5;28mself\u001B[39m\u001B[38;5;241m.\u001B[39m_slice_take_blocks_ax0(\n\u001B[1;32m    664\u001B[0m         indexer,\n\u001B[1;32m    665\u001B[0m         fill_value\u001B[38;5;241m=\u001B[39mfill_value,\n\u001B[1;32m    666\u001B[0m         only_slice\u001B[38;5;241m=\u001B[39monly_slice,\n\u001B[1;32m    667\u001B[0m         use_na_proxy\u001B[38;5;241m=\u001B[39muse_na_proxy,\n\u001B[1;32m    668\u001B[0m     )\n\u001B[1;32m    669\u001B[0m \u001B[38;5;28;01melse\u001B[39;00m:\n\u001B[1;32m    670\u001B[0m     new_blocks \u001B[38;5;241m=\u001B[39m [\n\u001B[0;32m--> 671\u001B[0m         \u001B[43mblk\u001B[49m\u001B[38;5;241;43m.\u001B[39;49m\u001B[43mtake_nd\u001B[49m\u001B[43m(\u001B[49m\n\u001B[1;32m    672\u001B[0m \u001B[43m            \u001B[49m\u001B[43mindexer\u001B[49m\u001B[43m,\u001B[49m\n\u001B[1;32m    673\u001B[0m \u001B[43m            \u001B[49m\u001B[43maxis\u001B[49m\u001B[38;5;241;43m=\u001B[39;49m\u001B[38;5;241;43m1\u001B[39;49m\u001B[43m,\u001B[49m\n\u001B[1;32m    674\u001B[0m \u001B[43m            \u001B[49m\u001B[43mfill_value\u001B[49m\u001B[38;5;241;43m=\u001B[39;49m\u001B[43m(\u001B[49m\n\u001B[1;32m    675\u001B[0m \u001B[43m                \u001B[49m\u001B[43mfill_value\u001B[49m\u001B[43m \u001B[49m\u001B[38;5;28;43;01mif\u001B[39;49;00m\u001B[43m \u001B[49m\u001B[43mfill_value\u001B[49m\u001B[43m \u001B[49m\u001B[38;5;129;43;01mis\u001B[39;49;00m\u001B[43m \u001B[49m\u001B[38;5;129;43;01mnot\u001B[39;49;00m\u001B[43m \u001B[49m\u001B[38;5;28;43;01mNone\u001B[39;49;00m\u001B[43m \u001B[49m\u001B[38;5;28;43;01melse\u001B[39;49;00m\u001B[43m \u001B[49m\u001B[43mblk\u001B[49m\u001B[38;5;241;43m.\u001B[39;49m\u001B[43mfill_value\u001B[49m\n\u001B[1;32m    676\u001B[0m \u001B[43m            \u001B[49m\u001B[43m)\u001B[49m\u001B[43m,\u001B[49m\n\u001B[1;32m    677\u001B[0m \u001B[43m        \u001B[49m\u001B[43m)\u001B[49m\n\u001B[1;32m    678\u001B[0m         \u001B[38;5;28;01mfor\u001B[39;00m blk \u001B[38;5;129;01min\u001B[39;00m \u001B[38;5;28mself\u001B[39m\u001B[38;5;241m.\u001B[39mblocks\n\u001B[1;32m    679\u001B[0m     ]\n\u001B[1;32m    681\u001B[0m new_axes \u001B[38;5;241m=\u001B[39m \u001B[38;5;28mlist\u001B[39m(\u001B[38;5;28mself\u001B[39m\u001B[38;5;241m.\u001B[39maxes)\n\u001B[1;32m    682\u001B[0m new_axes[axis] \u001B[38;5;241m=\u001B[39m new_axis\n",
      "File \u001B[0;32m~/Library/Caches/pypoetry/virtualenvs/my_project-FBv7emLR-py3.10/lib/python3.10/site-packages/pandas/core/internals/blocks.py:1061\u001B[0m, in \u001B[0;36mBlock.take_nd\u001B[0;34m(self, indexer, axis, new_mgr_locs, fill_value)\u001B[0m\n\u001B[1;32m   1058\u001B[0m     allow_fill \u001B[38;5;241m=\u001B[39m \u001B[38;5;28;01mTrue\u001B[39;00m\n\u001B[1;32m   1060\u001B[0m \u001B[38;5;66;03m# Note: algos.take_nd has upcast logic similar to coerce_to_target_dtype\u001B[39;00m\n\u001B[0;32m-> 1061\u001B[0m new_values \u001B[38;5;241m=\u001B[39m \u001B[43malgos\u001B[49m\u001B[38;5;241;43m.\u001B[39;49m\u001B[43mtake_nd\u001B[49m\u001B[43m(\u001B[49m\n\u001B[1;32m   1062\u001B[0m \u001B[43m    \u001B[49m\u001B[43mvalues\u001B[49m\u001B[43m,\u001B[49m\u001B[43m \u001B[49m\u001B[43mindexer\u001B[49m\u001B[43m,\u001B[49m\u001B[43m \u001B[49m\u001B[43maxis\u001B[49m\u001B[38;5;241;43m=\u001B[39;49m\u001B[43maxis\u001B[49m\u001B[43m,\u001B[49m\u001B[43m \u001B[49m\u001B[43mallow_fill\u001B[49m\u001B[38;5;241;43m=\u001B[39;49m\u001B[43mallow_fill\u001B[49m\u001B[43m,\u001B[49m\u001B[43m \u001B[49m\u001B[43mfill_value\u001B[49m\u001B[38;5;241;43m=\u001B[39;49m\u001B[43mfill_value\u001B[49m\n\u001B[1;32m   1063\u001B[0m \u001B[43m\u001B[49m\u001B[43m)\u001B[49m\n\u001B[1;32m   1065\u001B[0m \u001B[38;5;66;03m# Called from three places in managers, all of which satisfy\u001B[39;00m\n\u001B[1;32m   1066\u001B[0m \u001B[38;5;66;03m#  these assertions\u001B[39;00m\n\u001B[1;32m   1067\u001B[0m \u001B[38;5;28;01mif\u001B[39;00m \u001B[38;5;28misinstance\u001B[39m(\u001B[38;5;28mself\u001B[39m, ExtensionBlock):\n\u001B[1;32m   1068\u001B[0m     \u001B[38;5;66;03m# NB: in this case, the 'axis' kwarg will be ignored in the\u001B[39;00m\n\u001B[1;32m   1069\u001B[0m     \u001B[38;5;66;03m#  algos.take_nd call above.\u001B[39;00m\n",
      "File \u001B[0;32m~/Library/Caches/pypoetry/virtualenvs/my_project-FBv7emLR-py3.10/lib/python3.10/site-packages/pandas/core/array_algos/take.py:118\u001B[0m, in \u001B[0;36mtake_nd\u001B[0;34m(arr, indexer, axis, fill_value, allow_fill)\u001B[0m\n\u001B[1;32m    115\u001B[0m     \u001B[38;5;28;01mreturn\u001B[39;00m arr\u001B[38;5;241m.\u001B[39mtake(indexer, fill_value\u001B[38;5;241m=\u001B[39mfill_value, allow_fill\u001B[38;5;241m=\u001B[39mallow_fill)\n\u001B[1;32m    117\u001B[0m arr \u001B[38;5;241m=\u001B[39m np\u001B[38;5;241m.\u001B[39masarray(arr)\n\u001B[0;32m--> 118\u001B[0m \u001B[38;5;28;01mreturn\u001B[39;00m \u001B[43m_take_nd_ndarray\u001B[49m\u001B[43m(\u001B[49m\u001B[43marr\u001B[49m\u001B[43m,\u001B[49m\u001B[43m \u001B[49m\u001B[43mindexer\u001B[49m\u001B[43m,\u001B[49m\u001B[43m \u001B[49m\u001B[43maxis\u001B[49m\u001B[43m,\u001B[49m\u001B[43m \u001B[49m\u001B[43mfill_value\u001B[49m\u001B[43m,\u001B[49m\u001B[43m \u001B[49m\u001B[43mallow_fill\u001B[49m\u001B[43m)\u001B[49m\n",
      "File \u001B[0;32m~/Library/Caches/pypoetry/virtualenvs/my_project-FBv7emLR-py3.10/lib/python3.10/site-packages/pandas/core/array_algos/take.py:163\u001B[0m, in \u001B[0;36m_take_nd_ndarray\u001B[0;34m(arr, indexer, axis, fill_value, allow_fill)\u001B[0m\n\u001B[1;32m    158\u001B[0m     out \u001B[38;5;241m=\u001B[39m np\u001B[38;5;241m.\u001B[39mempty(out_shape, dtype\u001B[38;5;241m=\u001B[39mdtype)\n\u001B[1;32m    160\u001B[0m func \u001B[38;5;241m=\u001B[39m _get_take_nd_function(\n\u001B[1;32m    161\u001B[0m     arr\u001B[38;5;241m.\u001B[39mndim, arr\u001B[38;5;241m.\u001B[39mdtype, out\u001B[38;5;241m.\u001B[39mdtype, axis\u001B[38;5;241m=\u001B[39maxis, mask_info\u001B[38;5;241m=\u001B[39mmask_info\n\u001B[1;32m    162\u001B[0m )\n\u001B[0;32m--> 163\u001B[0m \u001B[43mfunc\u001B[49m\u001B[43m(\u001B[49m\u001B[43marr\u001B[49m\u001B[43m,\u001B[49m\u001B[43m \u001B[49m\u001B[43mindexer\u001B[49m\u001B[43m,\u001B[49m\u001B[43m \u001B[49m\u001B[43mout\u001B[49m\u001B[43m,\u001B[49m\u001B[43m \u001B[49m\u001B[43mfill_value\u001B[49m\u001B[43m)\u001B[49m\n\u001B[1;32m    165\u001B[0m \u001B[38;5;28;01mif\u001B[39;00m flip_order:\n\u001B[1;32m    166\u001B[0m     out \u001B[38;5;241m=\u001B[39m out\u001B[38;5;241m.\u001B[39mT\n",
      "\u001B[0;31mKeyboardInterrupt\u001B[0m: "
     ]
    }
   ],
   "source": [
    "dyad_df.sort_values(by=['country_id_a', 'country_id_b', 'month_id'], inplace=True)\n",
    "\n",
    "\n",
    "# Function to shift the 'ged_sb' variable backwards by 15 months within each group\n",
    "def shift_ged_sb(group):\n",
    "    # Assuming 'ged_sb' is recorded per country in the dyad, adjust if you have a single 'ged_sb' variable\n",
    "    group['a_ged_sb_15_shifted'] = group['a_ged_sb'].shift(-15)  # 3 months gap + 12 months prediction\n",
    "    group['b_ged_sb_15_shifted'] = group['b_ged_sb'].shift(-15)  # 3 months gap + 12 months prediction\n",
    "    return group\n",
    "\n",
    "\n",
    "# Apply the function to each dyad group\n",
    "dyad_df = dyad_df.groupby(['country_id_a', 'country_id_b']).apply(shift_ged_sb)\n",
    "dyad_df.reset_index(drop=True, inplace=True)\n",
    "# cm_features['y_shifted'] = cm_features.groupby('country_id')['ged_sb'].shift(-15)  # 3 months gap + 12 months prediction\n",
    "# show na for y_shifted\n",
    "# cm_features[cm_features['y_shifted'].isna()]\n",
    "# drop na\n",
    "dyad_df = dyad_df.dropna()\n",
    "# dyad_df"
   ],
   "metadata": {
    "collapsed": false,
    "ExecuteTime": {
     "end_time": "2024-03-25T10:44:57.565213Z",
     "start_time": "2024-03-25T10:44:06.103534Z"
    }
   },
   "id": "97e5a1d2b0f6487d"
  },
  {
   "cell_type": "markdown",
   "source": [
    "## One-hot encoding for country_id_a and country_id_b"
   ],
   "metadata": {
    "collapsed": false
   },
   "id": "5da75f1e43764288"
  },
  {
   "cell_type": "code",
   "execution_count": null,
   "outputs": [],
   "source": [
    "country_a_and_b_ids = dyad_df[['country_id_a', 'country_id_b']]\n",
    "dyad_df = pd.get_dummies(dyad_df, columns=['country_id_a', 'country_id_b'], drop_first=False, dtype=int)\n",
    "# merge back country_id_a and country_id_b\n",
    "dyad_df = pd.concat([dyad_df, country_a_and_b_ids], axis=1)\n",
    "# dyad_df"
   ],
   "metadata": {
    "collapsed": false
   },
   "id": "a7e6cd2697d71298"
  },
  {
   "cell_type": "markdown",
   "source": [
    "# Split test and train"
   ],
   "metadata": {
    "collapsed": false
   },
   "id": "f9f6061bdff7f458"
  },
  {
   "cell_type": "code",
   "execution_count": null,
   "outputs": [],
   "source": [
    "prediction_year = 2019\n",
    "cut_year = prediction_year - 2  # 2016\n",
    "\n",
    "features_to_oct = pd.Timestamp(year=cut_year, month=10, day=1)  # 2016-Oct-01\n",
    "\n",
    "# Splitting the dataset\n",
    "train_df = dyad_df[dyad_df['date'] <= features_to_oct]\n",
    "# test_df is one year from Oct 2016 to Oct 2017\n",
    "test_df = dyad_df[\n",
    "    (dyad_df['date'] >= pd.Timestamp(year=prediction_year - 2, month=10, day=1)) &  # oct 2016 predicts Jan 2018\n",
    "    (dyad_df['date'] < pd.Timestamp(year=prediction_year - 1, month=10, day=1))]  # oct 2017 predicts Jan 2019"
   ],
   "metadata": {
    "collapsed": false
   },
   "id": "bdbbd83bc2b5fc2e"
  },
  {
   "cell_type": "markdown",
   "source": [
    "## Indentify only numeric features to scale "
   ],
   "metadata": {
    "collapsed": false
   },
   "id": "8a80dfc77c34a725"
  },
  {
   "cell_type": "code",
   "execution_count": null,
   "outputs": [],
   "source": [
    "# Explicitly list columns to be dropped before scaling\n",
    "columns_not_numeric = ['month_id', 'date', 'country_id_a', 'country_id_b', 'a_ged_sb', 'b_ged_sb', 'a_country_name',\n",
    "                       'b_country_name', 'a_gleditsch_ward', 'b_gleditsch_ward', ]\n",
    "\n",
    "# Also, drop one-hot encoded country identifiers if they are already in the dataframe\n",
    "columns_not_numeric.extend(dyad_df.filter(regex='^country_id_a_').columns.tolist())\n",
    "columns_not_numeric.extend(dyad_df.filter(regex='^country_id_b_').columns.tolist())\n",
    "\n",
    "# Determine numeric columns by excluding the ones to drop from the dataframe\n",
    "numeric_columns = dyad_df.drop(columns=columns_not_numeric).columns.tolist()"
   ],
   "metadata": {
    "collapsed": false
   },
   "id": "ec0cd67742672325"
  },
  {
   "cell_type": "markdown",
   "source": [
    "# Scale the features for train and test"
   ],
   "metadata": {
    "collapsed": false
   },
   "id": "80f96c8e102b80d7"
  },
  {
   "cell_type": "code",
   "execution_count": null,
   "outputs": [],
   "source": [
    "from sklearn.preprocessing import StandardScaler\n",
    "\n",
    "scaler = StandardScaler().fit(train_df[numeric_columns])\n",
    "\n",
    "# Scale the numeric features\n",
    "train_df_scaled = scaler.transform(train_df[numeric_columns])\n",
    "test_df_scaled = scaler.transform(test_df[numeric_columns])\n",
    "\n",
    "# Convert scaled features back to DataFrames, maintaining the original index for later recombination\n",
    "train_df_scaled = pd.DataFrame(train_df_scaled, columns=numeric_columns, index=train_df.index)\n",
    "test_df_scaled = pd.DataFrame(test_df_scaled, columns=numeric_columns, index=test_df.index)"
   ],
   "metadata": {
    "collapsed": false
   },
   "id": "4c98397602fe2e09"
  },
  {
   "cell_type": "code",
   "execution_count": null,
   "outputs": [],
   "source": [
    "# Re-add the dropped columns to the scaled dataframe\n",
    "train_df_final = pd.concat([train_df[columns_not_numeric], train_df_scaled], axis=1)\n",
    "test_df_final = pd.concat([test_df[columns_not_numeric], test_df_scaled], axis=1)"
   ],
   "metadata": {
    "collapsed": false
   },
   "id": "af3262e0efdb4a74"
  },
  {
   "cell_type": "markdown",
   "source": [
    "## Save the train and test dataframes"
   ],
   "metadata": {
    "collapsed": false
   },
   "id": "a255cf970891b50a"
  },
  {
   "cell_type": "code",
   "execution_count": null,
   "outputs": [],
   "source": [
    "train_df_final.to_parquet(f'data_dyad_monthly_nn/train_df_{prediction_year}.parquet')\n",
    "test_df_final.to_parquet(f'data_dyad_monthly_nn/test_df_{prediction_year}.parquet')"
   ],
   "metadata": {
    "collapsed": false
   },
   "id": "171dacdc428696d2"
  }
 ],
 "metadata": {
  "kernelspec": {
   "display_name": "Python 3",
   "language": "python",
   "name": "python3"
  },
  "language_info": {
   "codemirror_mode": {
    "name": "ipython",
    "version": 2
   },
   "file_extension": ".py",
   "mimetype": "text/x-python",
   "name": "python",
   "nbconvert_exporter": "python",
   "pygments_lexer": "ipython2",
   "version": "2.7.6"
  }
 },
 "nbformat": 4,
 "nbformat_minor": 5
}
