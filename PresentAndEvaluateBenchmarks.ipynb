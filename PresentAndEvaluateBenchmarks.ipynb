{
 "cells": [
  {
   "cell_type": "markdown",
   "id": "0573b9c2",
   "metadata": {},
   "source": [
    "# Presenting and evaluating benchmark models"
   ]
  },
  {
   "cell_type": "code",
   "execution_count": null,
   "id": "6b4857d4",
   "metadata": {},
   "outputs": [],
   "source": [
    "# Basic imports\n",
    "import numpy as np\n",
    "import pandas as pd\n",
    "import matplotlib.pyplot as plt\n",
    "import matplotlib.cbook as cbook\n",
    "import os\n"
   ]
  },
  {
   "cell_type": "code",
   "execution_count": null,
   "id": "8edd77af",
   "metadata": {},
   "outputs": [],
   "source": [
    "# Where to find files\n",
    "username = os.getlogin()\n",
    "Mydropbox = f'/Users/{username}/Dropbox (ViEWS)/ViEWS/'\n",
    "overleafpath = f'/Users/{username}/Dropbox (ViEWS)/Apps/Overleaf/ViEWS predicting fatalities/Tables/'\n",
    "\n",
    "print('Dropbox path set to',Mydropbox)\n",
    "print('Overleaf path set to',overleafpath)\n",
    "\n",
    "filepath = Mydropbox + 'Prediction_competition_2023/' \n"
   ]
  },
  {
   "cell_type": "markdown",
   "id": "9e2bf775",
   "metadata": {},
   "source": [
    "## Reading in actuals"
   ]
  },
  {
   "cell_type": "code",
   "execution_count": null,
   "id": "b8c1be9c",
   "metadata": {},
   "outputs": [],
   "source": [
    "df_cm_actuals = pd.read_csv(filepath + 'cm_actuals.csv')\n",
    "df_pgm_actuals = pd.read_parquet(filepath + 'pgm_actuals.parquet')\n",
    "df_cm_actuals.head(), df_pgm_actuals.head()\n"
   ]
  },
  {
   "cell_type": "markdown",
   "id": "063d5877",
   "metadata": {},
   "source": [
    "## Reading in benchmark prediction models: \n",
    "1. cm model, ensemble-based"
   ]
  },
  {
   "cell_type": "code",
   "execution_count": null,
   "id": "56d4d1c8",
   "metadata": {},
   "outputs": [],
   "source": [
    "df_bm_cm_ensemble = pd.read_parquet(filepath + 'cm_benchmark_ensemble_550.parquet')\n",
    "df_bm_cm_ensemble.head()"
   ]
  },
  {
   "cell_type": "code",
   "execution_count": null,
   "id": "49577f7a",
   "metadata": {},
   "outputs": [],
   "source": []
  }
 ],
 "metadata": {
  "kernelspec": {
   "display_name": "Python 3 (ipykernel)",
   "language": "python",
   "name": "python3"
  },
  "language_info": {
   "codemirror_mode": {
    "name": "ipython",
    "version": 3
   },
   "file_extension": ".py",
   "mimetype": "text/x-python",
   "name": "python",
   "nbconvert_exporter": "python",
   "pygments_lexer": "ipython3",
   "version": "3.9.13"
  }
 },
 "nbformat": 4,
 "nbformat_minor": 5
}
