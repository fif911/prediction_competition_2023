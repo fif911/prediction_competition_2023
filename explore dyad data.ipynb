{
 "cells": [
  {
   "cell_type": "code",
   "execution_count": 1,
   "id": "initial_id",
   "metadata": {
    "collapsed": true,
    "ExecuteTime": {
     "end_time": "2024-03-25T13:46:10.573559Z",
     "start_time": "2024-03-25T13:45:52.466899Z"
    }
   },
   "outputs": [
    {
     "data": {
      "text/plain": "         month_id        date  country_id_a  country_id_b a_country_name  \\\n0             121  1990-01-01             1             2         Guyana   \n1             121  1990-01-01             1             3         Guyana   \n2             121  1990-01-01             1             4         Guyana   \n3             121  1990-01-01             1             5         Guyana   \n4             121  1990-01-01             1             6         Guyana   \n...           ...         ...           ...           ...            ...   \n6687689       502  2021-10-01           243           245        Morocco   \n6687690       502  2021-10-01           243           246        Morocco   \n6687691       502  2021-10-01           244           245     Mauritania   \n6687692       502  2021-10-01           244           246     Mauritania   \n6687693       502  2021-10-01           245           246          Sudan   \n\n              b_country_name  a_gleditsch_ward  a_ged_sb  a_ged_ns  a_ged_os  \\\n0                   Suriname               110       0.0       0.0       0.0   \n1        Trinidad and Tobago               110       0.0       0.0       0.0   \n2                  Venezuela               110       0.0       0.0       0.0   \n3                      Samoa               110       0.0       0.0       0.0   \n4                      Tonga               110       0.0       0.0       0.0   \n...                      ...               ...       ...       ...       ...   \n6687689                Sudan               600       0.0       0.0       0.0   \n6687690          South Sudan               600       0.0       0.0       0.0   \n6687691                Sudan               435       0.0       0.0       0.0   \n6687692          South Sudan               435       0.0       0.0       0.0   \n6687693          South Sudan               625       3.0       3.0       9.0   \n\n         ...  b_renewable_internal_pcap_t48  b_renewable_pcap_t48  \\\n0        ...                  264606.831667         264606.831667   \n1        ...                    3244.939711           3244.939711   \n2        ...                   45295.968642          74555.476336   \n3        ...                       0.000000              0.000000   \n4        ...                       0.000000              0.000000   \n...      ...                            ...                   ...   \n6687689  ...                      98.007034            926.166474   \n6687690  ...                    2382.968084           4536.804621   \n6687691  ...                      98.007034            926.166474   \n6687692  ...                    2382.968084           4536.804621   \n6687693  ...                    2382.968084           4536.804621   \n\n         b_splag_1_decay_ged_sb_5  b_splag_1_decay_ged_os_5  \\\n0                        0.062500                  0.062500   \n1                        0.000000                  0.000000   \n2                        1.062500                  1.062500   \n3                        0.000000                  0.000000   \n4                        0.000000                  0.000000   \n...                           ...                       ...   \n6687689                  5.816131                  4.897757   \n6687690                  4.950636                  4.593437   \n6687691                  5.816131                  4.897757   \n6687692                  4.950636                  4.593437   \n6687693                  4.950636                  4.593437   \n\n         b_splag_1_decay_ged_ns_5  ratio_wdi_sp_pop_totl  ratio_ged_sb  \\\n0                        0.062500               1.843709           0.0   \n1                        0.000000               0.599340           0.0   \n2                        0.093750               0.039060           0.0   \n3                        0.000000               4.484573           0.0   \n4                        0.000000               7.653026           0.0   \n...                           ...                    ...           ...   \n6687689                  4.263890               0.825571           0.0   \n6687690                  4.628575               3.459173           0.0   \n6687691                  4.263890               0.101228           0.0   \n6687692                  4.628575               0.424147           0.0   \n6687693                  4.628575               4.190037           1.5   \n\n         ratio_wdi_sp_dyn_imrt_in  ratio_vdem_v2x_ex_military  \\\n0                        1.197500                    2.500000   \n1                        1.761029                    0.250000   \n2                        1.863813                    1.748252   \n3                        1.871094                    0.250000   \n4                        2.443878                    0.250000   \n...                           ...                         ...   \n6687689                  0.403509                    0.800000   \n6687690                  0.252351                    0.250000   \n6687691                  0.827068                    2.800000   \n6687692                  0.517241                    0.875000   \n6687693                  0.625392                    0.312500   \n\n         ratio_wdi_ms_mil_xpnd_zs  \n0                        3.675305  \n1                        2.032451  \n2                        3.675305  \n3                        3.675305  \n4                        3.675305  \n...                           ...  \n6687689                  1.286171  \n6687690                  1.965578  \n6687691                  1.442215  \n6687692                  2.204050  \n6687693                  1.528240  \n\n[6687694 rows x 263 columns]",
      "text/html": "<div>\n<style scoped>\n    .dataframe tbody tr th:only-of-type {\n        vertical-align: middle;\n    }\n\n    .dataframe tbody tr th {\n        vertical-align: top;\n    }\n\n    .dataframe thead th {\n        text-align: right;\n    }\n</style>\n<table border=\"1\" class=\"dataframe\">\n  <thead>\n    <tr style=\"text-align: right;\">\n      <th></th>\n      <th>month_id</th>\n      <th>date</th>\n      <th>country_id_a</th>\n      <th>country_id_b</th>\n      <th>a_country_name</th>\n      <th>b_country_name</th>\n      <th>a_gleditsch_ward</th>\n      <th>a_ged_sb</th>\n      <th>a_ged_ns</th>\n      <th>a_ged_os</th>\n      <th>...</th>\n      <th>b_renewable_internal_pcap_t48</th>\n      <th>b_renewable_pcap_t48</th>\n      <th>b_splag_1_decay_ged_sb_5</th>\n      <th>b_splag_1_decay_ged_os_5</th>\n      <th>b_splag_1_decay_ged_ns_5</th>\n      <th>ratio_wdi_sp_pop_totl</th>\n      <th>ratio_ged_sb</th>\n      <th>ratio_wdi_sp_dyn_imrt_in</th>\n      <th>ratio_vdem_v2x_ex_military</th>\n      <th>ratio_wdi_ms_mil_xpnd_zs</th>\n    </tr>\n  </thead>\n  <tbody>\n    <tr>\n      <th>0</th>\n      <td>121</td>\n      <td>1990-01-01</td>\n      <td>1</td>\n      <td>2</td>\n      <td>Guyana</td>\n      <td>Suriname</td>\n      <td>110</td>\n      <td>0.0</td>\n      <td>0.0</td>\n      <td>0.0</td>\n      <td>...</td>\n      <td>264606.831667</td>\n      <td>264606.831667</td>\n      <td>0.062500</td>\n      <td>0.062500</td>\n      <td>0.062500</td>\n      <td>1.843709</td>\n      <td>0.0</td>\n      <td>1.197500</td>\n      <td>2.500000</td>\n      <td>3.675305</td>\n    </tr>\n    <tr>\n      <th>1</th>\n      <td>121</td>\n      <td>1990-01-01</td>\n      <td>1</td>\n      <td>3</td>\n      <td>Guyana</td>\n      <td>Trinidad and Tobago</td>\n      <td>110</td>\n      <td>0.0</td>\n      <td>0.0</td>\n      <td>0.0</td>\n      <td>...</td>\n      <td>3244.939711</td>\n      <td>3244.939711</td>\n      <td>0.000000</td>\n      <td>0.000000</td>\n      <td>0.000000</td>\n      <td>0.599340</td>\n      <td>0.0</td>\n      <td>1.761029</td>\n      <td>0.250000</td>\n      <td>2.032451</td>\n    </tr>\n    <tr>\n      <th>2</th>\n      <td>121</td>\n      <td>1990-01-01</td>\n      <td>1</td>\n      <td>4</td>\n      <td>Guyana</td>\n      <td>Venezuela</td>\n      <td>110</td>\n      <td>0.0</td>\n      <td>0.0</td>\n      <td>0.0</td>\n      <td>...</td>\n      <td>45295.968642</td>\n      <td>74555.476336</td>\n      <td>1.062500</td>\n      <td>1.062500</td>\n      <td>0.093750</td>\n      <td>0.039060</td>\n      <td>0.0</td>\n      <td>1.863813</td>\n      <td>1.748252</td>\n      <td>3.675305</td>\n    </tr>\n    <tr>\n      <th>3</th>\n      <td>121</td>\n      <td>1990-01-01</td>\n      <td>1</td>\n      <td>5</td>\n      <td>Guyana</td>\n      <td>Samoa</td>\n      <td>110</td>\n      <td>0.0</td>\n      <td>0.0</td>\n      <td>0.0</td>\n      <td>...</td>\n      <td>0.000000</td>\n      <td>0.000000</td>\n      <td>0.000000</td>\n      <td>0.000000</td>\n      <td>0.000000</td>\n      <td>4.484573</td>\n      <td>0.0</td>\n      <td>1.871094</td>\n      <td>0.250000</td>\n      <td>3.675305</td>\n    </tr>\n    <tr>\n      <th>4</th>\n      <td>121</td>\n      <td>1990-01-01</td>\n      <td>1</td>\n      <td>6</td>\n      <td>Guyana</td>\n      <td>Tonga</td>\n      <td>110</td>\n      <td>0.0</td>\n      <td>0.0</td>\n      <td>0.0</td>\n      <td>...</td>\n      <td>0.000000</td>\n      <td>0.000000</td>\n      <td>0.000000</td>\n      <td>0.000000</td>\n      <td>0.000000</td>\n      <td>7.653026</td>\n      <td>0.0</td>\n      <td>2.443878</td>\n      <td>0.250000</td>\n      <td>3.675305</td>\n    </tr>\n    <tr>\n      <th>...</th>\n      <td>...</td>\n      <td>...</td>\n      <td>...</td>\n      <td>...</td>\n      <td>...</td>\n      <td>...</td>\n      <td>...</td>\n      <td>...</td>\n      <td>...</td>\n      <td>...</td>\n      <td>...</td>\n      <td>...</td>\n      <td>...</td>\n      <td>...</td>\n      <td>...</td>\n      <td>...</td>\n      <td>...</td>\n      <td>...</td>\n      <td>...</td>\n      <td>...</td>\n      <td>...</td>\n    </tr>\n    <tr>\n      <th>6687689</th>\n      <td>502</td>\n      <td>2021-10-01</td>\n      <td>243</td>\n      <td>245</td>\n      <td>Morocco</td>\n      <td>Sudan</td>\n      <td>600</td>\n      <td>0.0</td>\n      <td>0.0</td>\n      <td>0.0</td>\n      <td>...</td>\n      <td>98.007034</td>\n      <td>926.166474</td>\n      <td>5.816131</td>\n      <td>4.897757</td>\n      <td>4.263890</td>\n      <td>0.825571</td>\n      <td>0.0</td>\n      <td>0.403509</td>\n      <td>0.800000</td>\n      <td>1.286171</td>\n    </tr>\n    <tr>\n      <th>6687690</th>\n      <td>502</td>\n      <td>2021-10-01</td>\n      <td>243</td>\n      <td>246</td>\n      <td>Morocco</td>\n      <td>South Sudan</td>\n      <td>600</td>\n      <td>0.0</td>\n      <td>0.0</td>\n      <td>0.0</td>\n      <td>...</td>\n      <td>2382.968084</td>\n      <td>4536.804621</td>\n      <td>4.950636</td>\n      <td>4.593437</td>\n      <td>4.628575</td>\n      <td>3.459173</td>\n      <td>0.0</td>\n      <td>0.252351</td>\n      <td>0.250000</td>\n      <td>1.965578</td>\n    </tr>\n    <tr>\n      <th>6687691</th>\n      <td>502</td>\n      <td>2021-10-01</td>\n      <td>244</td>\n      <td>245</td>\n      <td>Mauritania</td>\n      <td>Sudan</td>\n      <td>435</td>\n      <td>0.0</td>\n      <td>0.0</td>\n      <td>0.0</td>\n      <td>...</td>\n      <td>98.007034</td>\n      <td>926.166474</td>\n      <td>5.816131</td>\n      <td>4.897757</td>\n      <td>4.263890</td>\n      <td>0.101228</td>\n      <td>0.0</td>\n      <td>0.827068</td>\n      <td>2.800000</td>\n      <td>1.442215</td>\n    </tr>\n    <tr>\n      <th>6687692</th>\n      <td>502</td>\n      <td>2021-10-01</td>\n      <td>244</td>\n      <td>246</td>\n      <td>Mauritania</td>\n      <td>South Sudan</td>\n      <td>435</td>\n      <td>0.0</td>\n      <td>0.0</td>\n      <td>0.0</td>\n      <td>...</td>\n      <td>2382.968084</td>\n      <td>4536.804621</td>\n      <td>4.950636</td>\n      <td>4.593437</td>\n      <td>4.628575</td>\n      <td>0.424147</td>\n      <td>0.0</td>\n      <td>0.517241</td>\n      <td>0.875000</td>\n      <td>2.204050</td>\n    </tr>\n    <tr>\n      <th>6687693</th>\n      <td>502</td>\n      <td>2021-10-01</td>\n      <td>245</td>\n      <td>246</td>\n      <td>Sudan</td>\n      <td>South Sudan</td>\n      <td>625</td>\n      <td>3.0</td>\n      <td>3.0</td>\n      <td>9.0</td>\n      <td>...</td>\n      <td>2382.968084</td>\n      <td>4536.804621</td>\n      <td>4.950636</td>\n      <td>4.593437</td>\n      <td>4.628575</td>\n      <td>4.190037</td>\n      <td>1.5</td>\n      <td>0.625392</td>\n      <td>0.312500</td>\n      <td>1.528240</td>\n    </tr>\n  </tbody>\n</table>\n<p>6687694 rows × 263 columns</p>\n</div>"
     },
     "execution_count": 1,
     "metadata": {},
     "output_type": "execute_result"
    }
   ],
   "source": [
    "import pandas as pd\n",
    "import os\n",
    "\n",
    "# # Directory where the CSV files are stored\n",
    "# input_dir = 'data_dyad_monthly'\n",
    "# \n",
    "# # List all CSV files in the directory\n",
    "# csv_files = [f for f in os.listdir(input_dir) if f.endswith('.csv')]\n",
    "# csv_files = list(sorted(csv_files))\n",
    "# \n",
    "# # Initialize an empty list to store DataFrames\n",
    "# dfs = []\n",
    "# \n",
    "# # Loop over the list of CSV files\n",
    "# for file in sorted(csv_files):  # Sorting ensures the files are processed in order\n",
    "#     print(f'Reading {file}')\n",
    "#     file_path = os.path.join(input_dir, file)\n",
    "#     # Read the current CSV into a DataFrame\n",
    "#     df = pd.read_csv(file_path)\n",
    "#     # Append the DataFrame to the list\n",
    "#     dfs.append(df)\n",
    "\n",
    "# Concatenate all DataFrames in the list into one\n",
    "dyad_df = pd.read_parquet('data_dyad_monthly/dyad_df.parquet')\n",
    "dyad_df"
   ]
  },
  {
   "cell_type": "code",
   "execution_count": null,
   "outputs": [],
   "source": [
    "save_to_parquet = False\n",
    "if save_to_parquet:\n",
    "    dyad_df.to_parquet('data_dyad_monthly/dyad_df.parquet')\n",
    "# save_to_csv = True\n",
    "# if save_to_csv:\n",
    "#     dyad_df.to_csv('data_dyad_monthly/dyad_df.csv', index=True)"
   ],
   "metadata": {
    "collapsed": false,
    "ExecuteTime": {
     "end_time": "2024-03-24T22:00:54.192513Z",
     "start_time": "2024-03-24T22:00:54.190717Z"
    }
   },
   "id": "3d704f879612678b"
  },
  {
   "cell_type": "code",
   "execution_count": null,
   "outputs": [],
   "source": [
    "dyad_df.info()"
   ],
   "metadata": {
    "collapsed": false,
    "ExecuteTime": {
     "start_time": "2024-03-24T22:00:54.192479Z"
    }
   },
   "id": "1743631ef7cdcd0c"
  },
  {
   "cell_type": "code",
   "execution_count": null,
   "outputs": [],
   "source": [
    "# explore data\n",
    "# plot distribution of a_ged_sb\n",
    "import matplotlib.pyplot as plt\n",
    "\n",
    "dyad_df['a_ged_sb'].plot.hist(bins=20)\n",
    "# log scale\n",
    "plt.yscale('log')\n",
    "plt.title('Distribution of a_ged_sb')\n",
    "plt.show()\n",
    "dyad_df['b_ged_sb'].plot.hist(bins=20)\n",
    "plt.yscale('log')\n",
    "plt.title('Distribution of b_ged_sb')\n",
    "plt.show()\n",
    "# plot number of dyads where according to count of a_ged_sb and b_ged_sb\n",
    "# 0 if both are 0, 1 if one is 0, 2 if both are not 0\n"
   ],
   "metadata": {
    "collapsed": false,
    "ExecuteTime": {
     "start_time": "2024-03-24T22:00:54.194108Z"
    }
   },
   "id": "a61304c6243ec497"
  },
  {
   "cell_type": "code",
   "execution_count": null,
   "outputs": [],
   "source": [],
   "metadata": {
    "collapsed": false,
    "ExecuteTime": {
     "start_time": "2024-03-24T22:00:54.195559Z"
    }
   },
   "id": "a8d23068220cc40e"
  },
  {
   "cell_type": "code",
   "execution_count": null,
   "outputs": [],
   "source": [
    "\n",
    "# Function to categorize each dyad\n",
    "def categorize_dyads(a, b):\n",
    "    if a == 0 and b == 0:\n",
    "        return 0\n",
    "    elif a == 0 or b == 0:\n",
    "        return 1\n",
    "    else:\n",
    "        return 2\n",
    "\n",
    "\n",
    "# Apply the function to each row and create a new column with the category\n",
    "dyad_df['category'] = dyad_df.apply(lambda x: categorize_dyads(x['a_ged_sb'], x['b_ged_sb']), axis=1)\n",
    "\n",
    "# Count occurrences of each category\n",
    "category_counts = dyad_df['category'].value_counts().sort_index()\n",
    "\n",
    "# Plot\n",
    "category_counts.plot(kind='bar')\n",
    "plt.title('Number of Dyads by Category')\n",
    "plt.xlabel('Category')\n",
    "plt.ylabel('Number of Dyads')\n",
    "plt.xticks(ticks=[0, 1, 2], labels=['Both 0', 'One 0', 'Both not 0'], rotation=0)\n",
    "plt.show()"
   ],
   "metadata": {
    "collapsed": false,
    "is_executing": true,
    "ExecuteTime": {
     "start_time": "2024-03-25T13:48:20.720582Z"
    }
   },
   "id": "944460d535129bd4"
  },
  {
   "cell_type": "code",
   "execution_count": null,
   "outputs": [],
   "source": [
    "dyad_df.sort_values(by=['country_id_a', 'country_id_b', 'month_id'], inplace=True)\n",
    "\n",
    "\n",
    "# Function to shift the 'ged_sb' variable backwards by 15 months within each group\n",
    "def shift_ged_sb(group):\n",
    "    # Assuming 'ged_sb' is recorded per country in the dyad, adjust if you have a single 'ged_sb' variable\n",
    "    group['a_ged_sb_shifted'] = group['a_ged_sb'].shift(-15)\n",
    "    group['b_ged_sb_shifted'] = group['b_ged_sb'].shift(-15)\n",
    "    return group\n",
    "\n",
    "\n",
    "# Apply the function to each dyad group\n",
    "dyad_df = dyad_df.groupby(['country_id_a', 'country_id_b']).apply(shift_ged_sb)\n",
    "dyad_df.reset_index(drop=True, inplace=True)\n",
    "# cm_features['y_shifted'] = cm_features.groupby('country_id')['ged_sb'].shift(-15)  # 3 months gap + 12 months prediction\n",
    "# show na for y_shifted\n",
    "# cm_features[cm_features['y_shifted'].isna()]\n",
    "# drop na\n",
    "dyad_df = dyad_df.dropna()\n",
    "dyad_df"
   ],
   "metadata": {
    "collapsed": false,
    "ExecuteTime": {
     "start_time": "2024-03-24T22:00:54.197743Z"
    }
   },
   "id": "7033da37f5372ce4"
  },
  {
   "cell_type": "code",
   "execution_count": null,
   "outputs": [],
   "source": [
    "# transform from dyad to country/month\n",
    "# per each month, aggregate the dyad data by country and then average fatalities\n",
    "# based on first country only as we have duplicates\n",
    "\n",
    "# Step 1: Split the DataFrame into two, one for each country in the dyad\n",
    "df_a = dyad_df[['month_id', 'country_id_a', 'a_country_name', 'a_ged_sb', 'a_ged_sb_shifted']].copy()\n",
    "df_b = dyad_df[['month_id', 'country_id_b', 'b_country_name', 'b_ged_sb', 'b_ged_sb_shifted']].copy()\n",
    "\n",
    "# Step 2: Rename columns to have a consistent naming convention\n",
    "df_a.rename(columns={'country_id_a': 'country_id', 'a_country_name': 'country_name', 'a_ged_sb': 'ged_sb',\n",
    "                     'a_ged_sb_shifted': 'y_shifted'},\n",
    "            inplace=True)\n",
    "df_b.rename(columns={'country_id_b': 'country_id', 'b_country_name': 'country_name', 'b_ged_sb': 'ged_sb',\n",
    "                     'b_ged_sb_shifted': 'y_shifted'},\n",
    "            inplace=True)\n",
    "\n",
    "# Step 3: Concatenate these DataFrames into a single DataFrame\n",
    "combined_country_df = pd.concat([df_a, df_b], ignore_index=True)\n",
    "\n",
    "# Step 4: Group by month_id and country_id, then aggregate to average the fatalities\n",
    "# Adjusting for the possibility of no fatalities data, replace NaN with 0 or a suitable default before averaging if necessary\n",
    "cm_features = combined_country_df.groupby(['month_id', 'country_id', 'country_name']).agg(\n",
    "    {'ged_sb': 'mean', 'y_shifted': 'mean'}).reset_index()\n",
    "\n",
    "# aggregated_df now contains the average fatalities per country per month\n",
    "cm_features"
   ],
   "metadata": {
    "collapsed": false,
    "ExecuteTime": {
     "start_time": "2024-03-24T22:00:54.198680Z"
    }
   },
   "id": "cac9b632042caa7"
  },
  {
   "cell_type": "code",
   "execution_count": null,
   "outputs": [],
   "source": [
    "\n",
    "# plot y_shifted per month\n",
    "from matplotlib import pyplot as plt\n",
    "\n",
    "cm_features['y_shifted'].plot()\n",
    "cm_features['ged_sb'].plot()\n",
    "# cm_features['ged_sb_tlag_6'].plot()\n",
    "plt.legend()\n",
    "plt.show()"
   ],
   "metadata": {
    "collapsed": false,
    "ExecuteTime": {
     "start_time": "2024-03-24T22:00:54.199825Z"
    }
   },
   "id": "e9ba377733f4ae43"
  }
 ],
 "metadata": {
  "kernelspec": {
   "display_name": "Python 3",
   "language": "python",
   "name": "python3"
  },
  "language_info": {
   "codemirror_mode": {
    "name": "ipython",
    "version": 2
   },
   "file_extension": ".py",
   "mimetype": "text/x-python",
   "name": "python",
   "nbconvert_exporter": "python",
   "pygments_lexer": "ipython2",
   "version": "2.7.6"
  }
 },
 "nbformat": 4,
 "nbformat_minor": 5
}
