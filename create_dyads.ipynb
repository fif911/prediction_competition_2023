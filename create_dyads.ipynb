{
 "cells": [
  {
   "cell_type": "code",
   "execution_count": 30,
   "id": "initial_id",
   "metadata": {
    "collapsed": true,
    "ExecuteTime": {
     "end_time": "2024-03-24T14:56:34.053734Z",
     "start_time": "2024-03-24T14:56:33.397042Z"
    }
   },
   "outputs": [
    {
     "data": {
      "text/plain": "       month_id  country_id  gleditsch_ward  ged_sb  ged_ns  ged_os  acled_sb  \\\n0           121           1             110     0.0     0.0     0.0       0.0   \n1           121           2             115     0.0     0.0     0.0       0.0   \n2           121           3              52     0.0     0.0     0.0       0.0   \n3           121           4             101     0.0     0.0    12.0       0.0   \n4           121           5             990     0.0     0.0     0.0       0.0   \n...         ...         ...             ...     ...     ...     ...       ...   \n71637       502         242             510     0.0     0.0     1.0       0.0   \n71638       502         243             600     0.0     0.0     0.0       2.0   \n71639       502         244             435     0.0     0.0     0.0       0.0   \n71640       502         245             625     3.0     3.0     9.0       2.0   \n71641       502         246             626     2.0    62.0     0.0       0.0   \n\n       acled_sb_count  acled_os  ged_sb_tsum_24  ...  services_efficiency_t48  \\\n0                 0.0       0.0             0.0  ...                27.952694   \n1                 0.0       0.0             0.0  ...                57.289771   \n2                 0.0       0.0             0.0  ...                35.755839   \n3                 0.0       0.0             0.0  ...                28.946372   \n4                 0.0       0.0             0.0  ...                 0.000000   \n...               ...       ...             ...  ...                      ...   \n71637             0.0       2.0            30.0  ...                41.083011   \n71638             2.0       0.0             5.0  ...                54.588834   \n71639             0.0       0.0             0.0  ...                32.697300   \n71640             1.0      42.0            82.0  ...                53.047036   \n71641             9.0      26.0           191.0  ...                32.646585   \n\n       general_efficiency_t48  water_stress_t48  renewable_internal_pcap_t48  \\\n0                    1.380676          3.333333                315260.986388   \n1                    3.922495          2.950609                264606.831667   \n2                   36.015231         17.956469                  3244.939711   \n3                   26.864392          2.249173                 45295.968642   \n4                    0.000000          0.000000                     0.000000   \n...                       ...               ...                          ...   \n71637                6.915093         12.963241                  1536.763246   \n71638                8.417189         50.751212                   815.035895   \n71639                3.774539         13.246217                    93.401859   \n71640                2.620623        118.656388                    98.007034   \n71641               18.640333          4.226076                  2382.968084   \n\n       renewable_pcap_t48  splag_1_decay_ged_sb_5  splag_1_decay_ged_os_5  \\\n0           354505.092577                0.093750                1.034032   \n1           264606.831667                0.062500                0.062500   \n2             3244.939711                0.000000                0.000000   \n3            74555.476336                1.062500                1.062500   \n4                0.000000                0.000000                0.000000   \n...                   ...                     ...                     ...   \n71637         1761.240449                4.412313                3.889290   \n71638          815.035895                0.823197                0.049630   \n71639         2661.952986                1.844790                1.055986   \n71640          926.166474                5.816131                4.897757   \n71641         4536.804621                4.950636                4.593437   \n\n       splag_1_decay_ged_ns_5              country        date  \n0                    0.093750               Guyana  1990-01-01  \n1                    0.062500             Suriname  1990-01-01  \n2                    0.000000  Trinidad and Tobago  1990-01-01  \n3                    0.093750            Venezuela  1990-01-01  \n4                    0.000000                Samoa  1990-01-01  \n...                       ...                  ...         ...  \n71637                2.105145             Tanzania  2021-10-01  \n71638                0.060734              Morocco  2021-10-01  \n71639                1.065787           Mauritania  2021-10-01  \n71640                4.263890                Sudan  2021-10-01  \n71641                4.628575          South Sudan  2021-10-01  \n\n[71642 rows x 130 columns]",
      "text/html": "<div>\n<style scoped>\n    .dataframe tbody tr th:only-of-type {\n        vertical-align: middle;\n    }\n\n    .dataframe tbody tr th {\n        vertical-align: top;\n    }\n\n    .dataframe thead th {\n        text-align: right;\n    }\n</style>\n<table border=\"1\" class=\"dataframe\">\n  <thead>\n    <tr style=\"text-align: right;\">\n      <th></th>\n      <th>month_id</th>\n      <th>country_id</th>\n      <th>gleditsch_ward</th>\n      <th>ged_sb</th>\n      <th>ged_ns</th>\n      <th>ged_os</th>\n      <th>acled_sb</th>\n      <th>acled_sb_count</th>\n      <th>acled_os</th>\n      <th>ged_sb_tsum_24</th>\n      <th>...</th>\n      <th>services_efficiency_t48</th>\n      <th>general_efficiency_t48</th>\n      <th>water_stress_t48</th>\n      <th>renewable_internal_pcap_t48</th>\n      <th>renewable_pcap_t48</th>\n      <th>splag_1_decay_ged_sb_5</th>\n      <th>splag_1_decay_ged_os_5</th>\n      <th>splag_1_decay_ged_ns_5</th>\n      <th>country</th>\n      <th>date</th>\n    </tr>\n  </thead>\n  <tbody>\n    <tr>\n      <th>0</th>\n      <td>121</td>\n      <td>1</td>\n      <td>110</td>\n      <td>0.0</td>\n      <td>0.0</td>\n      <td>0.0</td>\n      <td>0.0</td>\n      <td>0.0</td>\n      <td>0.0</td>\n      <td>0.0</td>\n      <td>...</td>\n      <td>27.952694</td>\n      <td>1.380676</td>\n      <td>3.333333</td>\n      <td>315260.986388</td>\n      <td>354505.092577</td>\n      <td>0.093750</td>\n      <td>1.034032</td>\n      <td>0.093750</td>\n      <td>Guyana</td>\n      <td>1990-01-01</td>\n    </tr>\n    <tr>\n      <th>1</th>\n      <td>121</td>\n      <td>2</td>\n      <td>115</td>\n      <td>0.0</td>\n      <td>0.0</td>\n      <td>0.0</td>\n      <td>0.0</td>\n      <td>0.0</td>\n      <td>0.0</td>\n      <td>0.0</td>\n      <td>...</td>\n      <td>57.289771</td>\n      <td>3.922495</td>\n      <td>2.950609</td>\n      <td>264606.831667</td>\n      <td>264606.831667</td>\n      <td>0.062500</td>\n      <td>0.062500</td>\n      <td>0.062500</td>\n      <td>Suriname</td>\n      <td>1990-01-01</td>\n    </tr>\n    <tr>\n      <th>2</th>\n      <td>121</td>\n      <td>3</td>\n      <td>52</td>\n      <td>0.0</td>\n      <td>0.0</td>\n      <td>0.0</td>\n      <td>0.0</td>\n      <td>0.0</td>\n      <td>0.0</td>\n      <td>0.0</td>\n      <td>...</td>\n      <td>35.755839</td>\n      <td>36.015231</td>\n      <td>17.956469</td>\n      <td>3244.939711</td>\n      <td>3244.939711</td>\n      <td>0.000000</td>\n      <td>0.000000</td>\n      <td>0.000000</td>\n      <td>Trinidad and Tobago</td>\n      <td>1990-01-01</td>\n    </tr>\n    <tr>\n      <th>3</th>\n      <td>121</td>\n      <td>4</td>\n      <td>101</td>\n      <td>0.0</td>\n      <td>0.0</td>\n      <td>12.0</td>\n      <td>0.0</td>\n      <td>0.0</td>\n      <td>0.0</td>\n      <td>0.0</td>\n      <td>...</td>\n      <td>28.946372</td>\n      <td>26.864392</td>\n      <td>2.249173</td>\n      <td>45295.968642</td>\n      <td>74555.476336</td>\n      <td>1.062500</td>\n      <td>1.062500</td>\n      <td>0.093750</td>\n      <td>Venezuela</td>\n      <td>1990-01-01</td>\n    </tr>\n    <tr>\n      <th>4</th>\n      <td>121</td>\n      <td>5</td>\n      <td>990</td>\n      <td>0.0</td>\n      <td>0.0</td>\n      <td>0.0</td>\n      <td>0.0</td>\n      <td>0.0</td>\n      <td>0.0</td>\n      <td>0.0</td>\n      <td>...</td>\n      <td>0.000000</td>\n      <td>0.000000</td>\n      <td>0.000000</td>\n      <td>0.000000</td>\n      <td>0.000000</td>\n      <td>0.000000</td>\n      <td>0.000000</td>\n      <td>0.000000</td>\n      <td>Samoa</td>\n      <td>1990-01-01</td>\n    </tr>\n    <tr>\n      <th>...</th>\n      <td>...</td>\n      <td>...</td>\n      <td>...</td>\n      <td>...</td>\n      <td>...</td>\n      <td>...</td>\n      <td>...</td>\n      <td>...</td>\n      <td>...</td>\n      <td>...</td>\n      <td>...</td>\n      <td>...</td>\n      <td>...</td>\n      <td>...</td>\n      <td>...</td>\n      <td>...</td>\n      <td>...</td>\n      <td>...</td>\n      <td>...</td>\n      <td>...</td>\n      <td>...</td>\n    </tr>\n    <tr>\n      <th>71637</th>\n      <td>502</td>\n      <td>242</td>\n      <td>510</td>\n      <td>0.0</td>\n      <td>0.0</td>\n      <td>1.0</td>\n      <td>0.0</td>\n      <td>0.0</td>\n      <td>2.0</td>\n      <td>30.0</td>\n      <td>...</td>\n      <td>41.083011</td>\n      <td>6.915093</td>\n      <td>12.963241</td>\n      <td>1536.763246</td>\n      <td>1761.240449</td>\n      <td>4.412313</td>\n      <td>3.889290</td>\n      <td>2.105145</td>\n      <td>Tanzania</td>\n      <td>2021-10-01</td>\n    </tr>\n    <tr>\n      <th>71638</th>\n      <td>502</td>\n      <td>243</td>\n      <td>600</td>\n      <td>0.0</td>\n      <td>0.0</td>\n      <td>0.0</td>\n      <td>2.0</td>\n      <td>2.0</td>\n      <td>0.0</td>\n      <td>5.0</td>\n      <td>...</td>\n      <td>54.588834</td>\n      <td>8.417189</td>\n      <td>50.751212</td>\n      <td>815.035895</td>\n      <td>815.035895</td>\n      <td>0.823197</td>\n      <td>0.049630</td>\n      <td>0.060734</td>\n      <td>Morocco</td>\n      <td>2021-10-01</td>\n    </tr>\n    <tr>\n      <th>71639</th>\n      <td>502</td>\n      <td>244</td>\n      <td>435</td>\n      <td>0.0</td>\n      <td>0.0</td>\n      <td>0.0</td>\n      <td>0.0</td>\n      <td>0.0</td>\n      <td>0.0</td>\n      <td>0.0</td>\n      <td>...</td>\n      <td>32.697300</td>\n      <td>3.774539</td>\n      <td>13.246217</td>\n      <td>93.401859</td>\n      <td>2661.952986</td>\n      <td>1.844790</td>\n      <td>1.055986</td>\n      <td>1.065787</td>\n      <td>Mauritania</td>\n      <td>2021-10-01</td>\n    </tr>\n    <tr>\n      <th>71640</th>\n      <td>502</td>\n      <td>245</td>\n      <td>625</td>\n      <td>3.0</td>\n      <td>3.0</td>\n      <td>9.0</td>\n      <td>2.0</td>\n      <td>1.0</td>\n      <td>42.0</td>\n      <td>82.0</td>\n      <td>...</td>\n      <td>53.047036</td>\n      <td>2.620623</td>\n      <td>118.656388</td>\n      <td>98.007034</td>\n      <td>926.166474</td>\n      <td>5.816131</td>\n      <td>4.897757</td>\n      <td>4.263890</td>\n      <td>Sudan</td>\n      <td>2021-10-01</td>\n    </tr>\n    <tr>\n      <th>71641</th>\n      <td>502</td>\n      <td>246</td>\n      <td>626</td>\n      <td>2.0</td>\n      <td>62.0</td>\n      <td>0.0</td>\n      <td>0.0</td>\n      <td>9.0</td>\n      <td>26.0</td>\n      <td>191.0</td>\n      <td>...</td>\n      <td>32.646585</td>\n      <td>18.640333</td>\n      <td>4.226076</td>\n      <td>2382.968084</td>\n      <td>4536.804621</td>\n      <td>4.950636</td>\n      <td>4.593437</td>\n      <td>4.628575</td>\n      <td>South Sudan</td>\n      <td>2021-10-01</td>\n    </tr>\n  </tbody>\n</table>\n<p>71642 rows × 130 columns</p>\n</div>"
     },
     "execution_count": 30,
     "metadata": {},
     "output_type": "execute_result"
    }
   ],
   "source": [
    "import pandas as pd\n",
    "\n",
    "cm_features = pd.read_csv('data/cm_features_with_name.csv')\n",
    "# sort by month_id and country_id\n",
    "cm_features = cm_features.sort_values(by=['month_id', 'country_id'])\n",
    "cm_features"
   ]
  },
  {
   "cell_type": "code",
   "execution_count": 31,
   "outputs": [],
   "source": [
    "import pandas as pd\n",
    "\n",
    "# cm_features is initial DataFrame with columns ['month_id', 'country_id', 'country_name', 'date', ...]\n",
    "\n",
    "# Initialize a list to collect dyadic pair data\n",
    "dyadic_data = []\n",
    "\n",
    "# Features to exclude from the dyadic DataFrame\n",
    "features_exclude = ['date', 'country_id', 'month_id', 'country']  # Excluding 'country_name' to handle separately\n",
    "\n",
    "# Features to create ratios for\n",
    "features_for_ratios = ['wdi_sp_pop_totl', 'ged_sb', 'wdi_sp_dyn_imrt_in', 'vdem_v2x_ex_military', 'wdi_ms_mil_xpnd_zs']\n",
    "\n",
    "# Iterate over each month only once\n",
    "for month in cm_features['month_id'].unique():\n",
    "    print(\"Processing month: \", month)\n",
    "    # Filter the DataFrame for the current month only once\n",
    "    cm_features_month = cm_features[cm_features['month_id'] == month]\n",
    "    date = cm_features_month['date'].values[0]\n",
    "\n",
    "    # Get unique countries in the month\n",
    "    countries = cm_features_month['country_id'].unique()\n",
    "\n",
    "    # Generate all unique pairs of countries without repeating pairs\n",
    "    for i in range(len(countries)):\n",
    "        print(\"Processing country: \", i)\n",
    "        for j in range(i + 1, len(countries)):\n",
    "            country_i = countries[i]\n",
    "            country_j = countries[j]\n",
    "\n",
    "            # Filter data for each country and drop excluded features\n",
    "            data_i = cm_features_month[cm_features_month['country_id'] == country_i]\n",
    "            data_j = cm_features_month[cm_features_month['country_id'] == country_j]\n",
    "\n",
    "            # Get country names for both countries\n",
    "            country_name_i = data_i['country'].values[0]\n",
    "            country_name_j = data_j['country'].values[0]\n",
    "\n",
    "            # Drop excluded features\n",
    "            data_i = data_i.drop(columns=features_exclude)\n",
    "            data_j = data_j.drop(columns=features_exclude)\n",
    "\n",
    "            # Initialize dyad dictionary with month, country IDs, and country names\n",
    "            dyad = {\n",
    "                'month_id': month,\n",
    "                'date': date,\n",
    "                'country_id_a': country_i,\n",
    "                'country_id_b': country_j,\n",
    "                'a_country_name': country_name_i,\n",
    "                'b_country_name': country_name_j\n",
    "            }\n",
    "\n",
    "            # Add data for country_i and country_j to dyad, prefix with 'a_' and 'b_'\n",
    "            for feature in data_i.columns:\n",
    "                dyad[f'a_{feature}'] = data_i[feature].values[0]  # Assuming one row per country per month\n",
    "            for feature in data_j.columns:\n",
    "                dyad[f'b_{feature}'] = data_j[feature].values[0]\n",
    "\n",
    "            # Calculate and add ratios for specified features\n",
    "            for feature in features_for_ratios:\n",
    "                if feature in data_i.columns and feature in data_j.columns:\n",
    "                    value_i = data_i[feature].values[0]  # Assuming one row per country per month\n",
    "                    value_j = data_j[feature].values[0]\n",
    "                    # Adjust for division by zero\n",
    "                    if value_j == 0:\n",
    "                        value_j = 1\n",
    "                    ratio = value_i / value_j\n",
    "                    dyad[f'ratio_{feature}'] = ratio\n",
    "\n",
    "            # Append the completed dyad to the list\n",
    "            dyadic_data.append(dyad)\n"
   ],
   "metadata": {
    "collapsed": false,
    "ExecuteTime": {
     "end_time": "2024-03-24T14:56:34.081070Z",
     "start_time": "2024-03-24T14:56:34.055443Z"
    }
   },
   "id": "f1e534cf14c25f2c"
  },
  {
   "cell_type": "code",
   "execution_count": null,
   "outputs": [],
   "source": [
    "dyadic_df = pd.DataFrame(dyadic_data)\n",
    "dyadic_df.info()"
   ],
   "metadata": {
    "collapsed": false,
    "ExecuteTime": {
     "end_time": "2024-03-24T14:56:46.219767Z",
     "start_time": "2024-03-24T14:56:46.219397Z"
    }
   },
   "id": "e88bcf442a4a9bb"
  }
 ],
 "metadata": {
  "kernelspec": {
   "display_name": "Python 3",
   "language": "python",
   "name": "python3"
  },
  "language_info": {
   "codemirror_mode": {
    "name": "ipython",
    "version": 2
   },
   "file_extension": ".py",
   "mimetype": "text/x-python",
   "name": "python",
   "nbconvert_exporter": "python",
   "pygments_lexer": "ipython2",
   "version": "2.7.6"
  }
 },
 "nbformat": 4,
 "nbformat_minor": 5
}
