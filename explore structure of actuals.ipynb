{
 "cells": [
  {
   "cell_type": "code",
   "execution_count": 12,
   "id": "initial_id",
   "metadata": {
    "collapsed": true,
    "ExecuteTime": {
     "end_time": "2024-03-16T22:25:52.528607Z",
     "start_time": "2024-03-16T22:25:52.478705Z"
    }
   },
   "outputs": [
    {
     "name": "stdout",
     "output_type": "stream",
     "text": [
      "The autoreload extension is already loaded. To reload it, use:\n",
      "  %reload_ext autoreload\n"
     ]
    }
   ],
   "source": [
    "%load_ext autoreload\n",
    "%autoreload 2"
   ]
  },
  {
   "cell_type": "code",
   "execution_count": 13,
   "outputs": [],
   "source": [
    "# Basic imports\n",
    "import numpy as np\n",
    "import pandas as pd\n",
    "import matplotlib.pyplot as plt\n",
    "import matplotlib.cbook as cbook\n",
    "import os\n",
    "\n",
    "# Evaluation scripts\n",
    "from CompetitionEvaluation import load_data, structure_data, calculate_metrics\n",
    " "
   ],
   "metadata": {
    "collapsed": false,
    "ExecuteTime": {
     "end_time": "2024-03-16T22:25:52.540916Z",
     "start_time": "2024-03-16T22:25:52.528250Z"
    }
   },
   "id": "b0723e14d4073cff"
  },
  {
   "cell_type": "code",
   "execution_count": 24,
   "outputs": [
    {
     "data": {
      "text/plain": "   month_id  country_id  outcome\n0       457           1        0\n1       457           2        0\n2       457           3        0\n3       457           4        0\n4       457           5        0",
      "text/html": "<div>\n<style scoped>\n    .dataframe tbody tr th:only-of-type {\n        vertical-align: middle;\n    }\n\n    .dataframe tbody tr th {\n        vertical-align: top;\n    }\n\n    .dataframe thead th {\n        text-align: right;\n    }\n</style>\n<table border=\"1\" class=\"dataframe\">\n  <thead>\n    <tr style=\"text-align: right;\">\n      <th></th>\n      <th>month_id</th>\n      <th>country_id</th>\n      <th>outcome</th>\n    </tr>\n  </thead>\n  <tbody>\n    <tr>\n      <th>0</th>\n      <td>457</td>\n      <td>1</td>\n      <td>0</td>\n    </tr>\n    <tr>\n      <th>1</th>\n      <td>457</td>\n      <td>2</td>\n      <td>0</td>\n    </tr>\n    <tr>\n      <th>2</th>\n      <td>457</td>\n      <td>3</td>\n      <td>0</td>\n    </tr>\n    <tr>\n      <th>3</th>\n      <td>457</td>\n      <td>4</td>\n      <td>0</td>\n    </tr>\n    <tr>\n      <th>4</th>\n      <td>457</td>\n      <td>5</td>\n      <td>0</td>\n    </tr>\n  </tbody>\n</table>\n</div>"
     },
     "execution_count": 24,
     "metadata": {},
     "output_type": "execute_result"
    }
   ],
   "source": [
    "df_cm_actuals = pd.read_parquet(\"/Users/zakotianskyi/PycharmProjects/prediction_competition_2023/actuals/cm/window=Y2018/cm_actuals_2018.parquet\")\n",
    "df_cm_actuals.head(), df_cm_actuals.tail()\n",
    "df_cm_actuals['ged_sb'] = df_cm_actuals['ged_sb'].astype('int32')\n",
    "df_cm_actuals.rename(columns={\"ged_sb\": \"outcome\"}, errors=\"raise\", inplace=True)\n",
    "# Summarize:\n",
    "# df_cm_actuals.dtypes\n",
    "df_cm_actuals.head()"
   ],
   "metadata": {
    "collapsed": false,
    "ExecuteTime": {
     "end_time": "2024-03-16T22:41:28.176976Z",
     "start_time": "2024-03-16T22:41:28.113698Z"
    }
   },
   "id": "c62040a1aabc1b8c"
  },
  {
   "cell_type": "code",
   "execution_count": 15,
   "outputs": [
    {
     "data": {
      "text/plain": "          month_id   country_id      outcome\ncount  2292.000000  2292.000000  2292.000000\nmean    462.500000   108.675393    24.078098\nstd       3.452806    66.205421   188.941513\nmin     457.000000     1.000000     0.000000\n25%     459.750000    50.000000     0.000000\n50%     462.500000   109.000000     0.000000\n75%     465.250000   158.000000     0.000000\n90%     467.000000   205.000000    10.000000\n95%     468.000000   232.000000    52.000000\n99%     468.000000   245.000000   468.950000\n99.2%   468.000000   245.000000   877.312000\n99.5%   468.000000   245.545000  1714.985000\nmax     468.000000   246.000000  2964.000000",
      "text/html": "<div>\n<style scoped>\n    .dataframe tbody tr th:only-of-type {\n        vertical-align: middle;\n    }\n\n    .dataframe tbody tr th {\n        vertical-align: top;\n    }\n\n    .dataframe thead th {\n        text-align: right;\n    }\n</style>\n<table border=\"1\" class=\"dataframe\">\n  <thead>\n    <tr style=\"text-align: right;\">\n      <th></th>\n      <th>month_id</th>\n      <th>country_id</th>\n      <th>outcome</th>\n    </tr>\n  </thead>\n  <tbody>\n    <tr>\n      <th>count</th>\n      <td>2292.000000</td>\n      <td>2292.000000</td>\n      <td>2292.000000</td>\n    </tr>\n    <tr>\n      <th>mean</th>\n      <td>462.500000</td>\n      <td>108.675393</td>\n      <td>24.078098</td>\n    </tr>\n    <tr>\n      <th>std</th>\n      <td>3.452806</td>\n      <td>66.205421</td>\n      <td>188.941513</td>\n    </tr>\n    <tr>\n      <th>min</th>\n      <td>457.000000</td>\n      <td>1.000000</td>\n      <td>0.000000</td>\n    </tr>\n    <tr>\n      <th>25%</th>\n      <td>459.750000</td>\n      <td>50.000000</td>\n      <td>0.000000</td>\n    </tr>\n    <tr>\n      <th>50%</th>\n      <td>462.500000</td>\n      <td>109.000000</td>\n      <td>0.000000</td>\n    </tr>\n    <tr>\n      <th>75%</th>\n      <td>465.250000</td>\n      <td>158.000000</td>\n      <td>0.000000</td>\n    </tr>\n    <tr>\n      <th>90%</th>\n      <td>467.000000</td>\n      <td>205.000000</td>\n      <td>10.000000</td>\n    </tr>\n    <tr>\n      <th>95%</th>\n      <td>468.000000</td>\n      <td>232.000000</td>\n      <td>52.000000</td>\n    </tr>\n    <tr>\n      <th>99%</th>\n      <td>468.000000</td>\n      <td>245.000000</td>\n      <td>468.950000</td>\n    </tr>\n    <tr>\n      <th>99.2%</th>\n      <td>468.000000</td>\n      <td>245.000000</td>\n      <td>877.312000</td>\n    </tr>\n    <tr>\n      <th>99.5%</th>\n      <td>468.000000</td>\n      <td>245.545000</td>\n      <td>1714.985000</td>\n    </tr>\n    <tr>\n      <th>max</th>\n      <td>468.000000</td>\n      <td>246.000000</td>\n      <td>2964.000000</td>\n    </tr>\n  </tbody>\n</table>\n</div>"
     },
     "execution_count": 15,
     "metadata": {},
     "output_type": "execute_result"
    }
   ],
   "source": [
    "df_cm_actuals.describe(percentiles=[.25,.50,.75,.90,.95,.99,.992,.995])"
   ],
   "metadata": {
    "collapsed": false,
    "ExecuteTime": {
     "end_time": "2024-03-16T22:26:06.283025Z",
     "start_time": "2024-03-16T22:26:06.246842Z"
    }
   },
   "id": "3dcb8f26abf0cf5c"
  },
  {
   "cell_type": "code",
   "execution_count": 16,
   "outputs": [
    {
     "data": {
      "text/plain": "   id                 name  gwcode              isoname isoab  isonum  \\\n0   1               Guyana     110               Guyana   GUY     328   \n1   2             Suriname     115             Suriname   SUR     740   \n2   3  Trinidad and Tobago      52  Trinidad and Tobago   TTO     780   \n3   4            Venezuela     101            Venezuela   VEN     862   \n4   5                Samoa     990                Samoa   WSM     882   \n\n   in_africa  in_middle_east  \n0          0               0  \n1          0               0  \n2          0               0  \n3          0               0  \n4          0               0  ",
      "text/html": "<div>\n<style scoped>\n    .dataframe tbody tr th:only-of-type {\n        vertical-align: middle;\n    }\n\n    .dataframe tbody tr th {\n        vertical-align: top;\n    }\n\n    .dataframe thead th {\n        text-align: right;\n    }\n</style>\n<table border=\"1\" class=\"dataframe\">\n  <thead>\n    <tr style=\"text-align: right;\">\n      <th></th>\n      <th>id</th>\n      <th>name</th>\n      <th>gwcode</th>\n      <th>isoname</th>\n      <th>isoab</th>\n      <th>isonum</th>\n      <th>in_africa</th>\n      <th>in_middle_east</th>\n    </tr>\n  </thead>\n  <tbody>\n    <tr>\n      <th>0</th>\n      <td>1</td>\n      <td>Guyana</td>\n      <td>110</td>\n      <td>Guyana</td>\n      <td>GUY</td>\n      <td>328</td>\n      <td>0</td>\n      <td>0</td>\n    </tr>\n    <tr>\n      <th>1</th>\n      <td>2</td>\n      <td>Suriname</td>\n      <td>115</td>\n      <td>Suriname</td>\n      <td>SUR</td>\n      <td>740</td>\n      <td>0</td>\n      <td>0</td>\n    </tr>\n    <tr>\n      <th>2</th>\n      <td>3</td>\n      <td>Trinidad and Tobago</td>\n      <td>52</td>\n      <td>Trinidad and Tobago</td>\n      <td>TTO</td>\n      <td>780</td>\n      <td>0</td>\n      <td>0</td>\n    </tr>\n    <tr>\n      <th>3</th>\n      <td>4</td>\n      <td>Venezuela</td>\n      <td>101</td>\n      <td>Venezuela</td>\n      <td>VEN</td>\n      <td>862</td>\n      <td>0</td>\n      <td>0</td>\n    </tr>\n    <tr>\n      <th>4</th>\n      <td>5</td>\n      <td>Samoa</td>\n      <td>990</td>\n      <td>Samoa</td>\n      <td>WSM</td>\n      <td>882</td>\n      <td>0</td>\n      <td>0</td>\n    </tr>\n  </tbody>\n</table>\n</div>"
     },
     "execution_count": 16,
     "metadata": {},
     "output_type": "execute_result"
    }
   ],
   "source": [
    "# from viewser import Queryset, Column\n",
    "# # read in country list with country names for presentation purposes\n",
    "# qs = (Queryset(\"country_list\", \"country_month\")\n",
    "# \n",
    "#    .with_column(Column(\"id\", from_table=\"country\", from_column=\"id\"))\n",
    "#    .with_column(Column(\"name\", from_table=\"country\", from_column=\"name\"))\n",
    "#               \n",
    "#    )\n",
    "# countrylist = qs.publish().fetch().loc[504]\n",
    "# Read translation table matching_table.csv\n",
    "df_matching_table = pd.read_csv(\"/Users/zakotianskyi/PycharmProjects/prediction_competition_2023/matching_table.csv\")\n",
    "df_matching_table.head()"
   ],
   "metadata": {
    "collapsed": false,
    "ExecuteTime": {
     "end_time": "2024-03-16T22:35:55.365303Z",
     "start_time": "2024-03-16T22:35:55.292482Z"
    }
   },
   "id": "97ab9180b0105e10"
  },
  {
   "cell_type": "code",
   "execution_count": 30,
   "outputs": [
    {
     "data": {
      "text/plain": "id\n1                   Guyana\n2                 Suriname\n3      Trinidad and Tobago\n4                Venezuela\n5                    Samoa\n              ...         \n251                   USSR\n252                   USSR\n253                   USSR\n254                   USSR\n255                   USSR\nName: name, Length: 220, dtype: object"
     },
     "execution_count": 30,
     "metadata": {},
     "output_type": "execute_result"
    }
   ],
   "source": [
    "# add one column of only country names from df_matching_table to the actuals dataframe\n",
    "# do not merge 2 dataframes, just add a column\n",
    "# df_cm_actuals['country_id'].map(df_matching_table['id']['name'])\n",
    "country_names = df_matching_table.set_index('id')['name']\n",
    "country_names"
   ],
   "metadata": {
    "collapsed": false,
    "ExecuteTime": {
     "end_time": "2024-03-16T22:46:37.064652Z",
     "start_time": "2024-03-16T22:46:37.025374Z"
    }
   },
   "id": "7b493eff758e446e"
  },
  {
   "cell_type": "code",
   "execution_count": 32,
   "outputs": [
    {
     "data": {
      "text/plain": "   month_id  country_id  outcome         country_name\n0       457           1        0               Guyana\n1       457           2        0             Suriname\n2       457           3        0  Trinidad and Tobago\n3       457           4        0            Venezuela\n4       457           5        0                Samoa",
      "text/html": "<div>\n<style scoped>\n    .dataframe tbody tr th:only-of-type {\n        vertical-align: middle;\n    }\n\n    .dataframe tbody tr th {\n        vertical-align: top;\n    }\n\n    .dataframe thead th {\n        text-align: right;\n    }\n</style>\n<table border=\"1\" class=\"dataframe\">\n  <thead>\n    <tr style=\"text-align: right;\">\n      <th></th>\n      <th>month_id</th>\n      <th>country_id</th>\n      <th>outcome</th>\n      <th>country_name</th>\n    </tr>\n  </thead>\n  <tbody>\n    <tr>\n      <th>0</th>\n      <td>457</td>\n      <td>1</td>\n      <td>0</td>\n      <td>Guyana</td>\n    </tr>\n    <tr>\n      <th>1</th>\n      <td>457</td>\n      <td>2</td>\n      <td>0</td>\n      <td>Suriname</td>\n    </tr>\n    <tr>\n      <th>2</th>\n      <td>457</td>\n      <td>3</td>\n      <td>0</td>\n      <td>Trinidad and Tobago</td>\n    </tr>\n    <tr>\n      <th>3</th>\n      <td>457</td>\n      <td>4</td>\n      <td>0</td>\n      <td>Venezuela</td>\n    </tr>\n    <tr>\n      <th>4</th>\n      <td>457</td>\n      <td>5</td>\n      <td>0</td>\n      <td>Samoa</td>\n    </tr>\n  </tbody>\n</table>\n</div>"
     },
     "execution_count": 32,
     "metadata": {},
     "output_type": "execute_result"
    }
   ],
   "source": [
    "df_cm_actuals['country_name'] = df_cm_actuals['country_id'].map(country_names)\n",
    "df_cm_actuals.head()"
   ],
   "metadata": {
    "collapsed": false,
    "ExecuteTime": {
     "end_time": "2024-03-16T22:47:03.371352Z",
     "start_time": "2024-03-16T22:47:03.344254Z"
    }
   },
   "id": "ad5f884c601cbc6b"
  }
 ],
 "metadata": {
  "kernelspec": {
   "display_name": "Python 3",
   "language": "python",
   "name": "python3"
  },
  "language_info": {
   "codemirror_mode": {
    "name": "ipython",
    "version": 2
   },
   "file_extension": ".py",
   "mimetype": "text/x-python",
   "name": "python",
   "nbconvert_exporter": "python",
   "pygments_lexer": "ipython2",
   "version": "2.7.6"
  }
 },
 "nbformat": 4,
 "nbformat_minor": 5
}
