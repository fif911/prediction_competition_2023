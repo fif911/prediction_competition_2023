{
 "cells": [
  {
   "cell_type": "markdown",
   "id": "c511334f",
   "metadata": {},
   "source": [
    "# Benchmark models"
   ]
  },
  {
   "cell_type": "code",
   "execution_count": null,
   "id": "bf431c5c",
   "metadata": {},
   "outputs": [],
   "source": [
    "\n",
    "# Imports\n",
    "## Basics\n",
    "import numpy as np\n",
    "import pandas as pd\n",
    "import matplotlib.pyplot as plt\n",
    "import matplotlib.cbook as cbook\n",
    "import os\n",
    "from functools import partial\n",
    "\n",
    "## Views 3\n",
    "import views_runs\n",
    "from viewser.operations import fetch\n",
    "from views_forecasts.extensions import *\n",
    "from viewser import Queryset, Column\n",
    "\n"
   ]
  },
  {
   "cell_type": "code",
   "execution_count": null,
   "id": "26205917",
   "metadata": {},
   "outputs": [],
   "source": [
    "\n",
    "# Common parameters:\n",
    "\n",
    "dev_id = 'Fatalities002'\n",
    "run_id = 'Fatalities002'\n",
    "EndOfHistory = 508\n",
    "get_future = False\n",
    "\n",
    "username = os.getlogin()\n",
    "\n",
    "steps = [*range(1, 36+1, 1)] # Which steps to train and predict for\n",
    "\n",
    "fi_steps = [1,3,6,12,36]\n",
    "# Specifying partitions\n",
    "\n",
    "calib_partitioner_dict = {\"train\":(121,396),\"predict\":(397,456)}\n",
    "test_partitioner_dict = {\"train\":(121,444),\"predict\":(457,504)}\n",
    "future_partitioner_dict = {\"train\":(121,492),\"predict\":(505,512)}\n",
    "calib_partitioner =  views_runs.DataPartitioner({\"calib\":calib_partitioner_dict})\n",
    "test_partitioner =  views_runs.DataPartitioner({\"test\":test_partitioner_dict})\n",
    "future_partitioner =  views_runs.DataPartitioner({\"future\":future_partitioner_dict})\n",
    "\n",
    "Mydropbox = f'/Users/{username}/Dropbox (ViEWS)/ViEWS/'\n",
    "overleafpath = f'/Users/{username}/Dropbox (ViEWS)/Apps/Overleaf/Prediction competition 2023/'\n",
    "\n",
    "\n",
    "print('Dropbox path set to',Mydropbox)\n",
    "print('Overleaf path set to',overleafpath)\n",
    "\n",
    "# Benchmark model parameters\n",
    "filepath = Mydropbox + 'Prediction_competition_2023/'\n",
    "\n",
    "year_list = [2018, 2019, 2020, 2021]\n",
    "draws_cm = 1000\n",
    "draws_pgm = 100\n",
    "\n",
    "steps = [3,4,5,6,7,8,9,10,11,12,13,14]\n",
    "stepcols = ['ln_ged_sb_dep']\n",
    "for step in steps:\n",
    "    stepcols.append('step_pred_' + str(step))\n",
    "print(stepcols)\n",
    "\n"
   ]
  },
  {
   "cell_type": "code",
   "execution_count": null,
   "id": "a35d65c8",
   "metadata": {},
   "outputs": [],
   "source": [
    "from BenchmarkModels import poisson_expand_single_point_predictions, describe_expanded\n",
    "from BenchmarkModels import poisson_expand_multiple_point_predictions, save_models, save_actuals"
   ]
  },
  {
   "cell_type": "markdown",
   "id": "3efa5662",
   "metadata": {},
   "source": [
    "# cm models\n",
    "## Ensemble model predictions"
   ]
  },
  {
   "cell_type": "code",
   "execution_count": null,
   "id": "596740be",
   "metadata": {},
   "outputs": [],
   "source": [
    "# Expand ensemble predictions:\n",
    "ensemble_df = pd.DataFrame.forecasts.read_store('cm_ensemble_genetic_test', run=dev_id)[stepcols]\n",
    "ensemble_df.head()\n",
    "\n",
    "\n",
    "sc_predictions_ensemble =  poisson_expand_single_point_predictions(ensemble_df=ensemble_df,level='cm',year_list=year_list,draws=1000)\n",
    "\n",
    "describe_expanded(df=sc_predictions_ensemble[0]['prediction_df'], df_expanded=sc_predictions_ensemble[0]['expanded_df'], month=457, country=57)   \n",
    "sc_predictions_ensemble[0]['expanded_df'].head()"
   ]
  },
  {
   "cell_type": "markdown",
   "id": "42c9744c",
   "metadata": {},
   "source": [
    "# Last historical values"
   ]
  },
  {
   "cell_type": "code",
   "execution_count": null,
   "id": "a860a10e",
   "metadata": {},
   "outputs": [],
   "source": [
    "qs = (Queryset(\"benchmark_cm\", \"country_month\")\n",
    "\n",
    "   # target variable\n",
    "   .with_column(Column(\"ged_sb\", from_table=\"ged2_cm\", from_column=\"ged_sb_best_sum_nokgi\")\n",
    "                .transform.missing.fill()\n",
    "                .transform.missing.replace_na()\n",
    "                )\n",
    "\n",
    "\n",
    "   .with_theme(\"benchmark\")\n",
    "   .describe(\"\"\"Data for empirical benchmark model, cm level\n",
    "\n",
    "            \"\"\")\n",
    "   )\n",
    "df_cm_historical_values = qs.publish().fetch()\n",
    "df_cm_historical_values['prediction'] = np.nan\n",
    "\n",
    "for year in year_list:\n",
    "    for month in range(1,12+1):\n",
    "        this_month = ((year-1980)*12)+month\n",
    "        last_month_with_data = ((year-1980)*12)-2\n",
    "        this_shift = this_month - last_month_with_data\n",
    "#        print(year,month,last_month_with_data, this_shift)\n",
    "        \n",
    "        df_cm_historical_values['prediction'].loc[this_month] = df_cm_historical_values.groupby(['country_id'])['ged_sb'].shift(this_shift)\n",
    "\n",
    "df_cm_historical_values = df_cm_historical_values.loc[454:504]"
   ]
  },
  {
   "cell_type": "code",
   "execution_count": null,
   "id": "2030af7b",
   "metadata": {},
   "outputs": [],
   "source": [
    "\n",
    "sc_predictions_last_historical =  poisson_expand_single_point_predictions(ensemble_df=df_cm_historical_values,level='cm',year_list=year_list,draws=1000)\n",
    "\n",
    "describe_expanded(df=sc_predictions_last_historical[0]['prediction_df'], df_expanded=sc_predictions_last_historical[0]['expanded_df'], month=457, country=57)   \n",
    "sc_predictions_last_historical[0]['expanded_df'].head()"
   ]
  },
  {
   "cell_type": "markdown",
   "id": "beeb5039",
   "metadata": {},
   "source": [
    "## Constituent model predictions"
   ]
  },
  {
   "cell_type": "code",
   "execution_count": null,
   "id": "5f27d856",
   "metadata": {},
   "outputs": [],
   "source": [
    "# Retrieve the model predictions\n",
    "# Using code from the VIEWS fatalities002 system\n",
    "\n",
    "# 20 models: 1 \"draw\" from each of 20 constituent models, expanded with 50 draws from Poisson distribution for each model.\n",
    "\n",
    "from ModelDefinitions import DefineEnsembleModels\n",
    "\n",
    "level = 'cm'\n",
    "ModelList_cm = DefineEnsembleModels(level)\n",
    "ModelList_cm = ModelList_cm[0:20] # Drop Markov models\n",
    "#ModelList_cm = ModelList_cm[0:3] # For debugging\n",
    "\n",
    "i = 0\n",
    "for model in ModelList_cm:\n",
    "    print(i, model['modelname'], model['data_train'])\n",
    "    i = i + 1\n",
    "\n",
    "# Retrieving the predictions for calibration and test partitions\n",
    "# The ModelList contains the predictions organized by model\n",
    "from Ensembling import CalibratePredictions, RetrieveStoredPredictions, mean_sd_calibrated, gam_calibrated\n",
    "\n",
    "ModelList_cm = RetrieveStoredPredictions(ModelList_cm, steps, EndOfHistory, dev_id, level, get_future)\n",
    "\n",
    "ModelList_cm = CalibratePredictions(ModelList_cm, EndOfHistory, steps)"
   ]
  },
  {
   "cell_type": "code",
   "execution_count": null,
   "id": "120f9da4",
   "metadata": {},
   "outputs": [],
   "source": [
    "sc_predictions_constituent =  poisson_expand_multiple_point_predictions(ModelList=ModelList_cm,level='cm',year_list=year_list,draws=1000)\n"
   ]
  },
  {
   "cell_type": "code",
   "execution_count": null,
   "id": "803ed1a3",
   "metadata": {},
   "outputs": [],
   "source": [
    "sc_predictions_constituent[0]['expanded_df'].tail()"
   ]
  },
  {
   "cell_type": "markdown",
   "id": "9cdd94ba",
   "metadata": {},
   "source": [
    "# Saving the cm benchmark models"
   ]
  },
  {
   "cell_type": "code",
   "execution_count": null,
   "id": "3d18ad9f",
   "metadata": {},
   "outputs": [],
   "source": [
    "model_names = ['ensemble','constituent']\n",
    "model_list = [sc_predictions_ensemble,sc_predictions_constituent]\n",
    "\n",
    "save_models('cm',model_names,model_list, filepath)\n",
    "save_actuals('cm',ensemble_df, filepath, year_list)"
   ]
  },
  {
   "cell_type": "markdown",
   "id": "e96fc279",
   "metadata": {},
   "source": [
    "# pgm level"
   ]
  },
  {
   "cell_type": "code",
   "execution_count": null,
   "id": "e39ef3d5",
   "metadata": {},
   "outputs": [],
   "source": [
    "# Expand ensemble predictions:\n",
    "ensemble_df = pd.DataFrame.forecasts.read_store('pgm_ensemble_cm_calib_test', run=dev_id)[stepcols]\n",
    "ensemble_df.head()\n",
    "\n",
    "\n",
    "sc_predictions_ensemble_pgm = poisson_expand_single_point_predictions(ensemble_df=ensemble_df,year_list=year_list,draws=100,level='pgm')\n",
    "\n",
    "sc_predictions_ensemble_pgm[0]['expanded_df'].head()\n",
    "\n"
   ]
  },
  {
   "cell_type": "code",
   "execution_count": null,
   "id": "868f537c",
   "metadata": {},
   "outputs": [],
   "source": [
    "# Saving \n",
    "model_names = ['ensemble','constituent']\n",
    "model_list = [sc_predictions_ensemble_pgm]\n",
    "\n",
    "save_models('pgm',model_names,model_list, filepath)\n",
    "#save_cm_actuals(ensemble_df, filepath, year_list)\n",
    "\n",
    "\n"
   ]
  },
  {
   "cell_type": "code",
   "execution_count": null,
   "id": "8cbb3b52",
   "metadata": {},
   "outputs": [],
   "source": []
  }
 ],
 "metadata": {
  "kernelspec": {
   "display_name": "Python 3 (ipykernel)",
   "language": "python",
   "name": "python3"
  },
  "language_info": {
   "codemirror_mode": {
    "name": "ipython",
    "version": 3
   },
   "file_extension": ".py",
   "mimetype": "text/x-python",
   "name": "python",
   "nbconvert_exporter": "python",
   "pygments_lexer": "ipython3",
   "version": "3.9.16"
  }
 },
 "nbformat": 4,
 "nbformat_minor": 5
}
