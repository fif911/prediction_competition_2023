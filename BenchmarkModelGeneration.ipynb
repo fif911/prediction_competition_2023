{
 "cells": [
  {
   "cell_type": "markdown",
   "id": "c511334f",
   "metadata": {},
   "source": [
    "# Benchmark models"
   ]
  },
  {
   "cell_type": "code",
   "execution_count": 7,
   "id": "bf431c5c",
   "metadata": {},
   "outputs": [],
   "source": [
    "\n",
    "# Imports\n",
    "## Basics\n",
    "import numpy as np\n",
    "import pandas as pd\n",
    "import matplotlib.pyplot as plt\n",
    "import matplotlib.cbook as cbook\n",
    "import os\n",
    "from functools import partial\n",
    "\n",
    "## Views 3\n",
    "import views_runs\n",
    "from viewser.operations import fetch\n",
    "from views_forecasts.extensions import *\n",
    "from viewser import Queryset, Column\n",
    "\n"
   ]
  },
  {
   "cell_type": "code",
   "execution_count": 8,
   "id": "26205917",
   "metadata": {},
   "outputs": [
    {
     "name": "stdout",
     "output_type": "stream",
     "text": [
      "Dropbox path set to /Users/jim/Dropbox (ViEWS)/ViEWS/\n",
      "Overleaf path set to /Users/jim/Dropbox (ViEWS)/Apps/Overleaf/Prediction competition 2023/\n",
      "['ln_ged_sb_dep', 'step_pred_3', 'step_pred_4', 'step_pred_5', 'step_pred_6', 'step_pred_7', 'step_pred_8', 'step_pred_9', 'step_pred_10', 'step_pred_11', 'step_pred_12', 'step_pred_13', 'step_pred_14']\n"
     ]
    }
   ],
   "source": [
    "\n",
    "# Common parameters:\n",
    "\n",
    "dev_id = 'Fatalities002'\n",
    "run_id = 'Fatalities002'\n",
    "EndOfHistory = 508\n",
    "get_future = False\n",
    "\n",
    "username = os.getlogin()\n",
    "\n",
    "steps = [*range(1, 36+1, 1)] # Which steps to train and predict for\n",
    "\n",
    "fi_steps = [1,3,6,12,36]\n",
    "# Specifying partitions\n",
    "\n",
    "calib_partitioner_dict = {\"train\":(121,396),\"predict\":(397,456)}\n",
    "test_partitioner_dict = {\"train\":(121,444),\"predict\":(457,504)}\n",
    "future_partitioner_dict = {\"train\":(121,492),\"predict\":(505,512)}\n",
    "calib_partitioner =  views_runs.DataPartitioner({\"calib\":calib_partitioner_dict})\n",
    "test_partitioner =  views_runs.DataPartitioner({\"test\":test_partitioner_dict})\n",
    "future_partitioner =  views_runs.DataPartitioner({\"future\":future_partitioner_dict})\n",
    "\n",
    "Mydropbox = f'/Users/{username}/Dropbox (ViEWS)/ViEWS/'\n",
    "overleafpath = f'/Users/{username}/Dropbox (ViEWS)/Apps/Overleaf/Prediction competition 2023/'\n",
    "\n",
    "\n",
    "print('Dropbox path set to',Mydropbox)\n",
    "print('Overleaf path set to',overleafpath)\n",
    "\n",
    "# Benchmark model parameters\n",
    "filepath = Mydropbox + 'Prediction_competition_2023/'\n",
    "\n",
    "year_list = [2018, 2019, 2020, 2021]\n",
    "draws_cm = 1000\n",
    "draws_pgm = 100\n",
    "\n",
    "steps = [3,4,5,6,7,8,9,10,11,12,13,14]\n",
    "stepcols = ['ln_ged_sb_dep']\n",
    "for step in steps:\n",
    "    stepcols.append('step_pred_' + str(step))\n",
    "print(stepcols)\n",
    "\n"
   ]
  },
  {
   "cell_type": "code",
   "execution_count": 9,
   "id": "a35d65c8",
   "metadata": {},
   "outputs": [],
   "source": [
    "from BenchmarkModels import poisson_expand_single_point_predictions, describe_expanded\n",
    "from BenchmarkModels import poisson_expand_multiple_point_predictions, save_models, save_actuals\n",
    "from BenchmarkModels import bootstrap_expand_single_point_predictions"
   ]
  },
  {
   "cell_type": "markdown",
   "id": "3efa5662",
   "metadata": {},
   "source": [
    "# cm models\n",
    "## Ensemble model predictions"
   ]
  },
  {
   "cell_type": "code",
   "execution_count": 10,
   "id": "596740be",
   "metadata": {},
   "outputs": [
    {
     "name": "stdout",
     "output_type": "stream",
     "text": [
      "pr_46_cm_ensemble_genetic_test.parquet\n"
     ]
    },
    {
     "name": "stderr",
     "output_type": "stream",
     "text": [
      "/Users/jim/Work/ViEWS/ViEWS3/prediction_competition_2023/BenchmarkModels.py:38: SettingWithCopyWarning: \n",
      "A value is trying to be set on a copy of a slice from a DataFrame.\n",
      "Try using .loc[row_indexer,col_indexer] = value instead\n",
      "\n",
      "See the caveats in the documentation: https://pandas.pydata.org/pandas-docs/stable/user_guide/indexing.html#returning-a-view-versus-a-copy\n",
      "  df_temp['prediction'] = np.expm1(df_temp[this_col].values)\n",
      "/Users/jim/Work/ViEWS/ViEWS3/prediction_competition_2023/BenchmarkModels.py:39: SettingWithCopyWarning: \n",
      "A value is trying to be set on a copy of a slice from a DataFrame\n",
      "\n",
      "See the caveats in the documentation: https://pandas.pydata.org/pandas-docs/stable/user_guide/indexing.html#returning-a-view-versus-a-copy\n",
      "  df['prediction'].loc[this_month] = df_temp['prediction'].values\n",
      "/Users/jim/Work/ViEWS/ViEWS3/prediction_competition_2023/BenchmarkModels.py:38: SettingWithCopyWarning: \n",
      "A value is trying to be set on a copy of a slice from a DataFrame.\n",
      "Try using .loc[row_indexer,col_indexer] = value instead\n",
      "\n",
      "See the caveats in the documentation: https://pandas.pydata.org/pandas-docs/stable/user_guide/indexing.html#returning-a-view-versus-a-copy\n",
      "  df_temp['prediction'] = np.expm1(df_temp[this_col].values)\n",
      "/Users/jim/Work/ViEWS/ViEWS3/prediction_competition_2023/BenchmarkModels.py:39: SettingWithCopyWarning: \n",
      "A value is trying to be set on a copy of a slice from a DataFrame\n",
      "\n",
      "See the caveats in the documentation: https://pandas.pydata.org/pandas-docs/stable/user_guide/indexing.html#returning-a-view-versus-a-copy\n",
      "  df['prediction'].loc[this_month] = df_temp['prediction'].values\n",
      "/Users/jim/Work/ViEWS/ViEWS3/prediction_competition_2023/BenchmarkModels.py:38: SettingWithCopyWarning: \n",
      "A value is trying to be set on a copy of a slice from a DataFrame.\n",
      "Try using .loc[row_indexer,col_indexer] = value instead\n",
      "\n",
      "See the caveats in the documentation: https://pandas.pydata.org/pandas-docs/stable/user_guide/indexing.html#returning-a-view-versus-a-copy\n",
      "  df_temp['prediction'] = np.expm1(df_temp[this_col].values)\n",
      "/Users/jim/Work/ViEWS/ViEWS3/prediction_competition_2023/BenchmarkModels.py:39: SettingWithCopyWarning: \n",
      "A value is trying to be set on a copy of a slice from a DataFrame\n",
      "\n",
      "See the caveats in the documentation: https://pandas.pydata.org/pandas-docs/stable/user_guide/indexing.html#returning-a-view-versus-a-copy\n",
      "  df['prediction'].loc[this_month] = df_temp['prediction'].values\n",
      "/Users/jim/Work/ViEWS/ViEWS3/prediction_competition_2023/BenchmarkModels.py:38: SettingWithCopyWarning: \n",
      "A value is trying to be set on a copy of a slice from a DataFrame.\n",
      "Try using .loc[row_indexer,col_indexer] = value instead\n",
      "\n",
      "See the caveats in the documentation: https://pandas.pydata.org/pandas-docs/stable/user_guide/indexing.html#returning-a-view-versus-a-copy\n",
      "  df_temp['prediction'] = np.expm1(df_temp[this_col].values)\n",
      "/Users/jim/Work/ViEWS/ViEWS3/prediction_competition_2023/BenchmarkModels.py:39: SettingWithCopyWarning: \n",
      "A value is trying to be set on a copy of a slice from a DataFrame\n",
      "\n",
      "See the caveats in the documentation: https://pandas.pydata.org/pandas-docs/stable/user_guide/indexing.html#returning-a-view-versus-a-copy\n",
      "  df['prediction'].loc[this_month] = df_temp['prediction'].values\n"
     ]
    },
    {
     "name": "stdout",
     "output_type": "stream",
     "text": [
      "2018\n",
      "2019\n",
      "2020\n",
      "2021\n",
      "Mean and std of original predictions, all rows:\n",
      "        prediction\n",
      "count  2292.000000\n",
      "mean     46.288810\n",
      "std     334.649615\n",
      "min       0.000000\n",
      "25%       0.017667\n",
      "50%       0.037432\n",
      "75%       0.190760\n",
      "max    6384.809995\n",
      "Mean and std of expanded predictions, all rows:\n",
      "        outcome\n",
      "count   2292000\n",
      "unique     4192\n",
      "top           0\n",
      "freq    1764057\n",
      "Mean and std of original predictions, one cm:\n",
      "count     2.00000\n",
      "unique    2.00000\n",
      "top       1.05692\n",
      "freq      1.00000\n",
      "Name: (457, 57), dtype: float64\n",
      "Mean and std of expanded predictions, one cm:\n",
      "        outcome\n",
      "count      1000\n",
      "unique        7\n",
      "top           1\n",
      "freq        376\n",
      "Variance: outcome    1.056657\n",
      "dtype: float64\n"
     ]
    },
    {
     "data": {
      "text/html": [
       "<div>\n",
       "<style scoped>\n",
       "    .dataframe tbody tr th:only-of-type {\n",
       "        vertical-align: middle;\n",
       "    }\n",
       "\n",
       "    .dataframe tbody tr th {\n",
       "        vertical-align: top;\n",
       "    }\n",
       "\n",
       "    .dataframe thead th {\n",
       "        text-align: right;\n",
       "    }\n",
       "</style>\n",
       "<table border=\"1\" class=\"dataframe\">\n",
       "  <thead>\n",
       "    <tr style=\"text-align: right;\">\n",
       "      <th></th>\n",
       "      <th></th>\n",
       "      <th></th>\n",
       "      <th>outcome</th>\n",
       "    </tr>\n",
       "    <tr>\n",
       "      <th>month_id</th>\n",
       "      <th>country_id</th>\n",
       "      <th>draw</th>\n",
       "      <th></th>\n",
       "    </tr>\n",
       "  </thead>\n",
       "  <tbody>\n",
       "    <tr>\n",
       "      <th rowspan=\"5\" valign=\"top\">457</th>\n",
       "      <th rowspan=\"5\" valign=\"top\">1</th>\n",
       "      <th>0</th>\n",
       "      <td>0</td>\n",
       "    </tr>\n",
       "    <tr>\n",
       "      <th>1</th>\n",
       "      <td>0</td>\n",
       "    </tr>\n",
       "    <tr>\n",
       "      <th>2</th>\n",
       "      <td>0</td>\n",
       "    </tr>\n",
       "    <tr>\n",
       "      <th>3</th>\n",
       "      <td>0</td>\n",
       "    </tr>\n",
       "    <tr>\n",
       "      <th>4</th>\n",
       "      <td>0</td>\n",
       "    </tr>\n",
       "  </tbody>\n",
       "</table>\n",
       "</div>"
      ],
      "text/plain": [
       "                         outcome\n",
       "month_id country_id draw        \n",
       "457      1          0          0\n",
       "                    1          0\n",
       "                    2          0\n",
       "                    3          0\n",
       "                    4          0"
      ]
     },
     "execution_count": 10,
     "metadata": {},
     "output_type": "execute_result"
    }
   ],
   "source": [
    "# Expand ensemble predictions:\n",
    "ensemble_df = pd.DataFrame.forecasts.read_store('cm_ensemble_genetic_test', run=dev_id)[stepcols]\n",
    "ensemble_df.head()\n",
    "\n",
    "\n",
    "sc_predictions_ensemble =  poisson_expand_single_point_predictions(ensemble_df=ensemble_df,level='cm',year_list=year_list,draws=1000)\n",
    "\n",
    "describe_expanded(df=sc_predictions_ensemble[0]['prediction_df'], df_expanded=sc_predictions_ensemble[0]['expanded_df'], month=457, country=57)   \n",
    "sc_predictions_ensemble[0]['expanded_df'].head()"
   ]
  },
  {
   "cell_type": "markdown",
   "id": "7e8308e5",
   "metadata": {},
   "source": [
    "# Bootstrapped actuals"
   ]
  },
  {
   "cell_type": "code",
   "execution_count": 16,
   "id": "a9377674",
   "metadata": {},
   "outputs": [
    {
     "name": "stdout",
     "output_type": "stream",
     "text": [
      "2018\n",
      "2019\n",
      "2020\n",
      "2021\n",
      "Mean and std of original predictions, all rows:\n",
      "       ln_ged_sb_dep\n",
      "count    2292.000000\n",
      "mean       24.078098\n",
      "std       188.941513\n",
      "min         0.000000\n",
      "25%         0.000000\n",
      "50%         0.000000\n",
      "75%         0.000000\n",
      "max      2964.000000\n",
      "Mean and std of expanded predictions, all rows:\n",
      "          outcome\n",
      "count   2292000.0\n",
      "unique      136.0\n",
      "top           0.0\n",
      "freq    1937410.0\n",
      "Mean and std of original predictions, one cm:\n",
      "count     2.0\n",
      "unique    2.0\n",
      "top       0.0\n",
      "freq      1.0\n",
      "Name: (457, 57), dtype: float64\n",
      "Mean and std of expanded predictions, one cm:\n",
      "        outcome\n",
      "count    1000.0\n",
      "unique     72.0\n",
      "top         0.0\n",
      "freq      828.0\n",
      "Variance: outcome    43652.126445\n",
      "dtype: float64\n"
     ]
    },
    {
     "data": {
      "text/html": [
       "<div>\n",
       "<style scoped>\n",
       "    .dataframe tbody tr th:only-of-type {\n",
       "        vertical-align: middle;\n",
       "    }\n",
       "\n",
       "    .dataframe tbody tr th {\n",
       "        vertical-align: top;\n",
       "    }\n",
       "\n",
       "    .dataframe thead th {\n",
       "        text-align: right;\n",
       "    }\n",
       "</style>\n",
       "<table border=\"1\" class=\"dataframe\">\n",
       "  <thead>\n",
       "    <tr style=\"text-align: right;\">\n",
       "      <th></th>\n",
       "      <th></th>\n",
       "      <th></th>\n",
       "      <th>outcome</th>\n",
       "    </tr>\n",
       "    <tr>\n",
       "      <th>month_id</th>\n",
       "      <th>country_id</th>\n",
       "      <th>draw</th>\n",
       "      <th></th>\n",
       "    </tr>\n",
       "  </thead>\n",
       "  <tbody>\n",
       "    <tr>\n",
       "      <th rowspan=\"5\" valign=\"top\">457</th>\n",
       "      <th rowspan=\"5\" valign=\"top\">1</th>\n",
       "      <th>0</th>\n",
       "      <td>0.0</td>\n",
       "    </tr>\n",
       "    <tr>\n",
       "      <th>1</th>\n",
       "      <td>0.0</td>\n",
       "    </tr>\n",
       "    <tr>\n",
       "      <th>2</th>\n",
       "      <td>0.0</td>\n",
       "    </tr>\n",
       "    <tr>\n",
       "      <th>3</th>\n",
       "      <td>0.0</td>\n",
       "    </tr>\n",
       "    <tr>\n",
       "      <th>4</th>\n",
       "      <td>2368.0</td>\n",
       "    </tr>\n",
       "  </tbody>\n",
       "</table>\n",
       "</div>"
      ],
      "text/plain": [
       "                         outcome\n",
       "month_id country_id draw        \n",
       "457      1          0        0.0\n",
       "                    1        0.0\n",
       "                    2        0.0\n",
       "                    3        0.0\n",
       "                    4     2368.0"
      ]
     },
     "execution_count": 16,
     "metadata": {},
     "output_type": "execute_result"
    }
   ],
   "source": [
    "actuals_by_year =  bootstrap_expand_single_point_predictions(ensemble_df=ensemble_df,draw_from_column='ln_ged_sb_dep',level='cm',year_list=year_list,draws=1000)\n",
    "\n",
    "describe_expanded(df=actuals_by_year[0]['actuals_df'], df_expanded=actuals_by_year[0]['expanded_df'], month=457, country=57)   \n",
    "\n",
    "actuals_by_year[0]['expanded_df'].head()"
   ]
  },
  {
   "cell_type": "markdown",
   "id": "8ad636f0",
   "metadata": {},
   "source": [
    "Check that mean and sigma are acceptably close between actuals and bootstraps:"
   ]
  },
  {
   "cell_type": "code",
   "execution_count": 17,
   "id": "680a9e7f",
   "metadata": {},
   "outputs": [
    {
     "data": {
      "text/plain": [
       "count    2292.000000\n",
       "mean       24.078098\n",
       "std       188.941513\n",
       "min         0.000000\n",
       "25%         0.000000\n",
       "50%         0.000000\n",
       "75%         0.000000\n",
       "max      2964.000000\n",
       "Name: ln_ged_sb_dep, dtype: float64"
      ]
     },
     "execution_count": 17,
     "metadata": {},
     "output_type": "execute_result"
    }
   ],
   "source": [
    "actuals_by_year[0]['actuals_df']['ln_ged_sb_dep'].describe()"
   ]
  },
  {
   "cell_type": "code",
   "execution_count": 18,
   "id": "ca7b6771",
   "metadata": {},
   "outputs": [
    {
     "data": {
      "text/html": [
       "<div>\n",
       "<style scoped>\n",
       "    .dataframe tbody tr th:only-of-type {\n",
       "        vertical-align: middle;\n",
       "    }\n",
       "\n",
       "    .dataframe tbody tr th {\n",
       "        vertical-align: top;\n",
       "    }\n",
       "\n",
       "    .dataframe thead th {\n",
       "        text-align: right;\n",
       "    }\n",
       "</style>\n",
       "<table border=\"1\" class=\"dataframe\">\n",
       "  <thead>\n",
       "    <tr style=\"text-align: right;\">\n",
       "      <th></th>\n",
       "      <th>outcome</th>\n",
       "    </tr>\n",
       "  </thead>\n",
       "  <tbody>\n",
       "    <tr>\n",
       "      <th>count</th>\n",
       "      <td>2.292000e+06</td>\n",
       "    </tr>\n",
       "    <tr>\n",
       "      <th>mean</th>\n",
       "      <td>2.410475e+01</td>\n",
       "    </tr>\n",
       "    <tr>\n",
       "      <th>std</th>\n",
       "      <td>1.887341e+02</td>\n",
       "    </tr>\n",
       "    <tr>\n",
       "      <th>min</th>\n",
       "      <td>0.000000e+00</td>\n",
       "    </tr>\n",
       "    <tr>\n",
       "      <th>25%</th>\n",
       "      <td>0.000000e+00</td>\n",
       "    </tr>\n",
       "    <tr>\n",
       "      <th>50%</th>\n",
       "      <td>0.000000e+00</td>\n",
       "    </tr>\n",
       "    <tr>\n",
       "      <th>75%</th>\n",
       "      <td>0.000000e+00</td>\n",
       "    </tr>\n",
       "    <tr>\n",
       "      <th>max</th>\n",
       "      <td>2.964000e+03</td>\n",
       "    </tr>\n",
       "  </tbody>\n",
       "</table>\n",
       "</div>"
      ],
      "text/plain": [
       "            outcome\n",
       "count  2.292000e+06\n",
       "mean   2.410475e+01\n",
       "std    1.887341e+02\n",
       "min    0.000000e+00\n",
       "25%    0.000000e+00\n",
       "50%    0.000000e+00\n",
       "75%    0.000000e+00\n",
       "max    2.964000e+03"
      ]
     },
     "execution_count": 18,
     "metadata": {},
     "output_type": "execute_result"
    }
   ],
   "source": [
    "pd.DataFrame(actuals_by_year[0]['expanded_df']['outcome']).astype('float64').describe()"
   ]
  },
  {
   "cell_type": "markdown",
   "id": "42c9744c",
   "metadata": {},
   "source": [
    "# Last historical values"
   ]
  },
  {
   "cell_type": "code",
   "execution_count": 11,
   "id": "a860a10e",
   "metadata": {},
   "outputs": [
    {
     "name": "stdout",
     "output_type": "stream",
     "text": [
      " .    "
     ]
    }
   ],
   "source": [
    "qs = (Queryset(\"benchmark_cm\", \"country_month\")\n",
    "\n",
    "   # target variable\n",
    "   .with_column(Column(\"ged_sb\", from_table=\"ged2_cm\", from_column=\"ged_sb_best_sum_nokgi\")\n",
    "                .transform.missing.fill()\n",
    "                .transform.missing.replace_na()\n",
    "                )\n",
    "\n",
    "\n",
    "   .with_theme(\"benchmark\")\n",
    "   .describe(\"\"\"Data for empirical benchmark model, cm level\n",
    "\n",
    "            \"\"\")\n",
    "   )\n",
    "df_cm_historical_values = qs.publish().fetch()\n",
    "df_cm_historical_values['prediction'] = np.nan\n",
    "\n",
    "for year in year_list:\n",
    "    for month in range(1,12+1):\n",
    "        this_month = ((year-1980)*12)+month\n",
    "        last_month_with_data = ((year-1980)*12)-2\n",
    "        this_shift = this_month - last_month_with_data\n",
    "#        print(year,month,last_month_with_data, this_shift)\n",
    "        \n",
    "        df_cm_historical_values['prediction'].loc[this_month] = df_cm_historical_values.groupby(['country_id'])['ged_sb'].shift(this_shift)\n",
    "\n",
    "df_cm_historical_values = df_cm_historical_values.loc[454:504]"
   ]
  },
  {
   "cell_type": "code",
   "execution_count": 12,
   "id": "2030af7b",
   "metadata": {},
   "outputs": [
    {
     "ename": "KeyError",
     "evalue": "'step_pred_3'",
     "output_type": "error",
     "traceback": [
      "\u001b[0;31m---------------------------------------------------------------------------\u001b[0m",
      "\u001b[0;31mKeyError\u001b[0m                                  Traceback (most recent call last)",
      "File \u001b[0;32m~/miniconda3/envs/viewser/lib/python3.9/site-packages/pandas/core/indexes/base.py:3802\u001b[0m, in \u001b[0;36mIndex.get_loc\u001b[0;34m(self, key, method, tolerance)\u001b[0m\n\u001b[1;32m   3801\u001b[0m \u001b[38;5;28;01mtry\u001b[39;00m:\n\u001b[0;32m-> 3802\u001b[0m     \u001b[38;5;28;01mreturn\u001b[39;00m \u001b[38;5;28;43mself\u001b[39;49m\u001b[38;5;241;43m.\u001b[39;49m\u001b[43m_engine\u001b[49m\u001b[38;5;241;43m.\u001b[39;49m\u001b[43mget_loc\u001b[49m\u001b[43m(\u001b[49m\u001b[43mcasted_key\u001b[49m\u001b[43m)\u001b[49m\n\u001b[1;32m   3803\u001b[0m \u001b[38;5;28;01mexcept\u001b[39;00m \u001b[38;5;167;01mKeyError\u001b[39;00m \u001b[38;5;28;01mas\u001b[39;00m err:\n",
      "File \u001b[0;32m~/miniconda3/envs/viewser/lib/python3.9/site-packages/pandas/_libs/index.pyx:138\u001b[0m, in \u001b[0;36mpandas._libs.index.IndexEngine.get_loc\u001b[0;34m()\u001b[0m\n",
      "File \u001b[0;32m~/miniconda3/envs/viewser/lib/python3.9/site-packages/pandas/_libs/index.pyx:165\u001b[0m, in \u001b[0;36mpandas._libs.index.IndexEngine.get_loc\u001b[0;34m()\u001b[0m\n",
      "File \u001b[0;32mpandas/_libs/hashtable_class_helper.pxi:5745\u001b[0m, in \u001b[0;36mpandas._libs.hashtable.PyObjectHashTable.get_item\u001b[0;34m()\u001b[0m\n",
      "File \u001b[0;32mpandas/_libs/hashtable_class_helper.pxi:5753\u001b[0m, in \u001b[0;36mpandas._libs.hashtable.PyObjectHashTable.get_item\u001b[0;34m()\u001b[0m\n",
      "\u001b[0;31mKeyError\u001b[0m: 'step_pred_3'",
      "\nThe above exception was the direct cause of the following exception:\n",
      "\u001b[0;31mKeyError\u001b[0m                                  Traceback (most recent call last)",
      "Cell \u001b[0;32mIn[12], line 1\u001b[0m\n\u001b[0;32m----> 1\u001b[0m sc_predictions_last_historical \u001b[38;5;241m=\u001b[39m  \u001b[43mpoisson_expand_single_point_predictions\u001b[49m\u001b[43m(\u001b[49m\u001b[43mensemble_df\u001b[49m\u001b[38;5;241;43m=\u001b[39;49m\u001b[43mdf_cm_historical_values\u001b[49m\u001b[43m,\u001b[49m\u001b[43mlevel\u001b[49m\u001b[38;5;241;43m=\u001b[39;49m\u001b[38;5;124;43m'\u001b[39;49m\u001b[38;5;124;43mcm\u001b[39;49m\u001b[38;5;124;43m'\u001b[39;49m\u001b[43m,\u001b[49m\u001b[43myear_list\u001b[49m\u001b[38;5;241;43m=\u001b[39;49m\u001b[43myear_list\u001b[49m\u001b[43m,\u001b[49m\u001b[43mdraws\u001b[49m\u001b[38;5;241;43m=\u001b[39;49m\u001b[38;5;241;43m1000\u001b[39;49m\u001b[43m)\u001b[49m\n\u001b[1;32m      3\u001b[0m describe_expanded(df\u001b[38;5;241m=\u001b[39msc_predictions_last_historical[\u001b[38;5;241m0\u001b[39m][\u001b[38;5;124m'\u001b[39m\u001b[38;5;124mprediction_df\u001b[39m\u001b[38;5;124m'\u001b[39m], df_expanded\u001b[38;5;241m=\u001b[39msc_predictions_last_historical[\u001b[38;5;241m0\u001b[39m][\u001b[38;5;124m'\u001b[39m\u001b[38;5;124mexpanded_df\u001b[39m\u001b[38;5;124m'\u001b[39m], month\u001b[38;5;241m=\u001b[39m\u001b[38;5;241m457\u001b[39m, country\u001b[38;5;241m=\u001b[39m\u001b[38;5;241m57\u001b[39m)   \n\u001b[1;32m      4\u001b[0m sc_predictions_last_historical[\u001b[38;5;241m0\u001b[39m][\u001b[38;5;124m'\u001b[39m\u001b[38;5;124mexpanded_df\u001b[39m\u001b[38;5;124m'\u001b[39m]\u001b[38;5;241m.\u001b[39mhead()\n",
      "File \u001b[0;32m~/Work/ViEWS/ViEWS3/prediction_competition_2023/BenchmarkModels.py:128\u001b[0m, in \u001b[0;36mpoisson_expand_single_point_predictions\u001b[0;34m(ensemble_df, level, year_list, draws)\u001b[0m\n\u001b[1;32m    123\u001b[0m sc_predictions_ensemble \u001b[38;5;241m=\u001b[39m []\n\u001b[1;32m    125\u001b[0m \u001b[38;5;28;01mfor\u001b[39;00m year \u001b[38;5;129;01min\u001b[39;00m year_list:\n\u001b[1;32m    126\u001b[0m     sc_dict \u001b[38;5;241m=\u001b[39m {\n\u001b[1;32m    127\u001b[0m         \u001b[38;5;124m'\u001b[39m\u001b[38;5;124myear\u001b[39m\u001b[38;5;124m'\u001b[39m: year,\n\u001b[0;32m--> 128\u001b[0m         \u001b[38;5;124m'\u001b[39m\u001b[38;5;124mprediction_df\u001b[39m\u001b[38;5;124m'\u001b[39m: \u001b[43mextract_sc_predictions\u001b[49m\u001b[43m(\u001b[49m\u001b[43myear\u001b[49m\u001b[38;5;241;43m=\u001b[39;49m\u001b[43myear\u001b[49m\u001b[43m,\u001b[49m\u001b[43mss_predictions\u001b[49m\u001b[38;5;241;43m=\u001b[39;49m\u001b[43mensemble_df\u001b[49m\u001b[43m)\u001b[49m\n\u001b[1;32m    129\u001b[0m     }\n\u001b[1;32m    130\u001b[0m     sc_predictions_ensemble\u001b[38;5;241m.\u001b[39mappend(sc_dict)\n\u001b[1;32m    132\u001b[0m \u001b[38;5;66;03m# Expanding by drawing n draws from Poisson distribution   \u001b[39;00m\n",
      "File \u001b[0;32m~/Work/ViEWS/ViEWS3/prediction_competition_2023/BenchmarkModels.py:38\u001b[0m, in \u001b[0;36mextract_sc_predictions\u001b[0;34m(year, ss_predictions)\u001b[0m\n\u001b[1;32m     36\u001b[0m         df_temp \u001b[38;5;241m=\u001b[39m df\u001b[38;5;241m.\u001b[39mloc[this_month]\n\u001b[1;32m     37\u001b[0m \u001b[38;5;66;03m#        print(df_temp[this_col].values)\u001b[39;00m\n\u001b[0;32m---> 38\u001b[0m         df_temp[\u001b[38;5;124m'\u001b[39m\u001b[38;5;124mprediction\u001b[39m\u001b[38;5;124m'\u001b[39m] \u001b[38;5;241m=\u001b[39m np\u001b[38;5;241m.\u001b[39mexpm1(\u001b[43mdf_temp\u001b[49m\u001b[43m[\u001b[49m\u001b[43mthis_col\u001b[49m\u001b[43m]\u001b[49m\u001b[38;5;241m.\u001b[39mvalues) \n\u001b[1;32m     39\u001b[0m         df[\u001b[38;5;124m'\u001b[39m\u001b[38;5;124mprediction\u001b[39m\u001b[38;5;124m'\u001b[39m]\u001b[38;5;241m.\u001b[39mloc[this_month] \u001b[38;5;241m=\u001b[39m df_temp[\u001b[38;5;124m'\u001b[39m\u001b[38;5;124mprediction\u001b[39m\u001b[38;5;124m'\u001b[39m]\u001b[38;5;241m.\u001b[39mvalues\n\u001b[1;32m     40\u001b[0m     \u001b[38;5;28;01mreturn\u001b[39;00m pd\u001b[38;5;241m.\u001b[39mDataFrame(df[\u001b[38;5;124m'\u001b[39m\u001b[38;5;124mprediction\u001b[39m\u001b[38;5;124m'\u001b[39m])\n",
      "File \u001b[0;32m~/miniconda3/envs/viewser/lib/python3.9/site-packages/pandas/core/frame.py:3807\u001b[0m, in \u001b[0;36mDataFrame.__getitem__\u001b[0;34m(self, key)\u001b[0m\n\u001b[1;32m   3805\u001b[0m \u001b[38;5;28;01mif\u001b[39;00m \u001b[38;5;28mself\u001b[39m\u001b[38;5;241m.\u001b[39mcolumns\u001b[38;5;241m.\u001b[39mnlevels \u001b[38;5;241m>\u001b[39m \u001b[38;5;241m1\u001b[39m:\n\u001b[1;32m   3806\u001b[0m     \u001b[38;5;28;01mreturn\u001b[39;00m \u001b[38;5;28mself\u001b[39m\u001b[38;5;241m.\u001b[39m_getitem_multilevel(key)\n\u001b[0;32m-> 3807\u001b[0m indexer \u001b[38;5;241m=\u001b[39m \u001b[38;5;28;43mself\u001b[39;49m\u001b[38;5;241;43m.\u001b[39;49m\u001b[43mcolumns\u001b[49m\u001b[38;5;241;43m.\u001b[39;49m\u001b[43mget_loc\u001b[49m\u001b[43m(\u001b[49m\u001b[43mkey\u001b[49m\u001b[43m)\u001b[49m\n\u001b[1;32m   3808\u001b[0m \u001b[38;5;28;01mif\u001b[39;00m is_integer(indexer):\n\u001b[1;32m   3809\u001b[0m     indexer \u001b[38;5;241m=\u001b[39m [indexer]\n",
      "File \u001b[0;32m~/miniconda3/envs/viewser/lib/python3.9/site-packages/pandas/core/indexes/base.py:3804\u001b[0m, in \u001b[0;36mIndex.get_loc\u001b[0;34m(self, key, method, tolerance)\u001b[0m\n\u001b[1;32m   3802\u001b[0m     \u001b[38;5;28;01mreturn\u001b[39;00m \u001b[38;5;28mself\u001b[39m\u001b[38;5;241m.\u001b[39m_engine\u001b[38;5;241m.\u001b[39mget_loc(casted_key)\n\u001b[1;32m   3803\u001b[0m \u001b[38;5;28;01mexcept\u001b[39;00m \u001b[38;5;167;01mKeyError\u001b[39;00m \u001b[38;5;28;01mas\u001b[39;00m err:\n\u001b[0;32m-> 3804\u001b[0m     \u001b[38;5;28;01mraise\u001b[39;00m \u001b[38;5;167;01mKeyError\u001b[39;00m(key) \u001b[38;5;28;01mfrom\u001b[39;00m \u001b[38;5;21;01merr\u001b[39;00m\n\u001b[1;32m   3805\u001b[0m \u001b[38;5;28;01mexcept\u001b[39;00m \u001b[38;5;167;01mTypeError\u001b[39;00m:\n\u001b[1;32m   3806\u001b[0m     \u001b[38;5;66;03m# If we have a listlike key, _check_indexing_error will raise\u001b[39;00m\n\u001b[1;32m   3807\u001b[0m     \u001b[38;5;66;03m#  InvalidIndexError. Otherwise we fall through and re-raise\u001b[39;00m\n\u001b[1;32m   3808\u001b[0m     \u001b[38;5;66;03m#  the TypeError.\u001b[39;00m\n\u001b[1;32m   3809\u001b[0m     \u001b[38;5;28mself\u001b[39m\u001b[38;5;241m.\u001b[39m_check_indexing_error(key)\n",
      "\u001b[0;31mKeyError\u001b[0m: 'step_pred_3'"
     ]
    }
   ],
   "source": [
    "\n",
    "sc_predictions_last_historical =  poisson_expand_single_point_predictions(ensemble_df=df_cm_historical_values,level='cm',year_list=year_list,draws=1000)\n",
    "\n",
    "describe_expanded(df=sc_predictions_last_historical[0]['prediction_df'], df_expanded=sc_predictions_last_historical[0]['expanded_df'], month=457, country=57)   \n",
    "sc_predictions_last_historical[0]['expanded_df'].head()"
   ]
  },
  {
   "cell_type": "markdown",
   "id": "beeb5039",
   "metadata": {},
   "source": [
    "## Constituent model predictions"
   ]
  },
  {
   "cell_type": "code",
   "execution_count": null,
   "id": "5f27d856",
   "metadata": {},
   "outputs": [],
   "source": [
    "# Retrieve the model predictions\n",
    "# Using code from the VIEWS fatalities002 system\n",
    "\n",
    "# 20 models: 1 \"draw\" from each of 20 constituent models, expanded with 50 draws from Poisson distribution for each model.\n",
    "\n",
    "from ModelDefinitions import DefineEnsembleModels\n",
    "\n",
    "level = 'cm'\n",
    "ModelList_cm = DefineEnsembleModels(level)\n",
    "ModelList_cm = ModelList_cm[0:20] # Drop Markov models\n",
    "#ModelList_cm = ModelList_cm[0:3] # For debugging\n",
    "\n",
    "i = 0\n",
    "for model in ModelList_cm:\n",
    "    print(i, model['modelname'], model['data_train'])\n",
    "    i = i + 1\n",
    "\n",
    "# Retrieving the predictions for calibration and test partitions\n",
    "# The ModelList contains the predictions organized by model\n",
    "from Ensembling import CalibratePredictions, RetrieveStoredPredictions, mean_sd_calibrated, gam_calibrated\n",
    "\n",
    "ModelList_cm = RetrieveStoredPredictions(ModelList_cm, steps, EndOfHistory, dev_id, level, get_future)\n",
    "\n",
    "ModelList_cm = CalibratePredictions(ModelList_cm, EndOfHistory, steps)"
   ]
  },
  {
   "cell_type": "code",
   "execution_count": null,
   "id": "120f9da4",
   "metadata": {},
   "outputs": [],
   "source": [
    "sc_predictions_constituent =  poisson_expand_multiple_point_predictions(ModelList=ModelList_cm,level='cm',year_list=year_list,draws=1000)\n"
   ]
  },
  {
   "cell_type": "code",
   "execution_count": null,
   "id": "803ed1a3",
   "metadata": {},
   "outputs": [],
   "source": [
    "sc_predictions_constituent[0]['expanded_df'].tail()"
   ]
  },
  {
   "cell_type": "markdown",
   "id": "9cdd94ba",
   "metadata": {},
   "source": [
    "# Saving the cm benchmark models"
   ]
  },
  {
   "cell_type": "code",
   "execution_count": null,
   "id": "3d18ad9f",
   "metadata": {},
   "outputs": [],
   "source": [
    "model_names = ['ensemble','constituent']\n",
    "model_list = [sc_predictions_ensemble,sc_predictions_constituent]\n",
    "\n",
    "save_models('cm',model_names,model_list, filepath)\n",
    "save_actuals('cm',ensemble_df, filepath, year_list)"
   ]
  },
  {
   "cell_type": "markdown",
   "id": "e96fc279",
   "metadata": {},
   "source": [
    "# pgm level"
   ]
  },
  {
   "cell_type": "code",
   "execution_count": null,
   "id": "e39ef3d5",
   "metadata": {},
   "outputs": [],
   "source": [
    "# Expand ensemble predictions:\n",
    "ensemble_df = pd.DataFrame.forecasts.read_store('pgm_ensemble_cm_calib_test', run=dev_id)[stepcols]\n",
    "ensemble_df.head()\n",
    "\n",
    "\n",
    "sc_predictions_ensemble_pgm = poisson_expand_single_point_predictions(ensemble_df=ensemble_df,year_list=year_list,draws=100,level='pgm')\n",
    "\n",
    "sc_predictions_ensemble_pgm[0]['expanded_df'].head()\n",
    "\n"
   ]
  },
  {
   "cell_type": "code",
   "execution_count": null,
   "id": "868f537c",
   "metadata": {},
   "outputs": [],
   "source": [
    "# Saving \n",
    "model_names = ['ensemble','constituent']\n",
    "model_list = [sc_predictions_ensemble_pgm]\n",
    "\n",
    "save_models('pgm',model_names,model_list, filepath)\n",
    "#save_cm_actuals(ensemble_df, filepath, year_list)\n",
    "\n",
    "\n"
   ]
  },
  {
   "cell_type": "code",
   "execution_count": null,
   "id": "8cbb3b52",
   "metadata": {},
   "outputs": [],
   "source": []
  }
 ],
 "metadata": {
  "kernelspec": {
   "display_name": "Python 3 (ipykernel)",
   "language": "python",
   "name": "python3"
  },
  "language_info": {
   "codemirror_mode": {
    "name": "ipython",
    "version": 3
   },
   "file_extension": ".py",
   "mimetype": "text/x-python",
   "name": "python",
   "nbconvert_exporter": "python",
   "pygments_lexer": "ipython3",
   "version": "3.9.16"
  }
 },
 "nbformat": 4,
 "nbformat_minor": 5
}
